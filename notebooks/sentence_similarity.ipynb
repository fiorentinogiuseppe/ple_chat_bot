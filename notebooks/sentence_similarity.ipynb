{
 "cells": [
  {
   "cell_type": "code",
   "execution_count": 13,
   "metadata": {
    "collapsed": true
   },
   "outputs": [],
   "source": [
    "from sklearn.metrics.pairwise import cosine_similarity\n",
    "import numpy as np\n",
    "from gensim.models import KeyedVectors\n",
    "import nltk\n",
    "import re\n"
   ]
  },
  {
   "cell_type": "code",
   "execution_count": null,
   "outputs": [],
   "source": [
    "# load model\n",
    "word2vec_model = KeyedVectors.load_word2vec_format(\"../resources/wordembeeding/glove_s50.txt\", binary=False)\n"
   ],
   "metadata": {
    "collapsed": false,
    "pycharm": {
     "name": "#%%\n"
    }
   }
  },
  {
   "cell_type": "code",
   "execution_count": 10,
   "outputs": [],
   "source": [
    "def avg_sentence_vector(words, model, num_features, index2word_set):\n",
    "    # function to average all words vectors in a given paragraph\n",
    "    featureVec = np.zeros((num_features,), dtype=\"float32\")\n",
    "    nwords = 0\n",
    "\n",
    "    for word in words:\n",
    "        if word in index2word_set:\n",
    "            nwords = nwords + 1\n",
    "            featureVec = np.add(featureVec, model[word])\n",
    "\n",
    "    if nwords > 0:\n",
    "        featureVec = np.divide(featureVec, nwords)\n",
    "    return featureVec"
   ],
   "metadata": {
    "collapsed": false,
    "pycharm": {
     "name": "#%%\n"
    }
   }
  },
  {
   "cell_type": "code",
   "execution_count": 43,
   "outputs": [],
   "source": [
    "def clear_text(text):\n",
    "    stopwords = nltk.corpus.stopwords.words('portuguese')\n",
    "    text_cleaned = re.sub(r\"[^a-zA-Z ]\", \"\", text)\n",
    "    text_list = text_cleaned.split(\" \")\n",
    "\n",
    "    cleaned_list = [w.lower() for w in text_list if w.lower() not in stopwords and w.lower()]\n",
    "\n",
    "    return cleaned_list"
   ],
   "metadata": {
    "collapsed": false,
    "pycharm": {
     "name": "#%%\n"
    }
   }
  },
  {
   "cell_type": "code",
   "execution_count": null,
   "outputs": [],
   "source": [
    "# load text and clear\n",
    "text = \"ficam estabelecidas regras sobre a oferta especial de unidadescurriculares nos cursos presenciais de graduação durante o período letivo excepcional (ple),1 instituído enquanto forem necessárias medidas de isolamento social como enfrentamento dacovid-19, de acordo com a administração superior da ufrpe.parágrafo único. o semestre letivo 2020.1 permanece suspenso para oscursos presenciais de graduação da ufrpe. para o ple, os estudantes dos cursos presenciais devem realizarnovo procedimento de matrícula, conforme calendário aprovado pela pró-reitoria de ensino degraduação (preg) e critérios dispostos neste regulamento. no ple, as atividades acadêmicas dos cursos presenciais noâmbito da graduação serão realizadas por meio de ensino remoto, priorizando-se práticaspedagógicas mediadas por tecnologias digitais para apoiar processos de ensino-aprendizagem.\"\n",
    "cleaned = clear_text(text)"
   ],
   "metadata": {
    "collapsed": false,
    "pycharm": {
     "name": "#%%\n"
    }
   }
  },
  {
   "cell_type": "code",
   "execution_count": 45,
   "outputs": [],
   "source": [
    "# get average vector for sentence 1\n",
    "sentence_1_avg_vector = avg_sentence_vector(cleaned, model=word2vec_model, num_features=50, index2word_set= set(word2vec_model.index2word))"
   ],
   "metadata": {
    "collapsed": false,
    "pycharm": {
     "name": "#%%\n"
    }
   }
  },
  {
   "cell_type": "code",
   "execution_count": null,
   "outputs": [],
   "source": [
    "# similarity\n",
    "sen1_sen2_similarity = cosine_similarity(sentence_1_avg_vector, sentence_1_avg_vector)\n"
   ],
   "metadata": {
    "collapsed": false,
    "pycharm": {
     "name": "#%%\n"
    }
   }
  }
 ],
 "metadata": {
  "kernelspec": {
   "display_name": "Python 3",
   "language": "python",
   "name": "python3"
  },
  "language_info": {
   "codemirror_mode": {
    "name": "ipython",
    "version": 2
   },
   "file_extension": ".py",
   "mimetype": "text/x-python",
   "name": "python",
   "nbconvert_exporter": "python",
   "pygments_lexer": "ipython2",
   "version": "2.7.6"
  }
 },
 "nbformat": 4,
 "nbformat_minor": 0
}