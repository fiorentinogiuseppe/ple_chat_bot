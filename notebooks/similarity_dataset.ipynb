{
 "cells": [
  {
   "cell_type": "code",
   "execution_count": 1,
   "metadata": {
    "pycharm": {
     "name": "#%%\n"
    }
   },
   "outputs": [],
   "source": [
    "from sklearn.metrics.pairwise import cosine_similarity\n",
    "import numpy as np\n",
    "from gensim.models import KeyedVectors\n",
    "import nltk\n",
    "import re\n",
    "import json\n",
    "from  pathlib import Path\n",
    "from unidecode import unidecode"
   ]
  },
  {
   "cell_type": "code",
   "execution_count": 2,
   "metadata": {
    "pycharm": {
     "name": "#%%\n"
    }
   },
   "outputs": [],
   "source": [
    "# load model\n",
    "word2vec_model = KeyedVectors.load_word2vec_format(\"../resources/wordembeeding/glove_s50.txt\", binary=False)"
   ]
  },
  {
   "cell_type": "code",
   "execution_count": 3,
   "metadata": {
    "pycharm": {
     "name": "#%%\n"
    }
   },
   "outputs": [],
   "source": [
    "def avg_sentence_vector(words, model, num_features, index2word_set):\n",
    "    # function to average all words vectors in a given paragraph\n",
    "    featureVec = np.zeros((num_features,), dtype=\"float32\")\n",
    "    nwords = 0\n",
    "\n",
    "    for word in words:\n",
    "        if word in index2word_set:\n",
    "            nwords = nwords + 1\n",
    "            featureVec = np.add(featureVec, model[word])\n",
    "\n",
    "    if nwords > 0:\n",
    "        featureVec = np.divide(featureVec, nwords)\n",
    "    return featureVec"
   ]
  },
  {
   "cell_type": "code",
   "execution_count": 4,
   "metadata": {
    "pycharm": {
     "name": "#%%\n"
    }
   },
   "outputs": [],
   "source": [
    "def clear_text(text):\n",
    "    stopwords = nltk.corpus.stopwords.words('portuguese')\n",
    "    u = unidecode(text)\n",
    "    text_cleaned = re.sub(r\"[^a-zA-Z ]\", \"\", u)\n",
    "    text_list = text_cleaned.split(\" \")\n",
    "\n",
    "    cleaned_list = [w.lower() for w in text_list if w.lower() not in stopwords and w.lower()]\n",
    "\n",
    "    return ' '.join(cleaned_list)"
   ]
  },
  {
   "cell_type": "code",
   "execution_count": 5,
   "metadata": {
    "pycharm": {
     "name": "#%%\n"
    }
   },
   "outputs": [],
   "source": [
    "path = Path(\"../resources/ufrpe/qa.txt\")\n",
    "with open(path, 'r') as f:\n",
    "    qa = []\n",
    "    for line in f.readlines():\n",
    "        qa.append(json.loads(line))"
   ]
  },
  {
   "cell_type": "code",
   "execution_count": 6,
   "metadata": {
    "pycharm": {
     "name": "#%%\n"
    }
   },
   "outputs": [],
   "source": [
    "with open('../resources/documento_oficial.json') as json_file:\n",
    "    documento_oficial = json.load(json_file)"
   ]
  },
  {
   "cell_type": "code",
   "execution_count": 7,
   "metadata": {
    "pycharm": {
     "name": "#%%\n"
    }
   },
   "outputs": [],
   "source": [
    "def compare(contextos, quesito):\n",
    "    maxx = 0\n",
    "    text = \"\"\n",
    "    for k,v in contextos.items():\n",
    "        for kk, vv in v.items():\n",
    "            for vvv in vv:\n",
    "                cleanded_1 = clear_text(vvv)\n",
    "                sentence_1_avg_vector = avg_sentence_vector(cleanded_1, model=word2vec_model, num_features=50, index2word_set= set(word2vec_model.index2word))\n",
    "                sentence_2_avg_vector = avg_sentence_vector(quesito, model=word2vec_model, num_features=50, index2word_set= set(word2vec_model.index2word))\n",
    "                sen1_sen2_similarity = cosine_similarity(sentence_1_avg_vector.reshape(1,-1), sentence_2_avg_vector.reshape(1,-1))[0][0]\n",
    "                if sen1_sen2_similarity > maxx:\n",
    "                    maxx = sen1_sen2_similarity\n",
    "                    text = cleanded_1\n",
    "    return maxx, text"
   ]
  },
  {
   "cell_type": "code",
   "execution_count": 8,
   "outputs": [],
   "source": [
    "import random\n",
    "def uniqueid():\n",
    "    seed = random.getrandbits(32)\n",
    "    while True:\n",
    "       yield seed\n",
    "       seed += 1"
   ],
   "metadata": {
    "collapsed": false,
    "pycharm": {
     "name": "#%%\n"
    }
   }
  },
  {
   "cell_type": "code",
   "execution_count": 10,
   "metadata": {
    "pycharm": {
     "name": "#%%\n"
    }
   },
   "outputs": [
    {
     "name": "stdout",
     "output_type": "stream",
     "text": [
      "0.0%\n",
      "1.0526315789473684%\n",
      "2.1052631578947367%\n",
      "3.1578947368421053%\n",
      "4.2105263157894735%\n",
      "5.263157894736842%\n",
      "6.315789473684211%\n",
      "7.368421052631578%\n",
      "8.421052631578947%\n",
      "9.473684210526317%\n",
      "10.526315789473683%\n",
      "11.578947368421053%\n",
      "12.631578947368421%\n",
      "13.684210526315791%\n",
      "14.736842105263156%\n",
      "15.789473684210526%\n",
      "16.842105263157894%\n",
      "17.894736842105264%\n",
      "18.947368421052634%\n",
      "20.0%\n",
      "21.052631578947366%\n",
      "22.105263157894736%\n",
      "23.157894736842106%\n",
      "24.210526315789473%\n",
      "25.263157894736842%\n",
      "26.31578947368421%\n",
      "27.368421052631582%\n",
      "28.421052631578945%\n",
      "29.47368421052631%\n",
      "30.526315789473685%\n",
      "31.57894736842105%\n",
      "32.631578947368425%\n",
      "33.68421052631579%\n",
      "34.73684210526316%\n",
      "35.78947368421053%\n",
      "36.84210526315789%\n",
      "37.89473684210527%\n",
      "38.94736842105263%\n",
      "40.0%\n",
      "41.05263157894737%\n",
      "42.10526315789473%\n",
      "43.15789473684211%\n",
      "44.21052631578947%\n",
      "45.26315789473684%\n",
      "46.31578947368421%\n",
      "47.368421052631575%\n",
      "48.421052631578945%\n",
      "49.473684210526315%\n",
      "50.526315789473685%\n",
      "51.578947368421055%\n",
      "52.63157894736842%\n",
      "53.68421052631579%\n",
      "54.736842105263165%\n",
      "55.78947368421052%\n",
      "56.84210526315789%\n",
      "57.89473684210527%\n",
      "58.94736842105262%\n",
      "60.0%\n",
      "61.05263157894737%\n",
      "62.10526315789474%\n",
      "63.1578947368421%\n",
      "64.21052631578948%\n",
      "65.26315789473685%\n",
      "66.3157894736842%\n",
      "67.36842105263158%\n",
      "68.42105263157895%\n",
      "69.47368421052632%\n",
      "70.52631578947368%\n",
      "71.57894736842105%\n",
      "72.63157894736842%\n",
      "73.68421052631578%\n",
      "74.73684210526315%\n",
      "75.78947368421053%\n",
      "76.84210526315789%\n",
      "77.89473684210526%\n",
      "78.94736842105263%\n",
      "80.0%\n",
      "81.05263157894737%\n",
      "82.10526315789474%\n",
      "83.15789473684211%\n",
      "84.21052631578947%\n",
      "85.26315789473684%\n",
      "86.31578947368422%\n",
      "87.36842105263159%\n",
      "88.42105263157895%\n",
      "89.47368421052632%\n",
      "90.52631578947368%\n",
      "91.57894736842105%\n",
      "92.63157894736842%\n",
      "93.6842105263158%\n",
      "94.73684210526315%\n",
      "95.78947368421052%\n",
      "96.84210526315789%\n",
      "97.89473684210527%\n",
      "98.94736842105263%\n"
     ]
    }
   ],
   "source": [
    "dataset = []\n",
    "unique_sequence = uniqueid()\n",
    "# https://github.com/ThilinaRajapakse/simpletransformers#question-answering usei essa estrutura\n",
    "for enum,quesito in enumerate(qa):\n",
    "    print(\"{}%\".format((enum/len(qa))*100))\n",
    "    q = clear_text(quesito[\"pergunta\"])\n",
    "    similaridade, contexto = compare(documento_oficial, q)\n",
    "    dataset.append(\n",
    "        {\"context\":contexto,\n",
    "            'qas' : [{\n",
    "                    'id':str(next(unique_sequence)),\n",
    "                    'is_impossible':True,\n",
    "                    'question':quesito[\"pergunta\"],\n",
    "                    'answers':[{\n",
    "                        'text':quesito['resposta'],\n",
    "                        'answer_start':0\n",
    "                    }]\n",
    "            }]\n",
    "         }\n",
    "    )"
   ]
  },
  {
   "cell_type": "code",
   "execution_count": 11,
   "metadata": {
    "pycharm": {
     "name": "#%%\n"
    }
   },
   "outputs": [],
   "source": [
    "import orjson\n",
    "\n",
    "with open(\"../resources/data_final.json\", 'wb') as f:\n",
    "    f.write(orjson.dumps(dataset, option=orjson.OPT_NAIVE_UTC | orjson.OPT_SERIALIZE_NUMPY))"
   ]
  },
  {
   "cell_type": "code",
   "execution_count": 17,
   "outputs": [
    {
     "data": {
      "text/plain": "{'context': 'atividades pedagogicas utilizadas computo carga horaria tambem poderao ser utilizadas instrumentos avaliacao',\n 'qas': [{'id': '4133842354',\n   'is_impossible': True,\n   'question': 'As aulas serão disponibilizadas no AVA, SIGAA ou em alguma outra plataforma?',\n   'answers': [{'text': 'Recomenda-se o uso do AVA e do SIGAA, mas outras plataformas como o Google Classroom também podem ser usadas. Caso o professor tenha aulas gravadas, ele poderá disponibilizá-las nestas plataformas. Caso sejam realizados encontros síncronos, estes encontros poderão ser gravados pelo professor e disponibilizados posteriormente, na plataforma adotada.',\n     'answer_start': 0}]}]}"
     },
     "execution_count": 17,
     "metadata": {},
     "output_type": "execute_result"
    }
   ],
   "source": [
    "dataset[3]"
   ],
   "metadata": {
    "collapsed": false,
    "pycharm": {
     "name": "#%%\n"
    }
   }
  }
 ],
 "metadata": {
  "kernelspec": {
   "display_name": "Python 3",
   "language": "python",
   "name": "python3"
  },
  "language_info": {
   "codemirror_mode": {
    "name": "ipython",
    "version": 3
   },
   "file_extension": ".py",
   "mimetype": "text/x-python",
   "name": "python",
   "nbconvert_exporter": "python",
   "pygments_lexer": "ipython3",
   "version": "3.6.11"
  }
 },
 "nbformat": 4,
 "nbformat_minor": 1
}