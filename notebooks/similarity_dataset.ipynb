{
 "cells": [
  {
   "cell_type": "code",
   "execution_count": 2,
   "metadata": {
    "pycharm": {
     "name": "#%%\n"
    }
   },
   "outputs": [],
   "source": [
    "from sklearn.metrics.pairwise import cosine_similarity\n",
    "import numpy as np\n",
    "from gensim.models import KeyedVectors\n",
    "import nltk\n",
    "import re\n",
    "import json\n",
    "from  pathlib import Path\n",
    "from unidecode import unidecode"
   ]
  },
  {
   "cell_type": "code",
   "execution_count": 2,
   "metadata": {
    "pycharm": {
     "name": "#%%\n"
    }
   },
   "outputs": [],
   "source": [
    "# load model\n",
    "word2vec_model = KeyedVectors.load_word2vec_format(\"../resources/wordembeeding/glove_s50.txt\", binary=False)"
   ]
  },
  {
   "cell_type": "code",
   "execution_count": 3,
   "metadata": {
    "pycharm": {
     "name": "#%%\n"
    }
   },
   "outputs": [],
   "source": [
    "def avg_sentence_vector(words, model, num_features, index2word_set):\n",
    "    # function to average all words vectors in a given paragraph\n",
    "    featureVec = np.zeros((num_features,), dtype=\"float32\")\n",
    "    nwords = 0\n",
    "\n",
    "    for word in words:\n",
    "        if word in index2word_set:\n",
    "            nwords = nwords + 1\n",
    "            featureVec = np.add(featureVec, model[word])\n",
    "\n",
    "    if nwords > 0:\n",
    "        featureVec = np.divide(featureVec, nwords)\n",
    "    return featureVec"
   ]
  },
  {
   "cell_type": "code",
   "execution_count": 4,
   "metadata": {
    "pycharm": {
     "name": "#%%\n"
    }
   },
   "outputs": [],
   "source": [
    "def clear_text(text):\n",
    "    stopwords = nltk.corpus.stopwords.words('portuguese')\n",
    "    u = unidecode(text)\n",
    "    text_cleaned = re.sub(r\"[^a-zA-Z ]\", \"\", u)\n",
    "    text_list = text_cleaned.split(\" \")\n",
    "\n",
    "    cleaned_list = [w.lower() for w in text_list if w.lower() not in stopwords and w.lower()]\n",
    "\n",
    "    return ' '.join(cleaned_list)"
   ]
  },
  {
   "cell_type": "code",
   "execution_count": 4,
   "metadata": {
    "pycharm": {
     "name": "#%%\n"
    }
   },
   "outputs": [],
   "source": [
    "path = Path(\"../resources/ufrpe/qa.txt\")\n",
    "with open(path, 'r') as f:\n",
    "    qa = []\n",
    "    for line in f.readlines():\n",
    "        qa.append(json.loads(line))"
   ]
  },
  {
   "cell_type": "code",
   "execution_count": 3,
   "metadata": {
    "pycharm": {
     "name": "#%%\n"
    }
   },
   "outputs": [],
   "source": [
    "with open('../resources/documento_oficial.json') as json_file:\n",
    "    documento_oficial = json.load(json_file)"
   ]
  },
  {
   "cell_type": "code",
   "execution_count": 5,
   "outputs": [
    {
     "data": {
      "text/plain": "{'TÍTULO I': {'DAS DISPOSIÇÕES PRELIMINARES': ['este regulamento tem por finalidade consolidar a normatização do período letivo excepcional (ple) no âmbito da graduação na universidade federal rural de pernambuco (ufrpe), em função da suspensão das atividades presenciais devido à pandemia david-19.',\n   'para os efeitos deste regulamento, considera-se ple aquele caracterizado pelas atividades acadêmicas, no âmbito da graduação, realizadas por meio de ensino remoto durante suspensão de atividades presenciais em virtude da pandemia do novo coronavírus (covid-19).',\n   'compreende-se ensino remoto como a realização de atividades de ensino mediadas pelo uso de tecnologias, caracterizadas pelo conjunto de ações de ensino-aprendizagem ou atos de currículo mediados por interfaces digitais que potencializam práticas comunicacionais interativas e hipertextuais, formato distinto da educação a distância (ead), compreendida como modalidade educacional que prioriza a mediação didático-pedagógica por meio de tecnologias digitais de informação e comunicação (tdic), com corpo profissional qualificado, políticas de acesso, acompanhamento e avaliação compatíveis na realização de atividades educativas por estudantes e profissionais da educação que estejam em lugares e tempos diversos. (decreto mec nº 9.057, de 25 de maio de 2017).',\n   'as atividades acadêmicas na modalidade a distância previstas na dinâmica da unidade acadêmica de educação a distância e tecnologia (uaeadtec) da universidade federal rural de pernambuco continuam sendo realizadas na modalidade ead, conforme normatização apresentada no título v deste regulamento.']},\n 'TÍTULO II': {'DAS ATIVIDADES ACADÊMICAS NO ÂMBITO DA GRADUAÇÃO POR MEIO DE ENSINO REMOTO': ['ficam estabelecidas regras sobre a oferta especial de unidades curriculares nos cursos presenciais de graduação durante o período letivo excepcional (ple), instituído enquanto forem necessárias medidas de isolamento social como enfrentamento david-19, de acordo com a administração superior da ufrpe.',\n   'o semestre letivo 2020.1 permanece suspenso para os cursos presenciais de graduação da ufrpe. para o ple, os estudantes dos cursos presenciais devem realizar novo procedimento de matrícula, conforme calendário aprovado pela pró-reitoria de ensino de graduação (preg) e critérios dispostos neste regulamento. no ple, as atividades acadêmicas dos cursos presenciais no âmbito da graduação serão realizadas por meio de ensino remoto, priorizando-se práticas pedagógicas mediadas por tecnologias digitais para apoiar processos de ensino-aprendizagem.',\n   'do calendário acadêmico o calendário acadêmico deverá ser flexibilizado, de acordo comas demandas do ensino remoto para os cursos presenciais de graduação da ufrpe.',\n   'no ple, o calendário acadêmico terá duração de 10(dez) semanas no âmbito dos cursos presenciais de graduação da ufrpe, conforme proposta de ensino remoto.',\n   'para os cursos ofertados na modalidade a distância pela eartec, o calendário acadêmico seguirá a normatização apresentada no título v deste regulamento.',\n   'as aulas e demais atividades acadêmicas referentes aos semestres letivos de 2020.1 e 2020.2 dos cursos presenciais de graduação da ufrpe serão reorganizadas, de forma gradual, garantindo o padrão de qualidade de ensino oferecido por esta instituição.',\n   'o ensino remoto prioriza a mediação pedagógica por meio de tecnologias e plataformas digitais para apoiar processos de ensino e aprendizagem em resposta à suspensão de aulas e atividades presenciais em escolas e universidades no cenário da pandemia do novo coronavírus (covid-19).',\n   'a aplicação do ensino remoto não constitui transposição dos perfis dos cursos de graduação para a modalidade de educação a distância, visto que esta se caracteriza por outras premissas que lhe são próprias, conforme regulamentação própria, a exemplo do decreto nº 9.057, de 25 de maio de 2017 e da portaria normativa mec nº2.117, de 6 de dezembro de 2019.',\n   'as atividades pedagógicas não presenciais podem ser realizadas por meio de interações síncronas e/ou assíncronas, priorizando-se as atividades desconectadas do momento real dos processos comunicativos mediados por tecnologias digitais, por proporcionarem maior flexibilização temporal e espacial.',\n   'as interações síncronas são aquelas realizadas com acesso simultâneo às tecnologias digitais, propiciando aos participantes conexão ao mesmo tempo e no mesmo espaço virtual em que a interação está ocorrendo, considerando-se, como exemplos: bate-papos virtuais (chats), webconferências, áudio conferências, videoconferências, lives e outras;',\n   'as interações assíncronas não requerem simultaneidade no processode interação entre os participantes, permitindo maior flexibilidade temporal e especial, considerando-se, como exemplos: fóruns virtuais, blogs, wikis, videoaulas gravadas e outras;',\n   'na dinâmica das unidades curriculares, eventos planejados para dirimir dúvidas e/ou construção coletiva são estimulados a ocorrerem também de forma assíncrona, utilizando os canais de fóruns das plataformas de ensino remoto ou outros aplicativos;',\n   'sendo necessária a realização de atividade síncrona, recomenda-se que esta seja gravada e que seja disponibilizada na plataforma de ensino da unidade curricular para posterior acesso do estudante;',\n   'para realização de atividades síncronas, o docente deverá observar o horário definido para a unidade curricular no sistema de informação e gestão acadêmica(siga/sigaa).',\n   'para a realização de atividades de ensino remoto durante o ple, poderão ser utilizadas quaisquer plataformas digitais para apoiar processos de ensino e aprendizagem, considerando os ambientes virtuais de aprendizagem (ava) da ufrpe como preferenciais.',\n   'no plano de ensino da unidade curricular, o docente deverá indicar a plataforma digital que será utilizada nos processos de ensino e aprendizagem realizados de modo remoto, bem como recursos e tecnologias que irão apoiar os estudos do discente.',\n   'o planejamento das unidades curriculares pelos docentes deverá considerar a organização didática do ensino (anexo ii), compreendendo os itens previstos no plano de ensino remoto do curso (anexo iii), considerando: i — dados de identificação da unidade curricular (curso,departamento/unidade acadêmica, natureza e carga horária da unidade curricular, docente responsável); ii — ementa (sinopse do conteúdo); iii — objetivos (gerais e específicos); iv — conteúdo programático; v — métodos didáticos de ensino; vi — plataforma de ensino remoto; vii — critérios de avaliação; viii — cronograma (com detalhamento para 10 semanas); ix — bibliografia (básica e complementar).',\n   'a adesão ao período letivo excepcional é opcional para os docentes.',\n   'a oferta de unidades curriculares no ple não desobriga o docente de ofertar as referidas unidades no semestre letivo de 2020.1, conforme registrado no sistema de informação e gestão acadêmica (siga/sigaa).',\n   'poderão ser ofertadas unidades curriculares obrigatórias e optativas.',\n   'fica facultado ao docente ministrar unidades curriculares e/ou cursos livres durante o ple, bem como a quantidade de turmas a serem atendidas, respeitando-se a carga horária máxima estabelecida em seu regime de trabalho.',\n   'uma unidade curricular pode ser compartilhada por dois ou mais docentes.',\n   'o número de vagas disponíveis por turma ofertada será o definido no projeto pedagógico do curso de graduação (ppc).',\n   'em caso de demanda maior do que a oferta prevista no ppc do curso, o docente deverá ser consultado pela coordenação de curso sobre a possibilidade de ampliação de vagas.',\n   'a adesão docente ao ple deverá ser informada à chefia imediata nos departamentos ou à coordenação geral dos cursos de graduação nas unidades acadêmicas.',\n   'a oferta de unidades curriculares seguirá o trâmite regimental, adaptado à circunstância excepcional de adesão voluntária: i- o docente deverá informar à respectiva supervisão de área (no caso dos departamentos acadêmicos) ou à coordenação geral de cursos de graduação (no caso das unidades acadêmicas) a intenção de ministrar as unidades curriculares no ple; ii — a supervisão de área/coordenação geral de cursos de graduação deverá encaminhar a relação de oferta de unidades curriculares e lista de respectivos docentes à direção acadêmica do departamento/unidade acadêmica para homologação pelo conselho técnico administrativo (cta); ii — a direção do departamento acadêmico, independentemente da homologação no cta, encaminhará às coordenações de curso a relação de unidades curriculares e respectivos docentes; iv — caberá às coordenações gerais de curso das unidades acadêmicas ofertar as unidades curriculares assim como vinculá-las aos respectivos docentes.',\n   'caberá às coordenações de curso (sede) e ao apoio didático (nas unidades acadêmicas) realizar a oferta de unidades curriculares disponíveis para o ple no respectivo sistema de informação e gestão acadêmica (siga/sigaa) no prazo determinado pela pró-reitoria de ensino de graduação (preg);',\n   'a oferta de unidades curriculares informadas pelos departamentos ou unidades acadêmicas estará vinculada à aprovação dos planos de ensino pelo colegiado de coordenação didática (ccd) dos respectivos cursos.',\n   'para oferta de unidades curriculares, desenvolvidas por meio de atividades pedagógicas não presenciais, deve-se considerar: i - adequação dos conteúdos teóricos, práticos e estratégias metodológicas ao ensino remoto, sem comprometimento à aprendizagem; ii - consonância com o período de duração estipulado no calendário acadêmico (anexo jd); iii - realização de atividades pedagógicas não presenciais, priorizando atividades assíncronas; iv - ajustes quanto aos procedimentos de verificação de aprendizagem e frequência dos discentes.',\n   'no planejamento didático da unidade curricular, o docente deverá avaliar o tempo necessário para que o discente realize as atividades propostas no plano de ensino da unidade curricular.',\n   'a transposição da carga horária prática prevista nas unidades curriculares ao ensino remoto poderá ocorrer por meio de ferramentas tecnológicas variadas.',\n   'as unidades curriculares cuja carga horária prática não se adapte ao ensino remoto não poderão ser ofertadas no ple.',\n   'durante o ple, a oferta da unidade curricular educação física será exclusiva para a matrícula de discentes que estejam em fase de conclusão de curso.',\n   'as atividades pedagógicas da unidade curricular educação física a poderão ser ofertadas de modo remoto, com uso de tecnologias digitais e dos ambientes virtuais de aprendizagem da ufrpe, respeitando-se o caráter prático relativo à dinâmica da referida unidade curricular.',\n   'a oferta de cursos livres e atividades culturais no ple é opcional para os docentes, devendo considerar que: i- a intenção de oferta de unidades curriculares no ple deve ser prioritária em relação à oferta de cursos livres, sobretudo no que se refere às unidades curriculares para conclusão de curso; ii- a intenção de oferta de cursos livres pode ser organizada e realizada em um ou mais módulos; iii- o docente deverá encaminhar o plano de oferta do curso livre ao departamento/unidade acadêmica; iv- após homologação pelo cta (no caso dos departamentos acadêmicos) ou cgcd (no caso das unidades acadêmicas), a relação de cursos livres será encaminhada à assessoria de comunicação para divulgação; v- as atividades culturais podem ser oferecidas livremente por um ou mais servidores com a colaboração de discentes.',\n   'o plano de ensino da unidade curricular seguirá o modelo apresentado no anexo ii deste regulamento e deverá estar em conformidade com o planejamento didático para ensino remoto, devendo ser elaborado pelo(s) docente(s) responsável(eis) de cada unidade curricular e enviado às coordenações de curso por e-mail institucional da coordenação para homologação no colegiado de coordenação didática (ccd).',\n   'a ementa e a carga horária das unidades curriculares devem estar emconformidade com o projeto pedagógico do curso (ppc) e não podem ser alteradas;',\n   'o docente deve indicar, no plano de ensino da unidade curricular, a plataforma de ensino remoto que usará, considerando os ambientes virtuais de aprendizagem(ava) da ufrpe como preferenciais;',\n   'caso a bibliografia da unidade curricular ministrada pelo docente possua referências de acesso restrito e/ou pago, como livros físicos disponibilizados na biblioteca da universidade, recomenda-se a indicação de bibliografias alternativas gratuitas e disponíveis on-line.',\n   'a submissão do plano de ensino da unidade curricular deveráocorrer dentro do prazo estabelecido no calendário acadêmico do ple.',\n   'compete ao ccd do curso avaliar os planos de ensino da unidade curricular submetidos e emitir parecer de deferimento ou indeferimento dando ciência ao(s) docente(s), considerando os prazos estabelecidos no calendário acadêmico;',\n   'os planos de ensino da unidade curricular deferidos terão a oferta de turma(s) aprovada(s) e disponibilização no sistema de informação e gestão acadêmica(siga/sigaa);',\n   'no caso de indeferimento, o docente responsável terá o prazo de 3(três) dias úteis para nova submissão do plano modificado, em conformidade com o parecer apresentado pelo ccd do curso;',\n   'a homologação do deferimento dos planos de ensino da unidade curricular será registrada em decisão do respectivo ccd para assentamento e guarda na coordenação de curso.',\n   'para efeito de avaliação dos planos de ensino da unidade curricular, deverão ser observados os critérios descritos neste regulamento, incluindo-se a correlação entre o conteúdo programático descrito e o conteúdo apresentado no cronograma, bem como as demais informações referentes à adaptação do componente curricular ao ensino remoto, conforme o modelo proposto (anexo iii.)',\n   'durante a vigência do ple, o docente deverá planejar a unidade curricular, considerando que no ensino remoto: i- não há horário definido para realização das atividades assíncronas das unidades curriculares, embora o docente deva considerar o tempo necessário de que o discente irá dispor para conclusão das atividades propostas em função da natureza e do nível de complexidade de cada atividade; ii - o docente poderá organizar sua sala virtual por blocos de conteúdos ou módulos/unidades de aprendizagem, habilitando a visualização de todos os tópicos, do início ao fim da unidade curricular; iii - os discentes matriculados podem, em seu ritmo, intensificar seus estudos na unidade curricular e concluí-la antes do término previsto do ple, caso o docente disponibiliza todo conteúdo e atividades avaliativas na plataforma de ensino adotada.',\n   'o docente deverá registrar no diário de classe todas asatividades acadêmicas da unidade curricular ofertada no ple e encaminhar essa documentaçãovia e-mail à direção do respectivo departamento ou unidade acadêmica ao término do ple.',\n   'a matrícula no ple será facultativa ao discente com vínculo ativo (matriculado, matrícula vínculo ou trancado) na ufrpe.',\n   'o discente poderá cursar, no máximo, 240 horas de unidades curriculares durante o ple, não havendo carga horária mínima para matrícula.',\n   'serão mantidas as exigências de co requisitos e pré-requisitos para as unidades curriculares previstas no projeto pedagógico do curso (ppc).',\n   'a matrícula no período letivo excepcional (ple) será realizadade forma on-line, conforme calendário acadêmico. (anexo d)',\n   'o preenchimento das vagas obedecerá ao ranking que o sistema de informação e gestão acadêmica (siga/sigaa) utiliza nos procedimentos regulares para matrícula;',\n   'terão prioridade de matrícula os discentes ingressantes,acompanhados, desligados e prováveis concluintes;',\n   'a matrícula do discente acompanhado e desligado será realizada pela coordenação do curso.',\n   'o discente poderá realizar o cancelamento sem ônus das unidades curriculares em data prevista no calendário acadêmico (anexo 1).',\n   'o trancamento extemporâneo do ple poderá ser solicitado pelo discente em casos excepcionais, mediante justificativa enviada à coordenação de curso de graduação.',\n   'as unidades curriculares cursadas no ple serão contabilizadas automaticamente para integralização do curso dos discentes.',\n   'os discentes que obtiverem aprovação nas unidades curriculares cursadas durante o ple, sendo estas as mesmas matriculadas em 2020.1 terão suas matrículas do semestre regular 2020.1 ajustadas pelo departamento de registro e controle acadêmico (drca), permanecendo vinculados às demais unidades curriculares não cursadas.',\n   'os discentes ingressantes 2020.2 aprovados nos cursos de graduação da ufrpe, por meio do sisu, poderão participar do ple na forma de aluno especial,cursando unidades curriculares isoladas.i- a inscrição será através de formulário digital disponível no site da ufrpe e em, no máximo, duas unidades curriculares; ii- as unidades curriculares que resultem em rendimento poderão ser usadas, com aproveitamento acadêmico, no curso no qual foi aprovado; iii- o aproveitamento das unidades curriculares não trará implicações para o mérito acadêmico, quando da análise para escolha do discente laureado na colação de grau do curso; iv- a inclusão do sistema siga e ava, com relação ao cadastro dos dados pessoais e à matrícula, será executada pelo departamento de registro e controle acadêmico-drca; v- | a inclusão do sistema sigaa, com relação ao cadastro dos dados pessoais e à matrícula, será executada pelo núcleo de tecnologia da informação-nti.',\n   'os discentes ingressantes 2020.2 também poderão se matricular nos cursos livres. ',\n   'o cômputo da frequência discente será baseado na execução/entrega de atividades previstas nos planos de ensino das unidades curriculares(anexo ix).',\n   'o docente deve orientar os estudantes matriculados quanto à entrega das atividades, considerando a necessidade de flexibilização dos prazos.',\n   'a ausência do discente em atividades remotas síncronas não podeatribuir prejuízo ao mesmo, seja para o cômputo de frequência e/ou nota.',\n   'durante o ple, não haverá período previamente definido no calendário acadêmico para realização de atividades de verificação de aprendizagem.',\n   'o rendimento acadêmico do discente poderá ser avaliado, de forma contínua, considerando as especificidades do ensino remoto e demais orientações apresentadas neste regulamento.',\n   'considerando a realização de avaliações formativas ao longo do ple, o docente deverá destacar, no plano de ensino da unidade curricular, o conjunto de atividades para composição da nota de cada verificação de aprendizagem.',\n   'para efeito de aprovação em unidades curriculares ofertadas no ple, será considerado aprovado por média o discente que obtiver média igual ou superior a 7,0(sete).',\n   'a realização de exame final acontecerá no período previsto estabelecido no calendário acadêmico. será considerado aprovado o discente que obtiver média final igual ou superior a 5,0 (cinco).',\n   'a reprovação em unidades curriculares cursadas no ple não será contabilizada para efeito de acompanhamento/desligamento do discente.',\n   'será atribuição da comissão de orientação e acompanhamentoacadêmico (coaa) verificar a necessidade de adaptação ao ensino remoto dos discentesacompanhados e desligáveis durante o ple.',\n   'as atividades dos programas institucionais no âmbito da preg/ufrpe (monitoria, tutoria discente, bolsa de iniciação acadêmica (bia), programa de educação tutorial - pet, programa institucional de bolsas de iniciação à docência - pibid,residência pedagógica) serão realizadas de modo remoto.',\n   'quanto à atuação de monitores bolsistas e voluntários durante o ple, deverão ser observados: i— os aspectos sociais, econômicos, emocionais e de saúde dos monitores bolsistas e voluntários para o desempenho das atividades remotas; ii — as orientações gerais publicadas pela preg sobre os procedimentos remotos adotados pelos(as) orientadores(as) dos programas acadêmicos de monitoria, tutoria, bolsa de iniciação acadêmica (bia) e programa de educação tutorial (pet).',\n   'caberá à pró-reitoria de ensino de graduação (preg), junto às coordenações de curso e respectivos colegiados de coordenações didáticas (ccd), apresentar relatório sobre o aproveitamento das atividades realizadas no ple, com base em avaliação realizada pela comunidade acadêmica, conforme planejamento institucional.',\n   'será proposto um plano de formação em ambientes virtuais e tecnologias digitais para docentes, técnicos e discentes da ufrpe no ple.',\n   'o plano de formação docente considerará as demandasformativas dos educadores referentes a planejamento didático, mediação pedagógica e usos detecnologias digitais para ensino remoto, com destaque em redes temáticas: i- ambientes virtuais de aprendizagem; ii- formação docente parao ava-ufrpe; iii- formação docente para usos de tecnologias digitais; iv- estratégias de ensino-aprendizagem; v- metodologias ativas; vi- metododologias de avaliação on-line; vii- ferramentas de interações síncronas e assíncronas; viii- podcast como ferramenta de ensino-aprendizagem; ix- acessibilidade; x- acolhimento para ensino on-line aos discentes.',\n   'no tocante aos processos formativos dos discentes, serão consideradas as demandas sobre aprendizagem ativa, autonomia do estudante, métodos e técnicas de estudo para ensino remoto, além de questões relativas à acessibilidade.',\n   'os processos formativos ocorrerão em datas anteriores ao início doppler, permaneciendo com oferta contínua durante o período de ensino remoto e no retorno às atividades presenciais;',\n   'as atividades do plano de formação estão previstas no anexo vii.10']},\n ' TÍTULO III': {'DA REGULAMENTAÇÃO DE TRABALHO DE CONCLUSÃO DE CURSO,MONOGRAFIA, ESTÁGIO SUPERVISIONADO OBRIGATÓRIO, ATIVIDADES CURRICULARES COMPLEMENTARES': ['durante o ple, as atividades relativas ao trabalho de conclusão de curso (tcc e/ou monografia) deverão ser flexibilizadas, considerando-se formatos e estratégias de apresentação, conforme demandas do ensino remoto.',\n   'o formato adotado para o trabalho de conclusão de curso (tcc e/ou monografia) poderá ser flexibilizado, mediante proposição do núcleo docente estruturante(nde) e aprovação do colegiado de coordenação didática (ccd) dos cursos de graduação da ufrpe, ficando a critério destes colegiados (nde e ccd) a adequação dos formatos de tcc(monografia, relatório técnico, artigo científico, relato de experiência etc.) às especificidades dos cursos;',\n   'a apresentação do tcc ou monografia, caso prevista no projeto pedagógico do curso (ppc), poderá ser realizada de modo remoto, por meio de ferramentas de interações síncronas ou assíncronas.',\n   'as apresentações de tcc ou monografias, realizadas de modo remoto, poderão ser gravadas em áudio e/ou vídeo, desde que a banca de avaliação, os docentes orientadores e os discentes registrem o aceite, no próprio vídeo, preservando-se os princípios éticos das interações mediadas por tecnologias digitais.',\n   'os registros de apresentação deverão ser elaborados por meio de atas a fim de consolidar o processo de apresentação e defesa de tcc ou monografia.',\n   'os discentes matriculados em unidades curriculares de final de curso (tcc ou monografia) deverão apresentar à coordenação de curso declaração do docente orientador, atestando ser possível a conclusão e a defesa (quando houver) do trabalho até o término do ple.',\n   'a matrícula nas unidades curriculares estágio supervisionado obrigatório, tcc, monografia não contabilizará para carga horária máxima prevista para o ple.',\n   'a solicitação de matrícula na unidade curricular de estágio supervisionado obrigatório (eso) será de responsabilidade do discente, tendo que cumprir todasas determinações legais (termo de compromisso e seguro para estágio) para confirmação de matrícula:e os discentes matriculados no eso deverão cumprir a carga horária total e todos os demais requisitos previstos no projeto pedagógico do curso (entrega de relatório e/ou apresentação/defesa) durante o ple;h - para fins de conclusão, a matrícula em eso poderá ser renovada;hi - a matrícula no eso não contabilizará para carga horária máxima prevista para o ple;iv - serão autorizadas realizações de estágios de modo presencial em atividades classificadas como essenciais. para isso, o estudante e a empresa deverá registrar no termo de compromisso o tipo de atividade essencial e a descrição dos cuidados que serão adotados durante o estágio para fins de proteção do estagiário.v - os discentes dos cursos de bacharelado matriculados no semestre letivo 2020.1 que tenham cumprido a carga horária total do eso, devidamente formalizado via termo de compromisso, poderão efetuar matrícula em eso no ple, dispensando a necessidade de apresentação de novo termo de compromisso;vi - os discentes deverão apresentar comprovação de cumprimento da carga horária do eso para cômputo, de acordo com as orientações da coordenação de curso;vii - as atividades de ensino, pesquisa e extensão poderão ser utilizadas para equiparação do eso, desde que as respectivas cargas horárias não tenham sido computadas no registro de atividades curriculares complementares (acc).',\n   'caso a equiparação do estágio supervisionado obrigatório não esteja prevista no ppc, a coordenação de curso deverá fazer a inserção desse item no perc, visando à homologação no ccd, conforme orientações da resolução ufrpe nº425/2010.',\n   'o estágio não obrigatório poderá ser utilizado para fins de integralização do estágio supervisionado obrigatório desde que a respectiva carga horária não tenha sido utilizada para o cômputo de atividades curriculares complementares (acc).',\n   'o estágio supervisionado obrigatório (eso) poderá ser realizado de forma virtual, devendo a coordenação de curso anexar ao perc um projeto(anexo iid, com aprovação do ccd, contendo o detalhamento das atividades a serem desenvolvidas.',\n   'as atividades práticas de eso poderão estar associadas às atividades de extensão realizadas de modo remoto, em conformidade com parecer cne nº 05/2020 e portaria mec nº 544/2020, desde que previstas em projeto específico para os estágios realizados no ple.',\n   'o projeto para estágio supervisionado obrigatório de forma remota (anexo iv) deverá estar alinhado ao projeto pedagógico do curso (ppc),informando metodologias, infraestrutura e meios de interação com as áreas/campos de estágios e ambientes externos de interação onde se darão as práticas do curso. a supervisão deverá ocorrer de forma remota, conforme possibilidades tecnológicas.',\n   'o cômputo das acc será flexibilizado para os discentes prováveis concluintes no referido período. ',\n   'as participações em cursos e eventos on-line que não emitam certificados poderão ser utilizadas para cômputo das acc a critério do ccd, com base no relatório de atividades do discente (anexo v).',\n   'exclusivamente aos discentes concluintes no ple, será permitido apresentar atividades de uma única natureza, sendo estas atividades de ensino, pesquisa ou extensão, para integralização da carga horária total estabelecida para atividades curriculares complementares, podendo exceder o limite de 120h por tipo de atividade(resolução cepe/ufrpe nº 362/2011) (anexo v).',\n   'tendo ultrapassado o limite de 120h em um único tipo de atividade de mesma natureza (ensino, pesquisa e/ou extensão), o registro será computado em dois tópicos (por exemplo: cursos de extensão e, cursos de extensão ii etc.).',\n   'após análise e aprovação do ccd, a coordenação de curso remeterá o relatório de acc dos discentes ao departamento de registro e controle acadêmico(drca) para registro da carga horária aprovada no histórico escolar do discente.',\n   'caso haja necessidade de realização de atividades práticas relativas às unidades curriculares eso, tcc ou monografia, considerando-se pesquisas de campo e usos de laboratórios nos espaços físicos da ufrpe, o discente deverá apresentar à direção do departamento/unidade acadêmica a carta de anuência assinada pelo orientador e/supervisor e a autorização de acesso ao campus emitida pelo comitê de prevenção da covid-19 da ufrpe.',\n   'as atividades dessa natureza realizadas fora da ufrpe deverão seguir as normas das autoridades sanitárias competentes.']},\n 'TÍTULO IV': {'DA EQUIVALÊNCIA EXCEPCIONAL': ['o estudante vinculado a um curso de graduação presencial ou a distância da ufrpe que tenha cumprido um mínimo de 80% da carga horária referente às unidades curriculares previstas no ppc do seu curso de graduação poderá solicitar, em caráter excepcional, equivalência entre atividades pedagógicas, vivências acadêmicas e vivências profissionais, e unidades curriculares de seu curso, durante a vigência do ple.13 i - os discentes matriculados nos cursos tecnológicos não poderão solicitar a equivalência excepcional para obtenção do grau de tecnólogo por se tratar de diplomação intermediária.h - a equivalência excepcional de atividades pedagógicas deve ser para todas as unidades curriculares restantes à integralização do curso no qual o estudante está matriculado, exceto educação física a, eso e tcc/monografia.hi- poderão ser integralizadas, por meio da equivalência excepcional,375 horas em unidades curriculares.',\n   'poderão ser utilizadas, no processo de equivalência excepcional, vivências anteriores de ensino, pesquisa e/ou extensão, ou atividades pedagógicas sugeridas por uma banca examinadora especial.',\n   'a equivalência excepcional não exime o estudante da realização das atividades curriculares complementares e de estar em situação regular junto ao instituto nacional de estudos e pesquisas educacionais anísio teixeira (inep).',\n   'o discente interessado em solicitar equivalênciaexcepcional deverá estar inscrito no exame nacional de desempenho do estudante (enade)no ano em que o curso for contemplado no ciclo avaliativo.',\n   'para solicitar a equivalência excepcional, o discente deve encaminhar um requerimento (anexo v1), por meio de processo eletrônico, à coordenação de seu curso, com a lista de unidades curriculares para avaliação e documentação que comprove ocumprimento dos requisitos listados no art. 59, conforme prazos estabelecidos em calendário acadêmico.',\n   'a abertura de processo eletrônico deverá seguir as orientações disponíveis no sipac.',\n   'o discente poderá solicitar a equivalência excepcional uma única vez por curso de graduação.',\n   'o processo de avaliação será realizado pela banca examinadora especial, constituída por, no mínimo, 3 (três) docentes, vinculados ao curso, com reconhecida qualificação nas áreas das unidades curriculares para as quais foi solicitada a equivalência excepcional. essa banca será designada pela coordenação do curso e homologada pelo ccd do respectivo curso.',\n   'caberá à banca examinadora especial:i - definir e elaborar o(s) instrumento(s) de avaliação a ser(em) aplicado(s) e os procedimentos para sua realização, sendo obrigatória a aplicação de, no mínimo, um tipo de avaliação.h - definir os critérios avaliativos e de composição da nota final.hi - atribuir nota para cada unidade curricular que será a média aritmética simples, resultante das avaliações dos 3 (três) membros da banca.iv - aplicar os instrumentos de avaliação definidos, avaliar as respostas e o desempenho do discente.14 v - anexar a documentação comprobatória e a ata ao processo e encaminhá-lo à coordenação do curso.vi - registrar as atividades pedagógicas relativas às unidades curriculares requeridas no processo de equivalência excepcional e atribuir carga horária equivalente.vii - avaliar a necessidade de complemento de carga horária para o cômputo da carga horária total de cada unidade curricular e propor novas atividades pedagógicas, se necessário.vii - registrar em ata o processo de avaliação e de equivalência excepcional entre as atividades pedagógicas e unidades curriculares e seu resultado.',\n   'a banca examinadora especial deverá avaliar se a documentação apresentada abrange 80% do conteúdo programático e 100% da carga horária de cada unidade curricular para as quais foi solicitada a equivalência excepcional.',\n   'caso a documentação apresentada não cumpra os requisitos de carga horária e conteúdo para a equivalência excepcional, a banca examinadora especial deverá incluir, no processo avaliativo, a solicitação de atividades pedagógicas a fim de complementar estes requisitos.',\n   'a equivalência excepcional poderá ser realizada caso, alémdos requisitos citados no',\n   'o discente obtenha a nota mínima de 5,0 (cinco) nas atividades avaliativas propostas pela banca examinadora especial.',\n   'as atividades pedagógicas utilizadas para o cômputo de carga horária também poderão ser utilizadas como instrumentos de avaliação;',\n   'a documentação comprobatória da equivalência de atividades pedagógicas e unidades curriculares deve ser entregue à coordenação do curso;',\n   'a banca examinadora especial deverá apresentar os resultados da avaliação da equivalência excepcional através de ata com o nome do discente submetido à avaliação, lista das unidades curriculares que foram alvo da avaliação, atividades pedagógicas incluídas na análise da equivalência excepcional, nota atribuída por cada um dos membros da comissão e a média aritmética simples das notas.',\n   'a avaliação será realizada pela banca examinadora especial,de acordo com o cronograma elaborado e divulgado pela coordenação do curso com antecedência mínima de 10 (dez) dias.',\n   'após a finalização do processo avaliativo, o resultado deverá ser divulgado pela coordenação do curso em até 72 horas;',\n   'caso discorde do resultado obtido, o discente poderá apresentar,no prazo máximo de dois dias úteis, contados a partir da data de divulgação do resultado final,recurso à banca examinadora especial, a qual terá dois dias úteis para se pronunciar;',\n   'o discente que não cumprir os prazos determinados pela banca examinadora especial para avaliação terá o ônus da desistência do pedido, sem direito à segunda chamada;',\n   'o discente que obtiver aprovação nas unidades curriculares constantes no processo de equivalência excepcional, tendo cumprido os requisitos previstos no ppc e demais exigências, será considerado apto a colar grau',\n   'ao final da avaliação, a coordenação do curso deverá encaminhar o processo, homologado pelo ccd do curso, à preg.',\n   'após a tramitação na preg, o processo deverá ser enviado para o departamento de registro e controle acadêmico (drca) para registro no histórico escolar e arquivamento na pasta do discente.']},\n 'TÍTULO V': {'DAS ATIVIDADES ACADÊMICAS NO ÂMBITO DA EDUCAÇÃO A DISTÂNCIA': ['considerando-se as especificidades dos cursos ofertados na modalidade a distância pela ufrpe, dispõe-se sobre a regulamentação das diretrizes para as atividades acadêmicas nos cursos de graduação da unidade acadêmica de educação a distância e tecnologia (uaeadtec) da universidade federal rural de pernambuco durante o ple.',\n   'na unidade acadêmica de educação a distância e tecnologia(uaeadtec), as matrículas dos estudantes novatos, referentes aos editais de seleção realizados nos semestres 2020.1 e 2020.2, serão realizadas de forma virtual, sendo necessários os seguintes procedimentos: i - apresentação pelos discentes dos documentos listados em edital de ingresso na uaeadtec/ufrpe, considerando envio da documentação para o ambiente virtual de aprendizagem da uaeadtec, conforme orientações da coordenação geral de cursos de graduação; ii - conferência dos documentos apresentados pelos discentes, realizada pela comissão de analistas, designada pela uaeadtec; iii - validação dos documentos apresentados pelo departamento de registro e controle acadêmico (drca) da ufrpe.16 seção i dos alunos veteranos',\n   'as matrículas dos estudantes veteranos, referentes ao semestre 2020.2, permanecem de acordo com o procedimento usual do sistema de informação e gestão acadêmica (siga/sigaa), conforme calendário apresentado pela coordenação geral dos cursos de graduação da uaeadtec.',\n   'as atividades pedagógicas da uaeadtec permanecem centralizadas no ambiente virtual de aprendizagem (ava) da ufrpe e devem ser norteadas pelas orientações do presente regulamento para o ple.',\n   'outras plataformas virtuais poderão ser utilizadas para apoiar processos de ensino e aprendizagem mediados por tecnologias digitais, priorizando-se articulações com o ambiente virtual de aprendizagem (ava) da ufrpe para registros deatividades acadêmicas.seção iidas unidades curriculares',\n   'as atividades virtuais das unidades curriculares ofertadas nos cursos de graduação da uaeadtec deverão ter flexibilidade nos prazos estipulados para envio ao ava ufrpe, bem como nas estratégias metodológicas e recursos didáticos para apoiar processos de ensino e aprendizagem mediados por tecnologias.',\n   'o processo de flexibilização no desenho didático-pedagógico das unidades curriculares deverá estar previsto pelo docente no plano de ensino da unidade curricular para apreciação e homologação do ccd do curso.',\n   'unidades curriculares previamente definidas pelo núcleo docente estruturante (nde) poderão ser ofertadas nos intervalos entre semestres, com o objetivo de viabilizar o cômputo de carga horária para discentes prováveis concluintes ou poderá ser considerada a oferta de unidades curriculares estratégicas ao desenvolvimento do curso.',\n   'recursos educacionais abertos (rea), podcasts, webquests,videoaulas, quiz, wikis, blogs, e-books, quadrinhos, animações, materiais didáticos, games, alémda variedade de recursos e ferramentas disponíveis no ciberespaço e no ava ufrpe poderão seramplamente utilizados para apoiar a aprendizagem do discente, com foco na aprendizagem abertae flexível no contexto da educação a distância.17 ',\n   'a coordenação de curso deverá emitir orientações individuais aos estudantes para os casos de solicitação de dispensa de unidade curricular, com o objetivo de instruir o procedimento desta ação, conforme resolução cepe/ufrpe nº 442/2006.seção iii dos encontros presenciais',\n   'os encontros presenciais das unidades curriculares e outras atividades presenciais de ensino, pesquisa e extensão nos polos uab, previstos nos calendários acadêmicos dos cursos de graduação da uaeadtec, devem ser substituídos, prioritariamente,pela realização de atividades não presenciais, realizadas de modo remoto, por meio de ferramentas de interações síncronas ou assíncronas.',\n   'a ausência do discente nas atividades de interações síncronas não deve para ele, seja para o cômputo de frequência e/ou nota.',\n   'as interações síncronas de apoio à aprendizagem ao discente devem estar articuladas e integradas às atividades das unidades curriculares no ava ufrpe e devidamente registradas na sala virtual da unidade curricular no ava ufrpe.seção ivdo acompanhamento aos discentes',\n   'o acompanhamento ao discente será propiciado pela equipe de gestão de cada curso de graduação, por meio das seguintes funções: coordenação de curso,substituto eventual da coordenação do curso, coordenação pedagógica, apoio ao discente e recepcionistas dos cursos.',\n   'de modo remoto e com apoio de tecnologias digitais, as comissões de orientação e acompanhamento acadêmico (coaa) estarão apoiando continuamente os discentes dos cursos de graduação da uaeadtec em situação de insuficiência de rendimento e decurso de prazo, conforme diretrizes da resolução cepe/ufrpe nº 154/2001',\n   'a comissão de combate à evasão e à retenção da unidade,designada pela portaria dga/uaeadtec nº 09/2020, irá propor ações com o intuito de minimizar a evasão dos discentes em função do cenário da pandemia. o mapeamento da situação dos discentes quanto ao acesso às tecnologias digitais, além de principais dificuldades socioemocionais e de rendimento acadêmico poderão ser fatores importantes na implantação de uma política direcionada ao combate à evasão na uaeadtec.',\n   'os eventos organizados na uaeadtec serão realizados de modo remoto, por meio de ferramentas de interação on-line, plataformas digitais e recursos disponíveis no ava da unidade, conforme programações propostas pela coordenação geral de cursos de graduação (ccg) e pelas coordenações de cursos de graduação.seção idos eventos de acolhimento aos ingressantes',\n   'os processos de acolhimento e ambientação dos discentes ingressantes em 2020.1 e 2020.2 serão realizados virtualmente, por meio do ava e de ferramentas de interações síncronas e assíncronas, considerando-se atividades programadas pela coordenação geral de cursos de graduação (ccg) e pelas coordenações de cursos de graduação da uaeadtec.',\n   'as atividades de estágio supervisionado obrigatório (eso)serão orientadas pelas resoluções institucionais da ufrpe, bem como pela legislação vigente,atualizada no cenário da pandemia da covid-19, a exemplo dos seguintes documentos: portaria mec nº 343/2020, portaria mec nº 345/2020, portaria mec nº 395/2020, parecer cne/cp nº5/2020 e portaria mec nº 544/2020.',\n   'as atividades acadêmicas das unidades curriculares de estágio supervisionado obrigatório (eso) na uaeadtec continuarão sendo realizadas por meio das orientações dos(as) docentes nas salas virtuais disponíveis no ava ufrpe e no avada unidade, de acordo com os plano de ensino de eso',\n   'as coordenações de cursos de graduação deverão registrar projeto para as atividades de eso no ple de atividades acadêmicas, com apoio dos colegiados do curso: núcleo docente estruturante (nde) e colegiado de coordenação didática (ccd) do curso',\n   'xo projeto para as atividades de eso realizadas de modo remoto deverá ser elaborado em conformidade com as diretrizes do parecer cne/cp nº 5/2020 e portaria mec nº 544/2020, informando metodologias, infraestrutura e meios de interação com os campos de estágios, em conformidade com anexo iii deste regulamento',\n   'as atividades não presenciais de práticas e estágios supervisionados deverão ser priorizadas especialmente nos cursos de licenciatura da uaeadtec,conforme parecer cne/cp nº 5/2020 e portaria mec nº 544/2020.19 ',\n   'as atividades práticas de eso podem estar associadas às atividades de extensão realizadas de modo remoto, priorizando-se os cursos de licenciatura e formação de professores, conforme parecer cne/cp nº 5/2020 e portaria mec nº 544/2020',\n   'na uaeadtec, as atividades práticas de estágio supervisionado obrigatório poderão utilizar recursos e ferramentas do ava da unidade, por meio da oferta de cursos de extensão, com foco na formação continuada de docente',\n   'xos discentes matriculados em estágio supervisionado obrigatório poderão atuar como mediadores de oficinas/minicursos ofertados na modalidade a distância, tendo como público-alvo professores em formação, no sentido de contribuir para a formação docente com foco em usos de tecnologias digitais e práticas de multiletramentos',\n   'os orientadores de estágio poderão organizar eventos formativos e supervisionar as atividades práticas dos licenciandos, juntamente com os tutores de estágio.',\n   'os licenciandos poderão realizar observações de aulas,planejamentos didáticos e regências de aulas, considerando a imersão on-line em plataformas digitais ou ambientes virtuais de aprendizagem que estão sendo utilizados pelas escolas da educação básica em pernambuco',\n   'as coordenações de polos de apoio presencial da universidade aberta do brasil (uab), bem como os tutores presenciais poderão contribuir nas articulações com as escolas campos de estágio, por meio de indicações de contatos dos gestores e supervisores para acompanhamento do eso',\n   'os supervisores de estágio serão os professores em atividades na docência on-line no contexto da educação básica. os orientadores de estágio, docentes dos componentes de eso na ufrpe, deverão estreitar o diálogo com os supervisores de estágio e acompanhar os registros de atividades práticas dos licenciandos nas atividades do estágio supervisionado',\n   'os registros de atividades não presenciais de estágio supervisionado obrigatório deverão ser computados e devidamente comprovados nos relatórios finais das unidades curriculares de eso, visando aos encaminhamentos junto às coordenações de cursos de graduação e à coordenação de estágio da uaeadtec para confirmação de matrícula no siga.',\n   'as atividades pedagógicas da prática como componente curricular nos cursos de licenciaturas da uaeadtec deverão ser realizadas de modo remoto,priorizando-se o ava ufrpe, bem com a imersão dos discentes em plataformas digitais 20 utilizadas no contexto da educação básica no cenário da pandemia de covid-19, conforme orientações do parecer cne/cp nº 5/2020 e da portaria mec nº 544/2020.',\n   'as atividades da prática como componente curricular deverão estar em sintonia com os projetos pedagógicos dos cursos de graduação, bem como poderão estar articuladas à dinâmica do estágio supervisionado obrigatório, conforme orientações do parecer cne/cp nº 5/2020 e portaria mec nº 544/2020',\n   'caberá às coordenações de curso, juntamente com os colegiados (de, ccd), fazer proposições de ajustes e atualizações para a dinâmica da prática como componente curricular, conforme legislação em vigor no cenário da pandemia de covid-19',\n   'os docentes orientadores da prática como componente curricular poderão realizar atividades pedagógicas práticas em sintonia com o projeto pedagógico do curso (ppc), alinhadas às competências e habilidades previstas na base nacional comum curricular (bncc), tendo em vista articulações com tecnologias digitais aplicadas ao contexto da educação básica (tv aberta, recursos educacionais abertos (rea),vídeos educativos, atividades síncronas online, atividades assíncronas, testes on-line, utilização de mídias sociais, podcasts, wikis, entre outros recursos).',\n   'a uaeadtec organizará atividades complementares nos eixos de ensino, pesquisa e extensão, realizadas de modo remoto, propiciando oportunidades de formação complementar para os discentes no ple.',\n   'no ple, as atividades de ensino, pesquisa e extensão naurtec serão realizadas de modo remoto, por meio de tecnologias digitais, do ambiente virtual de aprendizagem (ava) da ufrpe e do ava da unidade.',\n   'o estudante deverá comprovar participação em atividades de ensino, pesquisa ou extensão realizadas de modo remoto, por meio de declaração,certificado ou relatório de atividades, conforme orientações das coordenações de cursos de graduação',\n   'as coordenações de cursos de graduação da uaeadtec deverão orientar os estudantes nos relatórios de atividades complementares, visando à abertura de processos eletrônicos e encaminhamentos junto ao drca para o cômputo da carga horária de acc no histórico escolar do discente.',\n   'a regulamentação do trabalho de conclusão de curso (tcc)das licenciaturas e bacharelados ofertados na modalidade a distância pela uaeadtec/ufrpe deverá ser atualizada pelas coordenações de cursos de graduação, com apoio do nde e homologação do ccd, normatizando-se as apresentações de tcc e os eventos de socialização do tcc para realização de modo remoto, por meio de ambientes virtuais, tecnologias e/plataformas digitais, em conformidade com orientações do art. 45 deste regulamento',\n   'os processos de orientação e socialização de tcc nos cursos ofertados na modalidade a distância deverão priorizar registros no ava ufrpe, na sala virtual da unidade curricular trabalho de conclusão de curso, ou no ava da uaeadtec, em integração com plataformas digitais durante o período letivo excepcional (ple,)',\n   'as apresentações orais de tcc e os eventos de socialização de tcc dos cursos ofertados na modalidade a distância deverão ser realizados de modo remoto,priorizando-se registros em áudio e/ou vídeo, além de atas e relatórios, resguardando-se a documentação comprobatória relativa à defesa de tcc.',\n   'os processos de orientação de atividades de pesquisa e extensão serão realizados de modo remoto, com apoio de plataformas e tecnologias digitais, bem como com o auxílio das ferramentas do ava da unidade acadêmica de educação a distância e tecnologia (uaeadtec)',\n   'os docentes orientadores de projetos de pesquisa (pibic/pic e outros), ensino e/ou de extensão (ônus e bext) poderão criar salas virtuais de orientações nova da uaeadtec, visando ao registro de atividades de orientação para apoiar os discentes nas ações propostas.']},\n 'TÍTULO VI': {'DA ACESSIBILIDADE': ['o núcleo de acessibilidade (naces), durante o período letivo excepcional (ple) desenvolverá suas atividades remotamente, com o objetivo de dar continuidade ao apoio pedagógico especializado aos discentes com necessidades educacionais especiais (nee)',\n   'os discentes terão acesso ao acompanhamento pedagógico por meio de reuniões virtuais com orientações de estudos e levantamento das necessidades específicas de cada discente, para construção de estratégias pedagógicas e encaminhamentos,22 para professores, de possíveis adaptações a serem realizadas para o atendimento do(a) discente com nee.',\n   'para acesso aos serviços do naces, tanto no campus sede quantonas unidades acadêmicas da ufrpe, é necessário entrar em contato por e-mail através dos seguintes endereços: i. laboratório de acessibilidade: lab.acessibilidade@ufrpe.br; ii. apoio pedagógico: apoiopedagogico.naces.reitoria@ufrpe.br; IIi. uacsa: apoiopedagogico.naces.reitoria@ufrpe.br; iv. apoio pedagógico — uast: acessibilidade.uast@ufrpe.br; v. tradução interpretação em libras: acessibilidade.reitoria@ufrpe.br; vi. demais assuntos — campus dois irmãos: acessibilidade.reitoria@ufrpe.br',\n   'para agilizar o atendimento, no primeiro contato, os(as) estudantes devem informar: unidade curricular a que está vinculado(a), nome, cpf, curso, tipo de deficiência e a demanda de acessibilidade.',\n   'para agilizar o atendimento, no primeiro contato, o(a) docente deve informar: curso ao qual está vinculado(a) e unidade curricular que estiver ministrando.',\n   'a equipe pedagógica contará com o apoio dos monitores apoiadores, que estarão disponíveis virtualmente para auxiliar de acordo com as atividades de cada um(a), a depender das unidades curriculares e necessidades dos(as) discentes(às) apoiados(as), sempre sob orientação da equipe pedagógica do ces.',\n   'os(as) docentes devem atentar para o formato dos materiais disponibilizados aos(as) alunos(as) com deficiência visual, considerando:i - que os textos precisam estar em formatos acessíveis para leitores de tela. caso haja imagens, elas devem ser descritas; ii - que os links externos precisam ter sua acessibilidade verificada oseu conteúdo disponibilizado em formato acessível; iii - que os vídeos devem conter descrição e, preferencialmente, serem apresentados em português.',\n   'o ambiente virtual de aprendizagem (ava), quando utilizado,deve ter navegabilidade facilitada, considerando:i- lista de atalhos; ii - possibilidade de omissão de barras de ferramentas e outros menus de formatação; iii - opções que permitam a leitura por pessoas com baixa visão (controle de tamanho de fonte e contraste).',\n   'a acessibilidade em outras plataformas (como salas de reunião virtual, editores colaborativos, quizzes, etc) também deve ser testada.',\n   'os materiais pedagógicos que necessitarem ser adaptados para os estudantes com deficiência visual (baixa visão ou cegueira) devem ser encaminhados com antecedência de, no mínimo, 7 (sete) dias para o laboratório de acessibilidade, de forma remota,através do endereço eletrônico: lab.acessibilidade@ufrpe.br.',\n   'serão mantidos os serviços de:i- adaptações de material em formato digital para formato digital acessível; ii- descrição de imagens estáticas; iii- orientação para docentes e discentes;iv- colaboração com demais setores da universidade.',\n   'estarão suspensos, durante o período letivo excepcional (ple), os serviços de:i transcrição braille/tinta e tinta/braille; ii- empréstimo de tecnologia assistiva; iii- digitalização e impressão de material.',\n   'para o atendimento aos discentes com deficiência auditiva,será observada a utilização de legendas, aplicativos de transcrição instantânea, bem como a necessidade do trabalho do(a) tradutor(a) intérprete da libras.estratégias como:',\n   'os(as) docentes, para atender a estes(as) discentes, podem utilizar- vídeos legendados; ii- em caso de utilização de ambiente virtual de aprendizagem(ava), presença de vídeo introdutório em libras; hand talk; iii- navegação através de animações/vídeos em libras;iv- utilização de textos curtos;v- uso de softwares com avatares para tradução, como o rybená,vi- | inserção de legenda com fontes contrastantes em tamanho legível;vii- investir no uso de imagens para facilitar a compreensão do(a)estudante surdo(a) na compreensão do que poderia ser falado (associação de imagens ao conteúdo).',\n   'o corpo docente deverá eleger antecipadamente quais os conteúdos que irão precisar de interpretação em libras, a equipe de interpretação poderá ser consultada para auxiliar nesse processo.',\n   'a equipe de tradutores intérpretes de libras estará realizando a acessibilidade nos ambientes virtuais, para tanto, o serviço de interpretação poderá ser solicitado pelos(as) docentes da ufrpe lotados na sede, uaeadtec, uacsa, uast e uab através de endereços eletrônicos.',\n   'de acordo com as demandas e possibilidades, os intérpretes poderão contar com o apoio dos estagiários em libras.',\n   'especificamente sobre o trabalho dos(as) tradutores(as) intérpretes de libras, os(as) docentes devem observar: i. o horário de trabalho e a carga horária dos(as) servidores(as),respeitando-se suas demandas profissionais; ii. as atividades e roteiros devem ser compartilhados com os(as)intérpretes antecipadamente, preservando um prazo mínimo de 7 (sete) dias; iii. as temporalidades dos vídeos e materiais que precisarem das janelas de libras. nesse sentido, o ideal é que sejam videos curtos. caso optem por vídeos mais longos, indica-se o uso de legendas;iv. a metodologia, os recursos didáticos, a plataforma a ser adotada ea forma de avaliação do componente curricular também devem ser informados à equipe de interpretação.',\n   'caso optem por realizar algumas atividades síncronas, os docentes devem considerar, além da conexão dos discentes, a conexão dos intérpretes, a plataforma virtual a ser utilizada e o tempo de gravação.',\n   'os(as) docentes que realizarem atividades síncronas, que não contenham recursos de acessibilidade, devem disponibilizar também atividades assíncronas em formato acessível para substituir as atividades inacessíveis.',\n   'nas atividades síncronas ou assíncronas, o docente deve considerar a possibilidade de adaptação:e- da forma como as questões em exercícios e instrumentos avaliativos são propostas;e- | dos recursos didático-pedagógicos no decorrer do processo deensino-aprendizagem.',\n   'para realização de adaptações pedagógicas gerais, os docentes podem observar as seguintes sugestões: i ampliação nos prazos das entregas das atividades; ii- substituição de atividades; iii- divisão de atividades em mais de um momento; iv- manter contato regular com o estudante para obter o retorno sobre eventuais lacunas de acessibilidade.']},\n 'TÍTULO VII': {'DA ACESSIBILIDADE': ['o aluno em regime de movimentação temporária (remt) em 2020.1 poderá cursar unidades curriculares no ple mediante preenchimento de formulário viii encaminhar a coordenação do curso no qual o remt está vinculado.',\n   'os docentes que aderirem ao período letivo excepcional(ple) poderão alterar as suas férias.',\n   'as dispensas de unidades curriculares cursadas externamente obedecerão às disposições da resolução 442/2006 — cepe.',\n   'as ações de inclusão digital dos discentes obedecerão aos dispositivos da resolução 29/2020 — consu.',\n   'as coordenações dos cursos de graduação presencial da ufpe deverão entregar à preg o plano de ensino remoto do curso (perc), que será anexado ao seu respectivo ppc.',\n   'os casos omissos e excepcionais não contemplados nesta resolução serão deliberados pela pró-reitoria de ensino de graduação (preg) e/ou outras instâncias da administração superior da universidade federal rural de pernambuco (ufrpe).',\n   'este regulamento entra em vigor a partir da data de sua publicação.']}}"
     },
     "execution_count": 5,
     "metadata": {},
     "output_type": "execute_result"
    }
   ],
   "source": [
    "documento_oficial"
   ],
   "metadata": {
    "collapsed": false,
    "pycharm": {
     "name": "#%%\n"
    }
   }
  },
  {
   "cell_type": "code",
   "execution_count": 7,
   "metadata": {
    "pycharm": {
     "name": "#%%\n"
    }
   },
   "outputs": [],
   "source": [
    "def compare(contextos, quesito):\n",
    "    maxx = 0\n",
    "    text = \"\"\n",
    "    for k,v in contextos.items():\n",
    "        for kk, vv in v.items():\n",
    "            for vvv in vv:\n",
    "                cleanded_1 = clear_text(vvv)\n",
    "                sentence_1_avg_vector = avg_sentence_vector(cleanded_1, model=word2vec_model, num_features=50, index2word_set= set(word2vec_model.index2word))\n",
    "                sentence_2_avg_vector = avg_sentence_vector(quesito, model=word2vec_model, num_features=50, index2word_set= set(word2vec_model.index2word))\n",
    "                sen1_sen2_similarity = cosine_similarity(sentence_1_avg_vector.reshape(1,-1), sentence_2_avg_vector.reshape(1,-1))[0][0]\n",
    "                if sen1_sen2_similarity > maxx:\n",
    "                    maxx = sen1_sen2_similarity\n",
    "                    text = cleanded_1\n",
    "    return maxx, text"
   ]
  },
  {
   "cell_type": "code",
   "execution_count": 8,
   "outputs": [],
   "source": [
    "import random\n",
    "def uniqueid():\n",
    "    seed = random.getrandbits(32)\n",
    "    while True:\n",
    "       yield seed\n",
    "       seed += 1"
   ],
   "metadata": {
    "collapsed": false,
    "pycharm": {
     "name": "#%%\n"
    }
   }
  },
  {
   "cell_type": "code",
   "execution_count": 10,
   "metadata": {
    "pycharm": {
     "name": "#%%\n"
    }
   },
   "outputs": [
    {
     "name": "stdout",
     "output_type": "stream",
     "text": [
      "0.0%\n",
      "1.0526315789473684%\n",
      "2.1052631578947367%\n",
      "3.1578947368421053%\n",
      "4.2105263157894735%\n",
      "5.263157894736842%\n",
      "6.315789473684211%\n",
      "7.368421052631578%\n",
      "8.421052631578947%\n",
      "9.473684210526317%\n",
      "10.526315789473683%\n",
      "11.578947368421053%\n",
      "12.631578947368421%\n",
      "13.684210526315791%\n",
      "14.736842105263156%\n",
      "15.789473684210526%\n",
      "16.842105263157894%\n",
      "17.894736842105264%\n",
      "18.947368421052634%\n",
      "20.0%\n",
      "21.052631578947366%\n",
      "22.105263157894736%\n",
      "23.157894736842106%\n",
      "24.210526315789473%\n",
      "25.263157894736842%\n",
      "26.31578947368421%\n",
      "27.368421052631582%\n",
      "28.421052631578945%\n",
      "29.47368421052631%\n",
      "30.526315789473685%\n",
      "31.57894736842105%\n",
      "32.631578947368425%\n",
      "33.68421052631579%\n",
      "34.73684210526316%\n",
      "35.78947368421053%\n",
      "36.84210526315789%\n",
      "37.89473684210527%\n",
      "38.94736842105263%\n",
      "40.0%\n",
      "41.05263157894737%\n",
      "42.10526315789473%\n",
      "43.15789473684211%\n",
      "44.21052631578947%\n",
      "45.26315789473684%\n",
      "46.31578947368421%\n",
      "47.368421052631575%\n",
      "48.421052631578945%\n",
      "49.473684210526315%\n",
      "50.526315789473685%\n",
      "51.578947368421055%\n",
      "52.63157894736842%\n",
      "53.68421052631579%\n",
      "54.736842105263165%\n",
      "55.78947368421052%\n",
      "56.84210526315789%\n",
      "57.89473684210527%\n",
      "58.94736842105262%\n",
      "60.0%\n",
      "61.05263157894737%\n",
      "62.10526315789474%\n",
      "63.1578947368421%\n",
      "64.21052631578948%\n",
      "65.26315789473685%\n",
      "66.3157894736842%\n",
      "67.36842105263158%\n",
      "68.42105263157895%\n",
      "69.47368421052632%\n",
      "70.52631578947368%\n",
      "71.57894736842105%\n",
      "72.63157894736842%\n",
      "73.68421052631578%\n",
      "74.73684210526315%\n",
      "75.78947368421053%\n",
      "76.84210526315789%\n",
      "77.89473684210526%\n",
      "78.94736842105263%\n",
      "80.0%\n",
      "81.05263157894737%\n",
      "82.10526315789474%\n",
      "83.15789473684211%\n",
      "84.21052631578947%\n",
      "85.26315789473684%\n",
      "86.31578947368422%\n",
      "87.36842105263159%\n",
      "88.42105263157895%\n",
      "89.47368421052632%\n",
      "90.52631578947368%\n",
      "91.57894736842105%\n",
      "92.63157894736842%\n",
      "93.6842105263158%\n",
      "94.73684210526315%\n",
      "95.78947368421052%\n",
      "96.84210526315789%\n",
      "97.89473684210527%\n",
      "98.94736842105263%\n"
     ]
    }
   ],
   "source": [
    "dataset = []\n",
    "unique_sequence = uniqueid()\n",
    "# https://github.com/ThilinaRajapakse/simpletransformers#question-answering usei essa estrutura\n",
    "for enum,quesito in enumerate(qa):\n",
    "    print(\"{}%\".format((enum/len(qa))*100))\n",
    "    q = clear_text(quesito[\"pergunta\"])\n",
    "    similaridade, contexto = compare(documento_oficial, q)\n",
    "    dataset.append(\n",
    "        {\"context\":contexto,\n",
    "            'qas' : [{\n",
    "                    'id':str(next(unique_sequence)),\n",
    "                    'is_impossible':True,\n",
    "                    'question':quesito[\"pergunta\"],\n",
    "                    'answers':[{\n",
    "                        'text':quesito['resposta'],\n",
    "                        'answer_start':0\n",
    "                    }]\n",
    "            }]\n",
    "         }\n",
    "    )"
   ]
  },
  {
   "cell_type": "code",
   "execution_count": 11,
   "metadata": {
    "pycharm": {
     "name": "#%%\n"
    }
   },
   "outputs": [],
   "source": [
    "import orjson\n",
    "\n",
    "with open(\"../resources/data_final.json\", 'wb') as f:\n",
    "    f.write(orjson.dumps(dataset, option=orjson.OPT_NAIVE_UTC | orjson.OPT_SERIALIZE_NUMPY))"
   ]
  },
  {
   "cell_type": "code",
   "execution_count": 17,
   "outputs": [
    {
     "data": {
      "text/plain": "{'context': 'atividades pedagogicas utilizadas computo carga horaria tambem poderao ser utilizadas instrumentos avaliacao',\n 'qas': [{'id': '4133842354',\n   'is_impossible': True,\n   'question': 'As aulas serão disponibilizadas no AVA, SIGAA ou em alguma outra plataforma?',\n   'answers': [{'text': 'Recomenda-se o uso do AVA e do SIGAA, mas outras plataformas como o Google Classroom também podem ser usadas. Caso o professor tenha aulas gravadas, ele poderá disponibilizá-las nestas plataformas. Caso sejam realizados encontros síncronos, estes encontros poderão ser gravados pelo professor e disponibilizados posteriormente, na plataforma adotada.',\n     'answer_start': 0}]}]}"
     },
     "execution_count": 17,
     "metadata": {},
     "output_type": "execute_result"
    }
   ],
   "source": [
    "dataset[3]"
   ],
   "metadata": {
    "collapsed": false,
    "pycharm": {
     "name": "#%%\n"
    }
   }
  }
 ],
 "metadata": {
  "kernelspec": {
   "display_name": "Python 3",
   "language": "python",
   "name": "python3"
  },
  "language_info": {
   "codemirror_mode": {
    "name": "ipython",
    "version": 3
   },
   "file_extension": ".py",
   "mimetype": "text/x-python",
   "name": "python",
   "nbconvert_exporter": "python",
   "pygments_lexer": "ipython3",
   "version": "3.6.11"
  }
 },
 "nbformat": 4,
 "nbformat_minor": 1
}