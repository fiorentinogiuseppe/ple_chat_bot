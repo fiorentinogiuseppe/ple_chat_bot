{
 "cells": [
  {
   "cell_type": "code",
   "execution_count": 1,
   "outputs": [
    {
     "name": "stderr",
     "output_type": "stream",
     "text": [
      "\u001B[34m\u001B[1mwandb\u001B[0m: \u001B[33mWARNING\u001B[0m W&B installed but not logged in.  Run `wandb login` or set the WANDB_API_KEY env variable.\n"
     ]
    }
   ],
   "source": [
    "import logging\n",
    "import orjson\n",
    "import numpy as np\n",
    "import math\n",
    "from simpletransformers.question_answering import QuestionAnsweringModel\n",
    "from os import cpu_count\n",
    "\n",
    "logging.basicConfig(level=logging.INFO)\n",
    "transformers_logger = logging.getLogger(\"transformers\")\n",
    "transformers_logger.setLevel(logging.WARNING)"
   ],
   "metadata": {
    "collapsed": false,
    "pycharm": {
     "name": "#%%\n"
    }
   }
  },
  {
   "cell_type": "code",
   "execution_count": 2,
   "outputs": [],
   "source": [
    "with open(\"../resources/data_final.json\", \"rb\") as f:\n",
    "    dataset = orjson.loads(f.read())"
   ],
   "metadata": {
    "collapsed": false,
    "pycharm": {
     "name": "#%%\n"
    }
   }
  },
  {
   "cell_type": "code",
   "execution_count": 3,
   "outputs": [],
   "source": [
    "original = dataset.copy()"
   ],
   "metadata": {
    "collapsed": false,
    "pycharm": {
     "name": "#%%\n"
    }
   }
  },
  {
   "cell_type": "code",
   "execution_count": 4,
   "outputs": [],
   "source": [
    "np.random.seed(0)\n",
    "id_train = np.random.choice(len(dataset), math.ceil(len(dataset)/2))\n",
    "id_test = np.asarray(list(set(range(len(dataset))).difference(set(id_train))))"
   ],
   "metadata": {
    "collapsed": false,
    "pycharm": {
     "name": "#%%\n"
    }
   }
  },
  {
   "cell_type": "code",
   "execution_count": 5,
   "outputs": [],
   "source": [
    "# Create dummy data to use for training.\n",
    "train_data = [dataset[id] for id in id_train].copy()\n",
    "test_data = [dataset[id] for id in id_test].copy()"
   ],
   "metadata": {
    "collapsed": false,
    "pycharm": {
     "name": "#%%\n"
    }
   }
  },
  {
   "cell_type": "code",
   "execution_count": 6,
   "outputs": [],
   "source": [
    "args = {\n",
    "    \"output_dir\": \"../resources/bert/\",\n",
    "    \"cache_dir\": \"../resources/cache/\",\n",
    "    \"best_model_dir\": \"../resources/best_model/\",\n",
    "\n",
    "    \"fp16\": True,\n",
    "    \"max_seq_length\": 64,\n",
    "    \"train_batch_size\": 4,\n",
    "    \"eval_batch_size\": 4,\n",
    "    \"gradient_accumulation_steps\": 6,\n",
    "    \"num_train_epochs\": 200,\n",
    "    \"weight_decay\": 0,\n",
    "    \"learning_rate\": 3e-5,\n",
    "    \"adam_epsilon\": 1e-8,\n",
    "    \"warmup_ratio\": 0.06,\n",
    "    \"warmup_steps\": 0,\n",
    "    \"max_grad_norm\": 1.0,\n",
    "    \"do_lower_case\": True,\n",
    "    \"logging_steps\": 50,\n",
    "    \"evaluate_during_training\": True,\n",
    "    \"evaluate_during_training_steps\": 2000,\n",
    "    \"evaluate_during_training_verbose\": True,\n",
    "    \"use_cached_eval_features\": False,\n",
    "    \"save_eval_checkpoints\": True,\n",
    "    \"save_steps\": 100,\n",
    "    \"no_cache\": False,\n",
    "    \"save_model_every_epoch\": True,\n",
    "    \"tensorboard_dir\": None,\n",
    "\n",
    "    \"overwrite_output_dir\": True,\n",
    "    \"reprocess_input_data\": True,\n",
    "\n",
    "    \"process_count\": cpu_count() - 2 if cpu_count() > 2 else 1,\n",
    "    \"n_gpu\": 1,\n",
    "    \"silent\": False,\n",
    "    \"use_multiprocessing\": True,\n",
    "\n",
    "    \"wandb_project\": None,\n",
    "    \"wandb_kwargs\": {},\n",
    "\n",
    "    \"use_early_stopping\": True,\n",
    "    \"early_stopping_patience\": 3,\n",
    "    \"early_stopping_delta\": 0,\n",
    "    \"early_stopping_metric\": \"eval_loss\",\n",
    "    \"early_stopping_metric_minimize\": True,\n",
    "\n",
    "    \"manual_seed\": 0,\n",
    "    \"encoding\": None,\n",
    "}"
   ],
   "metadata": {
    "collapsed": false,
    "pycharm": {
     "name": "#%%\n"
    }
   }
  },
  {
   "cell_type": "code",
   "execution_count": 7,
   "outputs": [
    {
     "name": "stderr",
     "output_type": "stream",
     "text": [
      "INFO:simpletransformers.question_answering.question_answering_model: Converting to features started.\n",
      "convert squad examples to features:   0%|          | 0/48 [00:00<?, ?it/s]/home/giuseppe/PycharmProjects/ple_chat_bot/venv/lib/python3.6/site-packages/transformers/tokenization_utils_base.py:1324: FutureWarning: The `max_len` attribute has been deprecated and will be removed in a future version, use `model_max_length` instead.\n",
      "  FutureWarning,\n",
      "convert squad examples to features: 100%|██████████| 48/48 [00:00<00:00, 365.86it/s]\n",
      "add example index and unique id: 100%|██████████| 48/48 [00:00<00:00, 85489.00it/s]\n",
      "INFO:simpletransformers.question_answering.question_answering_model:   Continuing training from checkpoint, will skip to saved global_step\n",
      "INFO:simpletransformers.question_answering.question_answering_model:   Continuing training from epoch 158\n",
      "INFO:simpletransformers.question_answering.question_answering_model:   Continuing training from global step 316\n",
      "INFO:simpletransformers.question_answering.question_answering_model:   Will skip the first 0 steps in the current epoch\n",
      "/home/giuseppe/PycharmProjects/ple_chat_bot/venv/lib/python3.6/site-packages/torch/optim/lr_scheduler.py:200: UserWarning: Please also save or load the state of the optimzer when saving or loading the scheduler.\n",
      "  warnings.warn(SAVE_STATE_WARNING, UserWarning)\n",
      "INFO:simpletransformers.question_answering.question_answering_model: Converting to features started.\n",
      "\n",
      "convert squad examples to features:   0%|          | 0/60 [00:00<?, ?it/s]\u001B[A/home/giuseppe/PycharmProjects/ple_chat_bot/venv/lib/python3.6/site-packages/transformers/tokenization_utils_base.py:1324: FutureWarning: The `max_len` attribute has been deprecated and will be removed in a future version, use `model_max_length` instead.\n",
      "  FutureWarning,\n",
      "\n",
      "convert squad examples to features: 100%|██████████| 60/60 [00:00<00:00, 329.33it/s]A\n",
      "\n",
      "add example index and unique id: 100%|██████████| 60/60 [00:00<00:00, 431660.79it/s]\n",
      "INFO:simpletransformers.question_answering.question_answering_model: Converting to features started.\n",
      "\n",
      "convert squad examples to features:   0%|          | 0/60 [00:00<?, ?it/s]\u001B[A/home/giuseppe/PycharmProjects/ple_chat_bot/venv/lib/python3.6/site-packages/transformers/tokenization_utils_base.py:1324: FutureWarning: The `max_len` attribute has been deprecated and will be removed in a future version, use `model_max_length` instead.\n",
      "  FutureWarning,\n",
      "\n",
      "convert squad examples to features: 100%|██████████| 60/60 [00:00<00:00, 330.55it/s]A\n",
      "\n",
      "add example index and unique id: 100%|██████████| 60/60 [00:00<00:00, 395067.88it/s]\n",
      "INFO:simpletransformers.question_answering.question_answering_model: Converting to features started.\n",
      "\n",
      "convert squad examples to features:   0%|          | 0/60 [00:00<?, ?it/s]\u001B[A/home/giuseppe/PycharmProjects/ple_chat_bot/venv/lib/python3.6/site-packages/transformers/tokenization_utils_base.py:1324: FutureWarning: The `max_len` attribute has been deprecated and will be removed in a future version, use `model_max_length` instead.\n",
      "  FutureWarning,\n",
      "\n",
      "convert squad examples to features: 100%|██████████| 60/60 [00:00<00:00, 341.89it/s]A\n",
      "\n",
      "add example index and unique id: 100%|██████████| 60/60 [00:00<00:00, 128397.06it/s]\n",
      "INFO:simpletransformers.question_answering.question_answering_model: Converting to features started.\n",
      "\n",
      "convert squad examples to features:   0%|          | 0/60 [00:00<?, ?it/s]\u001B[A/home/giuseppe/PycharmProjects/ple_chat_bot/venv/lib/python3.6/site-packages/transformers/tokenization_utils_base.py:1324: FutureWarning: The `max_len` attribute has been deprecated and will be removed in a future version, use `model_max_length` instead.\n",
      "  FutureWarning,\n",
      "\n",
      "convert squad examples to features: 100%|██████████| 60/60 [00:00<00:00, 344.45it/s]A\n",
      "\n",
      "add example index and unique id: 100%|██████████| 60/60 [00:00<00:00, 313788.33it/s]\n",
      "INFO:simpletransformers.question_answering.question_answering_model: Converting to features started.\n",
      "\n",
      "convert squad examples to features:   0%|          | 0/60 [00:00<?, ?it/s]\u001B[A/home/giuseppe/PycharmProjects/ple_chat_bot/venv/lib/python3.6/site-packages/transformers/tokenization_utils_base.py:1324: FutureWarning: The `max_len` attribute has been deprecated and will be removed in a future version, use `model_max_length` instead.\n",
      "  FutureWarning,\n",
      "\n",
      "convert squad examples to features: 100%|██████████| 60/60 [00:00<00:00, 337.35it/s]A\n",
      "\n",
      "add example index and unique id: 100%|██████████| 60/60 [00:00<00:00, 342392.16it/s]\n",
      "INFO:simpletransformers.question_answering.question_answering_model: Converting to features started.\n",
      "\n",
      "convert squad examples to features:   0%|          | 0/60 [00:00<?, ?it/s]\u001B[A/home/giuseppe/PycharmProjects/ple_chat_bot/venv/lib/python3.6/site-packages/transformers/tokenization_utils_base.py:1324: FutureWarning: The `max_len` attribute has been deprecated and will be removed in a future version, use `model_max_length` instead.\n",
      "  FutureWarning,\n",
      "\n",
      "convert squad examples to features: 100%|██████████| 60/60 [00:00<00:00, 336.67it/s]A\n",
      "\n",
      "add example index and unique id: 100%|██████████| 60/60 [00:00<00:00, 252162.57it/s]\n",
      "INFO:simpletransformers.question_answering.question_answering_model: Converting to features started.\n",
      "\n",
      "convert squad examples to features:   0%|          | 0/60 [00:00<?, ?it/s]\u001B[A/home/giuseppe/PycharmProjects/ple_chat_bot/venv/lib/python3.6/site-packages/transformers/tokenization_utils_base.py:1324: FutureWarning: The `max_len` attribute has been deprecated and will be removed in a future version, use `model_max_length` instead.\n",
      "  FutureWarning,\n",
      "\n",
      "convert squad examples to features: 100%|██████████| 60/60 [00:00<00:00, 339.03it/s]A\n",
      "\n",
      "add example index and unique id: 100%|██████████| 60/60 [00:00<00:00, 271183.45it/s]\n",
      "INFO:simpletransformers.question_answering.question_answering_model: Converting to features started.\n",
      "\n",
      "convert squad examples to features:   0%|          | 0/60 [00:00<?, ?it/s]\u001B[A/home/giuseppe/PycharmProjects/ple_chat_bot/venv/lib/python3.6/site-packages/transformers/tokenization_utils_base.py:1324: FutureWarning: The `max_len` attribute has been deprecated and will be removed in a future version, use `model_max_length` instead.\n",
      "  FutureWarning,\n",
      "\n",
      "convert squad examples to features: 100%|██████████| 60/60 [00:00<00:00, 75.48it/s][A\n",
      "\n",
      "add example index and unique id: 100%|██████████| 60/60 [00:00<00:00, 246482.12it/s]\n",
      "INFO:simpletransformers.question_answering.question_answering_model: Converting to features started.\n",
      "\n",
      "convert squad examples to features:   0%|          | 0/60 [00:00<?, ?it/s]\u001B[A/home/giuseppe/PycharmProjects/ple_chat_bot/venv/lib/python3.6/site-packages/transformers/tokenization_utils_base.py:1324: FutureWarning: The `max_len` attribute has been deprecated and will be removed in a future version, use `model_max_length` instead.\n",
      "  FutureWarning,\n",
      "\n",
      "convert squad examples to features: 100%|██████████| 60/60 [00:00<00:00, 301.53it/s]A\n",
      "\n",
      "add example index and unique id: 100%|██████████| 60/60 [00:00<00:00, 328535.56it/s]\n",
      "INFO:simpletransformers.question_answering.question_answering_model: Converting to features started.\n",
      "\n",
      "convert squad examples to features:   0%|          | 0/60 [00:00<?, ?it/s]\u001B[A/home/giuseppe/PycharmProjects/ple_chat_bot/venv/lib/python3.6/site-packages/transformers/tokenization_utils_base.py:1324: FutureWarning: The `max_len` attribute has been deprecated and will be removed in a future version, use `model_max_length` instead.\n",
      "  FutureWarning,\n",
      "\n",
      "convert squad examples to features: 100%|██████████| 60/60 [00:00<00:00, 72.57it/s][A\n",
      "\n",
      "add example index and unique id: 100%|██████████| 60/60 [00:00<00:00, 266587.12it/s]\n",
      "INFO:simpletransformers.question_answering.question_answering_model: Converting to features started.\n",
      "\n",
      "convert squad examples to features:   0%|          | 0/60 [00:00<?, ?it/s]\u001B[A/home/giuseppe/PycharmProjects/ple_chat_bot/venv/lib/python3.6/site-packages/transformers/tokenization_utils_base.py:1324: FutureWarning: The `max_len` attribute has been deprecated and will be removed in a future version, use `model_max_length` instead.\n",
      "  FutureWarning,\n",
      "\n",
      "convert squad examples to features: 100%|██████████| 60/60 [00:00<00:00, 340.58it/s]A\n",
      "\n",
      "add example index and unique id: 100%|██████████| 60/60 [00:00<00:00, 334651.91it/s]\n",
      "INFO:simpletransformers.question_answering.question_answering_model: Converting to features started.\n",
      "\n",
      "convert squad examples to features:   0%|          | 0/60 [00:00<?, ?it/s]\u001B[A/home/giuseppe/PycharmProjects/ple_chat_bot/venv/lib/python3.6/site-packages/transformers/tokenization_utils_base.py:1324: FutureWarning: The `max_len` attribute has been deprecated and will be removed in a future version, use `model_max_length` instead.\n",
      "  FutureWarning,\n",
      "\n",
      "convert squad examples to features: 100%|██████████| 60/60 [00:01<00:00, 40.86it/s][A\n",
      "\n",
      "add example index and unique id: 100%|██████████| 60/60 [00:00<00:00, 407873.97it/s]\n",
      "INFO:simpletransformers.question_answering.question_answering_model: Converting to features started.\n",
      "\n",
      "convert squad examples to features:   0%|          | 0/60 [00:00<?, ?it/s]\u001B[A/home/giuseppe/PycharmProjects/ple_chat_bot/venv/lib/python3.6/site-packages/transformers/tokenization_utils_base.py:1324: FutureWarning: The `max_len` attribute has been deprecated and will be removed in a future version, use `model_max_length` instead.\n",
      "  FutureWarning,\n",
      "\n",
      "convert squad examples to features: 100%|██████████| 60/60 [00:00<00:00, 348.36it/s]A\n",
      "\n",
      "add example index and unique id: 100%|██████████| 60/60 [00:00<00:00, 189216.72it/s]\n",
      "INFO:simpletransformers.question_answering.question_answering_model: Converting to features started.\n",
      "\n",
      "convert squad examples to features:   0%|          | 0/60 [00:00<?, ?it/s]\u001B[A/home/giuseppe/PycharmProjects/ple_chat_bot/venv/lib/python3.6/site-packages/transformers/tokenization_utils_base.py:1324: FutureWarning: The `max_len` attribute has been deprecated and will be removed in a future version, use `model_max_length` instead.\n",
      "  FutureWarning,\n",
      "\n",
      "convert squad examples to features: 100%|██████████| 60/60 [00:00<00:00, 61.32it/s][A\n",
      "\n",
      "add example index and unique id: 100%|██████████| 60/60 [00:00<00:00, 437666.50it/s]\n",
      "INFO:simpletransformers.question_answering.question_answering_model: Converting to features started.\n",
      "\n",
      "convert squad examples to features:   0%|          | 0/60 [00:00<?, ?it/s]\u001B[A/home/giuseppe/PycharmProjects/ple_chat_bot/venv/lib/python3.6/site-packages/transformers/tokenization_utils_base.py:1324: FutureWarning: The `max_len` attribute has been deprecated and will be removed in a future version, use `model_max_length` instead.\n",
      "  FutureWarning,\n",
      "\n",
      "convert squad examples to features: 100%|██████████| 60/60 [00:00<00:00, 336.60it/s]A\n",
      "\n",
      "add example index and unique id: 100%|██████████| 60/60 [00:00<00:00, 245280.94it/s]\n",
      "INFO:simpletransformers.question_answering.question_answering_model: Converting to features started.\n",
      "\n",
      "convert squad examples to features:   0%|          | 0/60 [00:00<?, ?it/s]\u001B[A/home/giuseppe/PycharmProjects/ple_chat_bot/venv/lib/python3.6/site-packages/transformers/tokenization_utils_base.py:1324: FutureWarning: The `max_len` attribute has been deprecated and will be removed in a future version, use `model_max_length` instead.\n",
      "  FutureWarning,\n",
      "\n",
      "convert squad examples to features: 100%|██████████| 60/60 [00:00<00:00, 166.05it/s]A\n",
      "\n",
      "add example index and unique id: 100%|██████████| 60/60 [00:00<00:00, 112498.10it/s]\n",
      "/home/giuseppe/PycharmProjects/ple_chat_bot/venv/lib/python3.6/site-packages/torch/optim/lr_scheduler.py:231: UserWarning: To get the last learning rate computed by the scheduler, please use `get_last_lr()`.\n",
      "  warnings.warn(\"To get the last learning rate computed by the scheduler, \"\n",
      "INFO:simpletransformers.question_answering.question_answering_model: Converting to features started.\n",
      "\n",
      "convert squad examples to features:   0%|          | 0/60 [00:00<?, ?it/s]\u001B[A/home/giuseppe/PycharmProjects/ple_chat_bot/venv/lib/python3.6/site-packages/transformers/tokenization_utils_base.py:1324: FutureWarning: The `max_len` attribute has been deprecated and will be removed in a future version, use `model_max_length` instead.\n",
      "  FutureWarning,\n",
      "\n",
      "convert squad examples to features: 100%|██████████| 60/60 [00:01<00:00, 53.15it/s][A\n",
      "\n",
      "add example index and unique id: 100%|██████████| 60/60 [00:00<00:00, 395067.88it/s]\n",
      "INFO:simpletransformers.question_answering.question_answering_model: Converting to features started.\n",
      "\n",
      "convert squad examples to features:   0%|          | 0/60 [00:00<?, ?it/s]\u001B[A/home/giuseppe/PycharmProjects/ple_chat_bot/venv/lib/python3.6/site-packages/transformers/tokenization_utils_base.py:1324: FutureWarning: The `max_len` attribute has been deprecated and will be removed in a future version, use `model_max_length` instead.\n",
      "  FutureWarning,\n",
      "\n",
      "convert squad examples to features: 100%|██████████| 60/60 [00:01<00:00, 36.12it/s][A\n",
      "\n",
      "add example index and unique id: 100%|██████████| 60/60 [00:00<00:00, 432402.47it/s]\n",
      "INFO:simpletransformers.question_answering.question_answering_model: Converting to features started.\n",
      "\n",
      "convert squad examples to features:   0%|          | 0/60 [00:00<?, ?it/s]\u001B[A/home/giuseppe/PycharmProjects/ple_chat_bot/venv/lib/python3.6/site-packages/transformers/tokenization_utils_base.py:1324: FutureWarning: The `max_len` attribute has been deprecated and will be removed in a future version, use `model_max_length` instead.\n",
      "  FutureWarning,\n",
      "\n",
      "convert squad examples to features: 100%|██████████| 60/60 [00:02<00:00, 27.08it/s][A\n",
      "\n",
      "add example index and unique id: 100%|██████████| 60/60 [00:00<00:00, 361059.17it/s]\n",
      "INFO:simpletransformers.question_answering.question_answering_model: Converting to features started.\n",
      "\n",
      "convert squad examples to features:   0%|          | 0/60 [00:00<?, ?it/s]\u001B[A/home/giuseppe/PycharmProjects/ple_chat_bot/venv/lib/python3.6/site-packages/transformers/tokenization_utils_base.py:1324: FutureWarning: The `max_len` attribute has been deprecated and will be removed in a future version, use `model_max_length` instead.\n",
      "  FutureWarning,\n",
      "\n",
      "convert squad examples to features: 100%|██████████| 60/60 [00:02<00:00, 22.94it/s][A\n",
      "\n",
      "add example index and unique id: 100%|██████████| 60/60 [00:00<00:00, 320175.88it/s]\n",
      "INFO:simpletransformers.question_answering.question_answering_model: Converting to features started.\n",
      "\n",
      "convert squad examples to features:   0%|          | 0/60 [00:00<?, ?it/s]\u001B[A/home/giuseppe/PycharmProjects/ple_chat_bot/venv/lib/python3.6/site-packages/transformers/tokenization_utils_base.py:1324: FutureWarning: The `max_len` attribute has been deprecated and will be removed in a future version, use `model_max_length` instead.\n",
      "  FutureWarning,\n",
      "\n",
      "convert squad examples to features: 100%|██████████| 60/60 [00:02<00:00, 20.87it/s][A\n",
      "\n",
      "add example index and unique id: 100%|██████████| 60/60 [00:00<00:00, 144465.12it/s]\n",
      "INFO:simpletransformers.question_answering.question_answering_model: Converting to features started.\n",
      "\n",
      "convert squad examples to features:   0%|          | 0/60 [00:00<?, ?it/s]\u001B[A/home/giuseppe/PycharmProjects/ple_chat_bot/venv/lib/python3.6/site-packages/transformers/tokenization_utils_base.py:1324: FutureWarning: The `max_len` attribute has been deprecated and will be removed in a future version, use `model_max_length` instead.\n",
      "  FutureWarning,\n",
      "\n",
      "convert squad examples to features: 100%|██████████| 60/60 [00:02<00:00, 22.25it/s][A\n",
      "\n",
      "add example index and unique id: 100%|██████████| 60/60 [00:00<00:00, 243854.88it/s]\n",
      "INFO:simpletransformers.question_answering.question_answering_model: Converting to features started.\n",
      "\n",
      "convert squad examples to features:   0%|          | 0/60 [00:00<?, ?it/s]\u001B[A/home/giuseppe/PycharmProjects/ple_chat_bot/venv/lib/python3.6/site-packages/transformers/tokenization_utils_base.py:1324: FutureWarning: The `max_len` attribute has been deprecated and will be removed in a future version, use `model_max_length` instead.\n",
      "  FutureWarning,\n",
      "\n",
      "convert squad examples to features: 100%|██████████| 60/60 [00:01<00:00, 56.60it/s][A\n",
      "\n",
      "add example index and unique id: 100%|██████████| 60/60 [00:00<00:00, 392602.56it/s]\n",
      "INFO:simpletransformers.question_answering.question_answering_model: Converting to features started.\n",
      "\n",
      "convert squad examples to features:   0%|          | 0/60 [00:00<?, ?it/s]\u001B[A/home/giuseppe/PycharmProjects/ple_chat_bot/venv/lib/python3.6/site-packages/transformers/tokenization_utils_base.py:1324: FutureWarning: The `max_len` attribute has been deprecated and will be removed in a future version, use `model_max_length` instead.\n",
      "  FutureWarning,\n",
      "\n",
      "convert squad examples to features: 100%|██████████| 60/60 [00:01<00:00, 44.38it/s][A\n",
      "\n",
      "add example index and unique id: 100%|██████████| 60/60 [00:00<00:00, 126843.87it/s]\n",
      "INFO:simpletransformers.question_answering.question_answering_model: Converting to features started.\n",
      "\n",
      "convert squad examples to features:   0%|          | 0/60 [00:00<?, ?it/s]\u001B[A/home/giuseppe/PycharmProjects/ple_chat_bot/venv/lib/python3.6/site-packages/transformers/tokenization_utils_base.py:1324: FutureWarning: The `max_len` attribute has been deprecated and will be removed in a future version, use `model_max_length` instead.\n",
      "  FutureWarning,\n",
      "\n",
      "convert squad examples to features: 100%|██████████| 60/60 [00:01<00:00, 35.25it/s][A\n",
      "\n",
      "add example index and unique id: 100%|██████████| 60/60 [00:00<00:00, 347114.81it/s]\n",
      "INFO:simpletransformers.question_answering.question_answering_model: Converting to features started.\n",
      "\n",
      "convert squad examples to features:   0%|          | 0/60 [00:00<?, ?it/s]\u001B[A/home/giuseppe/PycharmProjects/ple_chat_bot/venv/lib/python3.6/site-packages/transformers/tokenization_utils_base.py:1324: FutureWarning: The `max_len` attribute has been deprecated and will be removed in a future version, use `model_max_length` instead.\n",
      "  FutureWarning,\n",
      "\n",
      "convert squad examples to features: 100%|██████████| 60/60 [00:02<00:00, 28.51it/s][A\n",
      "\n",
      "add example index and unique id: 100%|██████████| 60/60 [00:00<00:00, 409866.84it/s]\n",
      "INFO:simpletransformers.question_answering.question_answering_model: Converting to features started.\n",
      "\n",
      "convert squad examples to features:   0%|          | 0/60 [00:00<?, ?it/s]\u001B[A/home/giuseppe/PycharmProjects/ple_chat_bot/venv/lib/python3.6/site-packages/transformers/tokenization_utils_base.py:1324: FutureWarning: The `max_len` attribute has been deprecated and will be removed in a future version, use `model_max_length` instead.\n",
      "  FutureWarning,\n",
      "\n",
      "convert squad examples to features: 100%|██████████| 60/60 [00:00<00:00, 92.76it/s][A\n",
      "\n",
      "add example index and unique id: 100%|██████████| 60/60 [00:00<00:00, 214542.40it/s]\n",
      "INFO:simpletransformers.question_answering.question_answering_model: Converting to features started.\n",
      "\n",
      "convert squad examples to features:   0%|          | 0/60 [00:00<?, ?it/s]\u001B[A/home/giuseppe/PycharmProjects/ple_chat_bot/venv/lib/python3.6/site-packages/transformers/tokenization_utils_base.py:1324: FutureWarning: The `max_len` attribute has been deprecated and will be removed in a future version, use `model_max_length` instead.\n",
      "  FutureWarning,\n",
      "\n",
      "convert squad examples to features: 100%|██████████| 60/60 [00:00<00:00, 340.76it/s]A\n",
      "\n",
      "add example index and unique id: 100%|██████████| 60/60 [00:00<00:00, 361577.93it/s]\n",
      "INFO:simpletransformers.question_answering.question_answering_model: Converting to features started.\n",
      "\n",
      "convert squad examples to features:   0%|          | 0/60 [00:00<?, ?it/s]\u001B[A/home/giuseppe/PycharmProjects/ple_chat_bot/venv/lib/python3.6/site-packages/transformers/tokenization_utils_base.py:1324: FutureWarning: The `max_len` attribute has been deprecated and will be removed in a future version, use `model_max_length` instead.\n",
      "  FutureWarning,\n",
      "\n",
      "convert squad examples to features: 100%|██████████| 60/60 [00:00<00:00, 341.68it/s]A\n",
      "\n",
      "add example index and unique id: 100%|██████████| 60/60 [00:00<00:00, 285650.67it/s]\n",
      "INFO:simpletransformers.question_answering.question_answering_model: Converting to features started.\n",
      "\n",
      "convert squad examples to features:   0%|          | 0/60 [00:00<?, ?it/s]\u001B[A/home/giuseppe/PycharmProjects/ple_chat_bot/venv/lib/python3.6/site-packages/transformers/tokenization_utils_base.py:1324: FutureWarning: The `max_len` attribute has been deprecated and will be removed in a future version, use `model_max_length` instead.\n",
      "  FutureWarning,\n",
      "\n",
      "convert squad examples to features: 100%|██████████| 60/60 [00:00<00:00, 339.71it/s]A\n",
      "\n",
      "add example index and unique id: 100%|██████████| 60/60 [00:00<00:00, 377865.23it/s]\n",
      "INFO:simpletransformers.question_answering.question_answering_model: Converting to features started.\n",
      "\n",
      "convert squad examples to features:   0%|          | 0/60 [00:00<?, ?it/s]\u001B[A/home/giuseppe/PycharmProjects/ple_chat_bot/venv/lib/python3.6/site-packages/transformers/tokenization_utils_base.py:1324: FutureWarning: The `max_len` attribute has been deprecated and will be removed in a future version, use `model_max_length` instead.\n",
      "  FutureWarning,\n",
      "\n",
      "convert squad examples to features: 100%|██████████| 60/60 [00:00<00:00, 342.96it/s]A\n",
      "\n",
      "add example index and unique id: 100%|██████████| 60/60 [00:00<00:00, 270600.26it/s]\n",
      "INFO:simpletransformers.question_answering.question_answering_model: Converting to features started.\n",
      "\n",
      "convert squad examples to features:   0%|          | 0/60 [00:00<?, ?it/s]\u001B[A/home/giuseppe/PycharmProjects/ple_chat_bot/venv/lib/python3.6/site-packages/transformers/tokenization_utils_base.py:1324: FutureWarning: The `max_len` attribute has been deprecated and will be removed in a future version, use `model_max_length` instead.\n",
      "  FutureWarning,\n",
      "\n",
      "convert squad examples to features: 100%|██████████| 60/60 [00:00<00:00, 342.74it/s]A\n",
      "\n",
      "add example index and unique id: 100%|██████████| 60/60 [00:00<00:00, 217321.45it/s]\n",
      "INFO:simpletransformers.question_answering.question_answering_model: Converting to features started.\n",
      "\n",
      "convert squad examples to features:   0%|          | 0/60 [00:00<?, ?it/s]\u001B[A/home/giuseppe/PycharmProjects/ple_chat_bot/venv/lib/python3.6/site-packages/transformers/tokenization_utils_base.py:1324: FutureWarning: The `max_len` attribute has been deprecated and will be removed in a future version, use `model_max_length` instead.\n",
      "  FutureWarning,\n",
      "\n",
      "convert squad examples to features: 100%|██████████| 60/60 [00:00<00:00, 339.66it/s]A\n",
      "\n",
      "add example index and unique id: 100%|██████████| 60/60 [00:00<00:00, 254972.89it/s]\n",
      "INFO:simpletransformers.question_answering.question_answering_model: Converting to features started.\n",
      "\n",
      "convert squad examples to features:   0%|          | 0/60 [00:00<?, ?it/s]\u001B[A/home/giuseppe/PycharmProjects/ple_chat_bot/venv/lib/python3.6/site-packages/transformers/tokenization_utils_base.py:1324: FutureWarning: The `max_len` attribute has been deprecated and will be removed in a future version, use `model_max_length` instead.\n",
      "  FutureWarning,\n",
      "\n",
      "convert squad examples to features: 100%|██████████| 60/60 [00:00<00:00, 337.00it/s]A\n",
      "\n",
      "add example index and unique id: 100%|██████████| 60/60 [00:00<00:00, 254200.24it/s]\n",
      "INFO:simpletransformers.question_answering.question_answering_model: Converting to features started.\n",
      "\n",
      "convert squad examples to features:   0%|          | 0/60 [00:00<?, ?it/s]\u001B[A/home/giuseppe/PycharmProjects/ple_chat_bot/venv/lib/python3.6/site-packages/transformers/tokenization_utils_base.py:1324: FutureWarning: The `max_len` attribute has been deprecated and will be removed in a future version, use `model_max_length` instead.\n",
      "  FutureWarning,\n",
      "\n",
      "convert squad examples to features: 100%|██████████| 60/60 [00:00<00:00, 339.32it/s]A\n",
      "\n",
      "add example index and unique id: 100%|██████████| 60/60 [00:00<00:00, 356962.04it/s]\n",
      "INFO:simpletransformers.question_answering.question_answering_model: Converting to features started.\n",
      "\n",
      "convert squad examples to features:   0%|          | 0/60 [00:00<?, ?it/s]\u001B[A/home/giuseppe/PycharmProjects/ple_chat_bot/venv/lib/python3.6/site-packages/transformers/tokenization_utils_base.py:1324: FutureWarning: The `max_len` attribute has been deprecated and will be removed in a future version, use `model_max_length` instead.\n",
      "  FutureWarning,\n",
      "\n",
      "convert squad examples to features: 100%|██████████| 60/60 [00:00<00:00, 347.93it/s]A\n",
      "\n",
      "add example index and unique id: 100%|██████████| 60/60 [00:00<00:00, 288268.32it/s]\n",
      "INFO:simpletransformers.question_answering.question_answering_model: Converting to features started.\n",
      "\n",
      "convert squad examples to features:   0%|          | 0/60 [00:00<?, ?it/s]\u001B[A/home/giuseppe/PycharmProjects/ple_chat_bot/venv/lib/python3.6/site-packages/transformers/tokenization_utils_base.py:1324: FutureWarning: The `max_len` attribute has been deprecated and will be removed in a future version, use `model_max_length` instead.\n",
      "  FutureWarning,\n",
      "\n",
      "convert squad examples to features: 100%|██████████| 60/60 [00:00<00:00, 343.15it/s]A\n",
      "\n",
      "add example index and unique id: 100%|██████████| 60/60 [00:00<00:00, 258111.02it/s]\n",
      "INFO:simpletransformers.question_answering.question_answering_model: Converting to features started.\n",
      "\n",
      "convert squad examples to features:   0%|          | 0/60 [00:00<?, ?it/s]\u001B[A/home/giuseppe/PycharmProjects/ple_chat_bot/venv/lib/python3.6/site-packages/transformers/tokenization_utils_base.py:1324: FutureWarning: The `max_len` attribute has been deprecated and will be removed in a future version, use `model_max_length` instead.\n",
      "  FutureWarning,\n",
      "\n",
      "convert squad examples to features: 100%|██████████| 60/60 [00:00<00:00, 321.61it/s]A\n",
      "\n",
      "add example index and unique id: 100%|██████████| 60/60 [00:00<00:00, 436906.67it/s]\n",
      "INFO:simpletransformers.question_answering.question_answering_model: Converting to features started.\n",
      "\n",
      "convert squad examples to features:   0%|          | 0/60 [00:00<?, ?it/s]\u001B[A/home/giuseppe/PycharmProjects/ple_chat_bot/venv/lib/python3.6/site-packages/transformers/tokenization_utils_base.py:1324: FutureWarning: The `max_len` attribute has been deprecated and will be removed in a future version, use `model_max_length` instead.\n",
      "  FutureWarning,\n",
      "\n",
      "convert squad examples to features: 100%|██████████| 60/60 [00:00<00:00, 327.40it/s]A\n",
      "\n",
      "add example index and unique id: 100%|██████████| 60/60 [00:00<00:00, 234975.01it/s]\n",
      "INFO:simpletransformers.question_answering.question_answering_model: Converting to features started.\n",
      "\n",
      "convert squad examples to features:   0%|          | 0/60 [00:00<?, ?it/s]\u001B[A/home/giuseppe/PycharmProjects/ple_chat_bot/venv/lib/python3.6/site-packages/transformers/tokenization_utils_base.py:1324: FutureWarning: The `max_len` attribute has been deprecated and will be removed in a future version, use `model_max_length` instead.\n",
      "  FutureWarning,\n",
      "\n",
      "convert squad examples to features: 100%|██████████| 60/60 [00:00<00:00, 340.48it/s]A\n",
      "\n",
      "add example index and unique id: 100%|██████████| 60/60 [00:00<00:00, 413231.92it/s]\n",
      "INFO:simpletransformers.question_answering.question_answering_model: Converting to features started.\n",
      "\n",
      "convert squad examples to features:   0%|          | 0/60 [00:00<?, ?it/s]\u001B[A/home/giuseppe/PycharmProjects/ple_chat_bot/venv/lib/python3.6/site-packages/transformers/tokenization_utils_base.py:1324: FutureWarning: The `max_len` attribute has been deprecated and will be removed in a future version, use `model_max_length` instead.\n",
      "  FutureWarning,\n",
      "\n",
      "convert squad examples to features: 100%|██████████| 60/60 [00:00<00:00, 344.76it/s]A\n",
      "\n",
      "add example index and unique id: 100%|██████████| 60/60 [00:00<00:00, 277156.65it/s]\n",
      "INFO:simpletransformers.question_answering.question_answering_model: Converting to features started.\n",
      "\n",
      "convert squad examples to features:   0%|          | 0/60 [00:00<?, ?it/s]\u001B[A/home/giuseppe/PycharmProjects/ple_chat_bot/venv/lib/python3.6/site-packages/transformers/tokenization_utils_base.py:1324: FutureWarning: The `max_len` attribute has been deprecated and will be removed in a future version, use `model_max_length` instead.\n",
      "  FutureWarning,\n",
      "\n",
      "convert squad examples to features: 100%|██████████| 60/60 [00:00<00:00, 341.05it/s]A\n",
      "\n",
      "add example index and unique id: 100%|██████████| 60/60 [00:00<00:00, 293307.97it/s]\n",
      "INFO:simpletransformers.question_answering.question_answering_model: Training of bert model complete. Saved to ../resources/bert/.\n"
     ]
    },
    {
     "data": {
      "text/plain": "HBox(children=(HTML(value='Epoch'), FloatProgress(value=0.0, max=200.0), HTML(value='')))",
      "application/vnd.jupyter.widget-view+json": {
       "version_major": 2,
       "version_minor": 0,
       "model_id": "c8345072731040acb3b59f9102e2e115"
      }
     },
     "metadata": {},
     "output_type": "display_data"
    },
    {
     "data": {
      "text/plain": "HBox(children=(HTML(value='Running Epoch 0 of 200'), FloatProgress(value=0.0, max=12.0), HTML(value='')))",
      "application/vnd.jupyter.widget-view+json": {
       "version_major": 2,
       "version_minor": 0,
       "model_id": "d48690c7a1334bd196b6d1cd7cd79dbf"
      }
     },
     "metadata": {},
     "output_type": "display_data"
    },
    {
     "name": "stdout",
     "output_type": "stream",
     "text": [
      "\n",
      "\n",
      "\n",
      "\n",
      "\n",
      "\n",
      "\n",
      "\n",
      "\n",
      "\n",
      "\n",
      "\n",
      "\n",
      "\n",
      "\n",
      "\n",
      "\n",
      "\n",
      "\n",
      "\n",
      "\n",
      "\n",
      "\n",
      "\n",
      "\n",
      "\n",
      "\n",
      "\n",
      "\n",
      "\n",
      "\n",
      "\n",
      "\n",
      "\n",
      "\n",
      "\n",
      "\n",
      "\n",
      "\n",
      "\n",
      "\n",
      "\n",
      "\n",
      "\n",
      "\n",
      "\n",
      "\n",
      "\n",
      "\n",
      "\n",
      "\n",
      "\n",
      "\n",
      "\n",
      "\n",
      "\n",
      "\n",
      "\n",
      "\n",
      "\n",
      "\n",
      "\n",
      "\n",
      "\n",
      "\n",
      "\n",
      "\n",
      "\n",
      "\n",
      "\n",
      "\n",
      "\n",
      "\n",
      "\n",
      "\n",
      "\n",
      "\n",
      "\n",
      "\n",
      "\n",
      "\n",
      "\n",
      "\n",
      "\n",
      "\n"
     ]
    },
    {
     "data": {
      "text/plain": "HBox(children=(HTML(value='Running Evaluation'), FloatProgress(value=0.0, max=15.0), HTML(value='')))",
      "application/vnd.jupyter.widget-view+json": {
       "version_major": 2,
       "version_minor": 0,
       "model_id": "74728bb2a24244ac8e2af761fb77dcfe"
      }
     },
     "metadata": {},
     "output_type": "display_data"
    },
    {
     "data": {
      "text/plain": "HBox(children=(HTML(value='Running Epoch 1 of 200'), FloatProgress(value=0.0, max=12.0), HTML(value='')))",
      "application/vnd.jupyter.widget-view+json": {
       "version_major": 2,
       "version_minor": 0,
       "model_id": "ffa5d1329fa74a58b5cacf9333eb2de2"
      }
     },
     "metadata": {},
     "output_type": "display_data"
    },
    {
     "data": {
      "text/plain": "HBox(children=(HTML(value='Running Evaluation'), FloatProgress(value=0.0, max=15.0), HTML(value='')))",
      "application/vnd.jupyter.widget-view+json": {
       "version_major": 2,
       "version_minor": 0,
       "model_id": "3f207c9475fc4cc69c2a2533260c5f8d"
      }
     },
     "metadata": {},
     "output_type": "display_data"
    },
    {
     "data": {
      "text/plain": "HBox(children=(HTML(value='Running Epoch 2 of 200'), FloatProgress(value=0.0, max=12.0), HTML(value='')))",
      "application/vnd.jupyter.widget-view+json": {
       "version_major": 2,
       "version_minor": 0,
       "model_id": "1428e17d0f9b492287bc95e0d983d42a"
      }
     },
     "metadata": {},
     "output_type": "display_data"
    },
    {
     "data": {
      "text/plain": "HBox(children=(HTML(value='Running Evaluation'), FloatProgress(value=0.0, max=15.0), HTML(value='')))",
      "application/vnd.jupyter.widget-view+json": {
       "version_major": 2,
       "version_minor": 0,
       "model_id": "15c8d3b9ca154c80acab00f811bd862b"
      }
     },
     "metadata": {},
     "output_type": "display_data"
    },
    {
     "data": {
      "text/plain": "HBox(children=(HTML(value='Running Epoch 3 of 200'), FloatProgress(value=0.0, max=12.0), HTML(value='')))",
      "application/vnd.jupyter.widget-view+json": {
       "version_major": 2,
       "version_minor": 0,
       "model_id": "5ca23bbc2f4a44cfbf679ecaed4e7947"
      }
     },
     "metadata": {},
     "output_type": "display_data"
    },
    {
     "data": {
      "text/plain": "HBox(children=(HTML(value='Running Evaluation'), FloatProgress(value=0.0, max=15.0), HTML(value='')))",
      "application/vnd.jupyter.widget-view+json": {
       "version_major": 2,
       "version_minor": 0,
       "model_id": "b119de313ccd489fbc5a1b560198b245"
      }
     },
     "metadata": {},
     "output_type": "display_data"
    },
    {
     "data": {
      "text/plain": "HBox(children=(HTML(value='Running Epoch 4 of 200'), FloatProgress(value=0.0, max=12.0), HTML(value='')))",
      "application/vnd.jupyter.widget-view+json": {
       "version_major": 2,
       "version_minor": 0,
       "model_id": "ebd8acb9f0b545c9850c8d29d4179290"
      }
     },
     "metadata": {},
     "output_type": "display_data"
    },
    {
     "data": {
      "text/plain": "HBox(children=(HTML(value='Running Evaluation'), FloatProgress(value=0.0, max=15.0), HTML(value='')))",
      "application/vnd.jupyter.widget-view+json": {
       "version_major": 2,
       "version_minor": 0,
       "model_id": "ddae72446dad4e37b71bb551d6473bea"
      }
     },
     "metadata": {},
     "output_type": "display_data"
    },
    {
     "data": {
      "text/plain": "HBox(children=(HTML(value='Running Epoch 5 of 200'), FloatProgress(value=0.0, max=12.0), HTML(value='')))",
      "application/vnd.jupyter.widget-view+json": {
       "version_major": 2,
       "version_minor": 0,
       "model_id": "ccde7d75b01a494f9b649b43564ebdb3"
      }
     },
     "metadata": {},
     "output_type": "display_data"
    },
    {
     "data": {
      "text/plain": "HBox(children=(HTML(value='Running Evaluation'), FloatProgress(value=0.0, max=15.0), HTML(value='')))",
      "application/vnd.jupyter.widget-view+json": {
       "version_major": 2,
       "version_minor": 0,
       "model_id": "28b6c33b83814b9fb626c4bb64421dec"
      }
     },
     "metadata": {},
     "output_type": "display_data"
    },
    {
     "data": {
      "text/plain": "HBox(children=(HTML(value='Running Epoch 6 of 200'), FloatProgress(value=0.0, max=12.0), HTML(value='')))",
      "application/vnd.jupyter.widget-view+json": {
       "version_major": 2,
       "version_minor": 0,
       "model_id": "d541cb32f9d34c6b8b70cded07d18399"
      }
     },
     "metadata": {},
     "output_type": "display_data"
    },
    {
     "data": {
      "text/plain": "HBox(children=(HTML(value='Running Evaluation'), FloatProgress(value=0.0, max=15.0), HTML(value='')))",
      "application/vnd.jupyter.widget-view+json": {
       "version_major": 2,
       "version_minor": 0,
       "model_id": "5259a03faa4145a99037af039446e229"
      }
     },
     "metadata": {},
     "output_type": "display_data"
    },
    {
     "data": {
      "text/plain": "HBox(children=(HTML(value='Running Epoch 7 of 200'), FloatProgress(value=0.0, max=12.0), HTML(value='')))",
      "application/vnd.jupyter.widget-view+json": {
       "version_major": 2,
       "version_minor": 0,
       "model_id": "5add882035984802a62bf2f14815894b"
      }
     },
     "metadata": {},
     "output_type": "display_data"
    },
    {
     "data": {
      "text/plain": "HBox(children=(HTML(value='Running Evaluation'), FloatProgress(value=0.0, max=15.0), HTML(value='')))",
      "application/vnd.jupyter.widget-view+json": {
       "version_major": 2,
       "version_minor": 0,
       "model_id": "6aafc10c964c4145a26846e7eadfbc84"
      }
     },
     "metadata": {},
     "output_type": "display_data"
    },
    {
     "data": {
      "text/plain": "HBox(children=(HTML(value='Running Epoch 8 of 200'), FloatProgress(value=0.0, max=12.0), HTML(value='')))",
      "application/vnd.jupyter.widget-view+json": {
       "version_major": 2,
       "version_minor": 0,
       "model_id": "2bd264a0453c4e0cad4967c64e80242a"
      }
     },
     "metadata": {},
     "output_type": "display_data"
    },
    {
     "data": {
      "text/plain": "HBox(children=(HTML(value='Running Evaluation'), FloatProgress(value=0.0, max=15.0), HTML(value='')))",
      "application/vnd.jupyter.widget-view+json": {
       "version_major": 2,
       "version_minor": 0,
       "model_id": "e8628f2065024cd58760193d3f871bdf"
      }
     },
     "metadata": {},
     "output_type": "display_data"
    },
    {
     "data": {
      "text/plain": "HBox(children=(HTML(value='Running Epoch 9 of 200'), FloatProgress(value=0.0, max=12.0), HTML(value='')))",
      "application/vnd.jupyter.widget-view+json": {
       "version_major": 2,
       "version_minor": 0,
       "model_id": "0173216d5ea54a959033d87f3d41b7e5"
      }
     },
     "metadata": {},
     "output_type": "display_data"
    },
    {
     "data": {
      "text/plain": "HBox(children=(HTML(value='Running Evaluation'), FloatProgress(value=0.0, max=15.0), HTML(value='')))",
      "application/vnd.jupyter.widget-view+json": {
       "version_major": 2,
       "version_minor": 0,
       "model_id": "53725b11d548454d8bbef2a51fb80c76"
      }
     },
     "metadata": {},
     "output_type": "display_data"
    },
    {
     "data": {
      "text/plain": "HBox(children=(HTML(value='Running Epoch 10 of 200'), FloatProgress(value=0.0, max=12.0), HTML(value='')))",
      "application/vnd.jupyter.widget-view+json": {
       "version_major": 2,
       "version_minor": 0,
       "model_id": "b7b9a05e1be845eaacf9da24eb2e1fa3"
      }
     },
     "metadata": {},
     "output_type": "display_data"
    },
    {
     "data": {
      "text/plain": "HBox(children=(HTML(value='Running Evaluation'), FloatProgress(value=0.0, max=15.0), HTML(value='')))",
      "application/vnd.jupyter.widget-view+json": {
       "version_major": 2,
       "version_minor": 0,
       "model_id": "c495acf44a264184b87a68567dc6d8f7"
      }
     },
     "metadata": {},
     "output_type": "display_data"
    },
    {
     "data": {
      "text/plain": "HBox(children=(HTML(value='Running Epoch 11 of 200'), FloatProgress(value=0.0, max=12.0), HTML(value='')))",
      "application/vnd.jupyter.widget-view+json": {
       "version_major": 2,
       "version_minor": 0,
       "model_id": "880e7e5924af4dd2b8489465d09c111e"
      }
     },
     "metadata": {},
     "output_type": "display_data"
    },
    {
     "data": {
      "text/plain": "HBox(children=(HTML(value='Running Evaluation'), FloatProgress(value=0.0, max=15.0), HTML(value='')))",
      "application/vnd.jupyter.widget-view+json": {
       "version_major": 2,
       "version_minor": 0,
       "model_id": "0f9e1f78f7cf46bcb193efcc465027ad"
      }
     },
     "metadata": {},
     "output_type": "display_data"
    },
    {
     "data": {
      "text/plain": "HBox(children=(HTML(value='Running Epoch 12 of 200'), FloatProgress(value=0.0, max=12.0), HTML(value='')))",
      "application/vnd.jupyter.widget-view+json": {
       "version_major": 2,
       "version_minor": 0,
       "model_id": "467a245443ed4088b4e76ac670bbff92"
      }
     },
     "metadata": {},
     "output_type": "display_data"
    },
    {
     "data": {
      "text/plain": "HBox(children=(HTML(value='Running Evaluation'), FloatProgress(value=0.0, max=15.0), HTML(value='')))",
      "application/vnd.jupyter.widget-view+json": {
       "version_major": 2,
       "version_minor": 0,
       "model_id": "c23969f9d33e43c2b9f478ae97683be6"
      }
     },
     "metadata": {},
     "output_type": "display_data"
    },
    {
     "data": {
      "text/plain": "HBox(children=(HTML(value='Running Epoch 13 of 200'), FloatProgress(value=0.0, max=12.0), HTML(value='')))",
      "application/vnd.jupyter.widget-view+json": {
       "version_major": 2,
       "version_minor": 0,
       "model_id": "2da831f8b45a4e5ab02133f2f0f5a665"
      }
     },
     "metadata": {},
     "output_type": "display_data"
    },
    {
     "data": {
      "text/plain": "HBox(children=(HTML(value='Running Evaluation'), FloatProgress(value=0.0, max=15.0), HTML(value='')))",
      "application/vnd.jupyter.widget-view+json": {
       "version_major": 2,
       "version_minor": 0,
       "model_id": "9a192e61a0924f4f93ab2d4bbe3bc19d"
      }
     },
     "metadata": {},
     "output_type": "display_data"
    },
    {
     "data": {
      "text/plain": "HBox(children=(HTML(value='Running Epoch 14 of 200'), FloatProgress(value=0.0, max=12.0), HTML(value='')))",
      "application/vnd.jupyter.widget-view+json": {
       "version_major": 2,
       "version_minor": 0,
       "model_id": "3543d0211e6549f394e0cd48a9e41f41"
      }
     },
     "metadata": {},
     "output_type": "display_data"
    },
    {
     "data": {
      "text/plain": "HBox(children=(HTML(value='Running Evaluation'), FloatProgress(value=0.0, max=15.0), HTML(value='')))",
      "application/vnd.jupyter.widget-view+json": {
       "version_major": 2,
       "version_minor": 0,
       "model_id": "f3ff6806af3d43e4ba706de0400fb9c0"
      }
     },
     "metadata": {},
     "output_type": "display_data"
    },
    {
     "data": {
      "text/plain": "HBox(children=(HTML(value='Running Epoch 15 of 200'), FloatProgress(value=0.0, max=12.0), HTML(value='')))",
      "application/vnd.jupyter.widget-view+json": {
       "version_major": 2,
       "version_minor": 0,
       "model_id": "31ec52f51f1048028a6a6c63c535301c"
      }
     },
     "metadata": {},
     "output_type": "display_data"
    },
    {
     "data": {
      "text/plain": "HBox(children=(HTML(value='Running Evaluation'), FloatProgress(value=0.0, max=15.0), HTML(value='')))",
      "application/vnd.jupyter.widget-view+json": {
       "version_major": 2,
       "version_minor": 0,
       "model_id": "7747e04b8b8f470eaedecd3044ba649a"
      }
     },
     "metadata": {},
     "output_type": "display_data"
    },
    {
     "data": {
      "text/plain": "HBox(children=(HTML(value='Running Epoch 16 of 200'), FloatProgress(value=0.0, max=12.0), HTML(value='')))",
      "application/vnd.jupyter.widget-view+json": {
       "version_major": 2,
       "version_minor": 0,
       "model_id": "4eb123fab72549b7beceddc02ec293fe"
      }
     },
     "metadata": {},
     "output_type": "display_data"
    },
    {
     "data": {
      "text/plain": "HBox(children=(HTML(value='Running Evaluation'), FloatProgress(value=0.0, max=15.0), HTML(value='')))",
      "application/vnd.jupyter.widget-view+json": {
       "version_major": 2,
       "version_minor": 0,
       "model_id": "e8f555cc24f743b09b4895f4e5f38bf4"
      }
     },
     "metadata": {},
     "output_type": "display_data"
    },
    {
     "data": {
      "text/plain": "HBox(children=(HTML(value='Running Epoch 17 of 200'), FloatProgress(value=0.0, max=12.0), HTML(value='')))",
      "application/vnd.jupyter.widget-view+json": {
       "version_major": 2,
       "version_minor": 0,
       "model_id": "03465b573f744792936c6b6fa08db829"
      }
     },
     "metadata": {},
     "output_type": "display_data"
    },
    {
     "data": {
      "text/plain": "HBox(children=(HTML(value='Running Evaluation'), FloatProgress(value=0.0, max=15.0), HTML(value='')))",
      "application/vnd.jupyter.widget-view+json": {
       "version_major": 2,
       "version_minor": 0,
       "model_id": "55ff7b0b257b4381a0396a66192ee087"
      }
     },
     "metadata": {},
     "output_type": "display_data"
    },
    {
     "data": {
      "text/plain": "HBox(children=(HTML(value='Running Epoch 18 of 200'), FloatProgress(value=0.0, max=12.0), HTML(value='')))",
      "application/vnd.jupyter.widget-view+json": {
       "version_major": 2,
       "version_minor": 0,
       "model_id": "6d5b4edc85a84e15bdca51a3ccde518a"
      }
     },
     "metadata": {},
     "output_type": "display_data"
    },
    {
     "data": {
      "text/plain": "HBox(children=(HTML(value='Running Evaluation'), FloatProgress(value=0.0, max=15.0), HTML(value='')))",
      "application/vnd.jupyter.widget-view+json": {
       "version_major": 2,
       "version_minor": 0,
       "model_id": "6eb9a770cb5b4fe68fa041627b2b776f"
      }
     },
     "metadata": {},
     "output_type": "display_data"
    },
    {
     "data": {
      "text/plain": "HBox(children=(HTML(value='Running Epoch 19 of 200'), FloatProgress(value=0.0, max=12.0), HTML(value='')))",
      "application/vnd.jupyter.widget-view+json": {
       "version_major": 2,
       "version_minor": 0,
       "model_id": "85e648985db246f7b9fd0658c4c7a7b0"
      }
     },
     "metadata": {},
     "output_type": "display_data"
    },
    {
     "data": {
      "text/plain": "HBox(children=(HTML(value='Running Evaluation'), FloatProgress(value=0.0, max=15.0), HTML(value='')))",
      "application/vnd.jupyter.widget-view+json": {
       "version_major": 2,
       "version_minor": 0,
       "model_id": "bc5c7375bb0b46b29ce0b2ad33ec237a"
      }
     },
     "metadata": {},
     "output_type": "display_data"
    },
    {
     "data": {
      "text/plain": "HBox(children=(HTML(value='Running Epoch 20 of 200'), FloatProgress(value=0.0, max=12.0), HTML(value='')))",
      "application/vnd.jupyter.widget-view+json": {
       "version_major": 2,
       "version_minor": 0,
       "model_id": "fd2159782b4e4e7ab9f6d3c281490ede"
      }
     },
     "metadata": {},
     "output_type": "display_data"
    },
    {
     "data": {
      "text/plain": "HBox(children=(HTML(value='Running Evaluation'), FloatProgress(value=0.0, max=15.0), HTML(value='')))",
      "application/vnd.jupyter.widget-view+json": {
       "version_major": 2,
       "version_minor": 0,
       "model_id": "5630b0f7cd4b42ed8696b4d97cfd0278"
      }
     },
     "metadata": {},
     "output_type": "display_data"
    },
    {
     "data": {
      "text/plain": "HBox(children=(HTML(value='Running Epoch 21 of 200'), FloatProgress(value=0.0, max=12.0), HTML(value='')))",
      "application/vnd.jupyter.widget-view+json": {
       "version_major": 2,
       "version_minor": 0,
       "model_id": "b4ad444465054d698a9ffbe0cefce572"
      }
     },
     "metadata": {},
     "output_type": "display_data"
    },
    {
     "data": {
      "text/plain": "HBox(children=(HTML(value='Running Evaluation'), FloatProgress(value=0.0, max=15.0), HTML(value='')))",
      "application/vnd.jupyter.widget-view+json": {
       "version_major": 2,
       "version_minor": 0,
       "model_id": "f2e3e025aa814ad7b359d40d27f1bc82"
      }
     },
     "metadata": {},
     "output_type": "display_data"
    },
    {
     "data": {
      "text/plain": "HBox(children=(HTML(value='Running Epoch 22 of 200'), FloatProgress(value=0.0, max=12.0), HTML(value='')))",
      "application/vnd.jupyter.widget-view+json": {
       "version_major": 2,
       "version_minor": 0,
       "model_id": "32ff0de5a47e49dfb8c305717d77dd28"
      }
     },
     "metadata": {},
     "output_type": "display_data"
    },
    {
     "data": {
      "text/plain": "HBox(children=(HTML(value='Running Evaluation'), FloatProgress(value=0.0, max=15.0), HTML(value='')))",
      "application/vnd.jupyter.widget-view+json": {
       "version_major": 2,
       "version_minor": 0,
       "model_id": "de4bca260dfa48028e5bff3d58833046"
      }
     },
     "metadata": {},
     "output_type": "display_data"
    },
    {
     "data": {
      "text/plain": "HBox(children=(HTML(value='Running Epoch 23 of 200'), FloatProgress(value=0.0, max=12.0), HTML(value='')))",
      "application/vnd.jupyter.widget-view+json": {
       "version_major": 2,
       "version_minor": 0,
       "model_id": "f3a45c9f3a6f4022bc1f8c517dd51c59"
      }
     },
     "metadata": {},
     "output_type": "display_data"
    },
    {
     "data": {
      "text/plain": "HBox(children=(HTML(value='Running Evaluation'), FloatProgress(value=0.0, max=15.0), HTML(value='')))",
      "application/vnd.jupyter.widget-view+json": {
       "version_major": 2,
       "version_minor": 0,
       "model_id": "08a0c8514f354cf18eb9c3c002922843"
      }
     },
     "metadata": {},
     "output_type": "display_data"
    },
    {
     "data": {
      "text/plain": "HBox(children=(HTML(value='Running Epoch 24 of 200'), FloatProgress(value=0.0, max=12.0), HTML(value='')))",
      "application/vnd.jupyter.widget-view+json": {
       "version_major": 2,
       "version_minor": 0,
       "model_id": "741f5615d5c4462695d0930a8dc3bc92"
      }
     },
     "metadata": {},
     "output_type": "display_data"
    },
    {
     "data": {
      "text/plain": "HBox(children=(HTML(value='Running Evaluation'), FloatProgress(value=0.0, max=15.0), HTML(value='')))",
      "application/vnd.jupyter.widget-view+json": {
       "version_major": 2,
       "version_minor": 0,
       "model_id": "0dd8e82d9e80430cbd39449ff3b41e85"
      }
     },
     "metadata": {},
     "output_type": "display_data"
    },
    {
     "data": {
      "text/plain": "HBox(children=(HTML(value='Running Epoch 25 of 200'), FloatProgress(value=0.0, max=12.0), HTML(value='')))",
      "application/vnd.jupyter.widget-view+json": {
       "version_major": 2,
       "version_minor": 0,
       "model_id": "299e3c5908354b36803ccffb41b21e42"
      }
     },
     "metadata": {},
     "output_type": "display_data"
    },
    {
     "data": {
      "text/plain": "HBox(children=(HTML(value='Running Evaluation'), FloatProgress(value=0.0, max=15.0), HTML(value='')))",
      "application/vnd.jupyter.widget-view+json": {
       "version_major": 2,
       "version_minor": 0,
       "model_id": "487ab614becd454aaa0f12fd6cff068c"
      }
     },
     "metadata": {},
     "output_type": "display_data"
    },
    {
     "data": {
      "text/plain": "HBox(children=(HTML(value='Running Epoch 26 of 200'), FloatProgress(value=0.0, max=12.0), HTML(value='')))",
      "application/vnd.jupyter.widget-view+json": {
       "version_major": 2,
       "version_minor": 0,
       "model_id": "3c7b303e23a64ed183dc44bfdb74a182"
      }
     },
     "metadata": {},
     "output_type": "display_data"
    },
    {
     "data": {
      "text/plain": "HBox(children=(HTML(value='Running Evaluation'), FloatProgress(value=0.0, max=15.0), HTML(value='')))",
      "application/vnd.jupyter.widget-view+json": {
       "version_major": 2,
       "version_minor": 0,
       "model_id": "1a90622e02ee4f8f94b029f54fd69b37"
      }
     },
     "metadata": {},
     "output_type": "display_data"
    },
    {
     "data": {
      "text/plain": "HBox(children=(HTML(value='Running Epoch 27 of 200'), FloatProgress(value=0.0, max=12.0), HTML(value='')))",
      "application/vnd.jupyter.widget-view+json": {
       "version_major": 2,
       "version_minor": 0,
       "model_id": "7dc87fc3a60743c0bb7e5e90f8f9c98e"
      }
     },
     "metadata": {},
     "output_type": "display_data"
    },
    {
     "data": {
      "text/plain": "HBox(children=(HTML(value='Running Evaluation'), FloatProgress(value=0.0, max=15.0), HTML(value='')))",
      "application/vnd.jupyter.widget-view+json": {
       "version_major": 2,
       "version_minor": 0,
       "model_id": "f82cda6a51714722ba5831edcbf14efd"
      }
     },
     "metadata": {},
     "output_type": "display_data"
    },
    {
     "data": {
      "text/plain": "HBox(children=(HTML(value='Running Epoch 28 of 200'), FloatProgress(value=0.0, max=12.0), HTML(value='')))",
      "application/vnd.jupyter.widget-view+json": {
       "version_major": 2,
       "version_minor": 0,
       "model_id": "8d998131819d44e78848b7033ef78d84"
      }
     },
     "metadata": {},
     "output_type": "display_data"
    },
    {
     "data": {
      "text/plain": "HBox(children=(HTML(value='Running Evaluation'), FloatProgress(value=0.0, max=15.0), HTML(value='')))",
      "application/vnd.jupyter.widget-view+json": {
       "version_major": 2,
       "version_minor": 0,
       "model_id": "fe9a918da3dd4e738f0b213d54e9a7e3"
      }
     },
     "metadata": {},
     "output_type": "display_data"
    },
    {
     "data": {
      "text/plain": "HBox(children=(HTML(value='Running Epoch 29 of 200'), FloatProgress(value=0.0, max=12.0), HTML(value='')))",
      "application/vnd.jupyter.widget-view+json": {
       "version_major": 2,
       "version_minor": 0,
       "model_id": "dad945adda704b37a149b02f7bccae17"
      }
     },
     "metadata": {},
     "output_type": "display_data"
    },
    {
     "data": {
      "text/plain": "HBox(children=(HTML(value='Running Evaluation'), FloatProgress(value=0.0, max=15.0), HTML(value='')))",
      "application/vnd.jupyter.widget-view+json": {
       "version_major": 2,
       "version_minor": 0,
       "model_id": "5a48ae47be3e4fa8ad83b67da347f113"
      }
     },
     "metadata": {},
     "output_type": "display_data"
    },
    {
     "data": {
      "text/plain": "HBox(children=(HTML(value='Running Epoch 30 of 200'), FloatProgress(value=0.0, max=12.0), HTML(value='')))",
      "application/vnd.jupyter.widget-view+json": {
       "version_major": 2,
       "version_minor": 0,
       "model_id": "bca71950ebed46eeb50062e5318d03bc"
      }
     },
     "metadata": {},
     "output_type": "display_data"
    },
    {
     "data": {
      "text/plain": "HBox(children=(HTML(value='Running Evaluation'), FloatProgress(value=0.0, max=15.0), HTML(value='')))",
      "application/vnd.jupyter.widget-view+json": {
       "version_major": 2,
       "version_minor": 0,
       "model_id": "d414d44e77364cb18f0ec77bd00f743d"
      }
     },
     "metadata": {},
     "output_type": "display_data"
    },
    {
     "data": {
      "text/plain": "HBox(children=(HTML(value='Running Epoch 31 of 200'), FloatProgress(value=0.0, max=12.0), HTML(value='')))",
      "application/vnd.jupyter.widget-view+json": {
       "version_major": 2,
       "version_minor": 0,
       "model_id": "330203d75ef24ae797e88382e7494cd8"
      }
     },
     "metadata": {},
     "output_type": "display_data"
    },
    {
     "data": {
      "text/plain": "HBox(children=(HTML(value='Running Evaluation'), FloatProgress(value=0.0, max=15.0), HTML(value='')))",
      "application/vnd.jupyter.widget-view+json": {
       "version_major": 2,
       "version_minor": 0,
       "model_id": "800091a26b88472f9d50bd888c57aa78"
      }
     },
     "metadata": {},
     "output_type": "display_data"
    },
    {
     "data": {
      "text/plain": "HBox(children=(HTML(value='Running Epoch 32 of 200'), FloatProgress(value=0.0, max=12.0), HTML(value='')))",
      "application/vnd.jupyter.widget-view+json": {
       "version_major": 2,
       "version_minor": 0,
       "model_id": "accd9e0e799549c3a0ddfa9383dc1995"
      }
     },
     "metadata": {},
     "output_type": "display_data"
    },
    {
     "data": {
      "text/plain": "HBox(children=(HTML(value='Running Evaluation'), FloatProgress(value=0.0, max=15.0), HTML(value='')))",
      "application/vnd.jupyter.widget-view+json": {
       "version_major": 2,
       "version_minor": 0,
       "model_id": "54f5fef36a8642f1889cbae864da0dcf"
      }
     },
     "metadata": {},
     "output_type": "display_data"
    },
    {
     "data": {
      "text/plain": "HBox(children=(HTML(value='Running Epoch 33 of 200'), FloatProgress(value=0.0, max=12.0), HTML(value='')))",
      "application/vnd.jupyter.widget-view+json": {
       "version_major": 2,
       "version_minor": 0,
       "model_id": "7352d5cc5cfc42e6bce40e654b044ed6"
      }
     },
     "metadata": {},
     "output_type": "display_data"
    },
    {
     "data": {
      "text/plain": "HBox(children=(HTML(value='Running Evaluation'), FloatProgress(value=0.0, max=15.0), HTML(value='')))",
      "application/vnd.jupyter.widget-view+json": {
       "version_major": 2,
       "version_minor": 0,
       "model_id": "f2ac18cfc1ae4c3f85fc19ed276a1715"
      }
     },
     "metadata": {},
     "output_type": "display_data"
    },
    {
     "data": {
      "text/plain": "HBox(children=(HTML(value='Running Epoch 34 of 200'), FloatProgress(value=0.0, max=12.0), HTML(value='')))",
      "application/vnd.jupyter.widget-view+json": {
       "version_major": 2,
       "version_minor": 0,
       "model_id": "fd30a5f7da4c4f1f9da99895f1031953"
      }
     },
     "metadata": {},
     "output_type": "display_data"
    },
    {
     "data": {
      "text/plain": "HBox(children=(HTML(value='Running Evaluation'), FloatProgress(value=0.0, max=15.0), HTML(value='')))",
      "application/vnd.jupyter.widget-view+json": {
       "version_major": 2,
       "version_minor": 0,
       "model_id": "1f015039ded143528013fcf3488d211b"
      }
     },
     "metadata": {},
     "output_type": "display_data"
    },
    {
     "data": {
      "text/plain": "HBox(children=(HTML(value='Running Epoch 35 of 200'), FloatProgress(value=0.0, max=12.0), HTML(value='')))",
      "application/vnd.jupyter.widget-view+json": {
       "version_major": 2,
       "version_minor": 0,
       "model_id": "0f755301fd4449f2b6e9f7a05466e60e"
      }
     },
     "metadata": {},
     "output_type": "display_data"
    },
    {
     "data": {
      "text/plain": "HBox(children=(HTML(value='Running Evaluation'), FloatProgress(value=0.0, max=15.0), HTML(value='')))",
      "application/vnd.jupyter.widget-view+json": {
       "version_major": 2,
       "version_minor": 0,
       "model_id": "7923c87e773a48048be728b0aefe5d9c"
      }
     },
     "metadata": {},
     "output_type": "display_data"
    },
    {
     "data": {
      "text/plain": "HBox(children=(HTML(value='Running Epoch 36 of 200'), FloatProgress(value=0.0, max=12.0), HTML(value='')))",
      "application/vnd.jupyter.widget-view+json": {
       "version_major": 2,
       "version_minor": 0,
       "model_id": "fea46edb4d924766bba133e7f66e7cd0"
      }
     },
     "metadata": {},
     "output_type": "display_data"
    },
    {
     "data": {
      "text/plain": "HBox(children=(HTML(value='Running Evaluation'), FloatProgress(value=0.0, max=15.0), HTML(value='')))",
      "application/vnd.jupyter.widget-view+json": {
       "version_major": 2,
       "version_minor": 0,
       "model_id": "5067e047402341c1a92a33a0d2acd635"
      }
     },
     "metadata": {},
     "output_type": "display_data"
    },
    {
     "data": {
      "text/plain": "HBox(children=(HTML(value='Running Epoch 37 of 200'), FloatProgress(value=0.0, max=12.0), HTML(value='')))",
      "application/vnd.jupyter.widget-view+json": {
       "version_major": 2,
       "version_minor": 0,
       "model_id": "e4f3910cfc484662bd2df369f9a66427"
      }
     },
     "metadata": {},
     "output_type": "display_data"
    },
    {
     "data": {
      "text/plain": "HBox(children=(HTML(value='Running Evaluation'), FloatProgress(value=0.0, max=15.0), HTML(value='')))",
      "application/vnd.jupyter.widget-view+json": {
       "version_major": 2,
       "version_minor": 0,
       "model_id": "f7455e639c654bd98b9230bd7b8260be"
      }
     },
     "metadata": {},
     "output_type": "display_data"
    },
    {
     "data": {
      "text/plain": "HBox(children=(HTML(value='Running Epoch 38 of 200'), FloatProgress(value=0.0, max=12.0), HTML(value='')))",
      "application/vnd.jupyter.widget-view+json": {
       "version_major": 2,
       "version_minor": 0,
       "model_id": "8b7380d609f3446f8932ee958da6c218"
      }
     },
     "metadata": {},
     "output_type": "display_data"
    },
    {
     "data": {
      "text/plain": "HBox(children=(HTML(value='Running Evaluation'), FloatProgress(value=0.0, max=15.0), HTML(value='')))",
      "application/vnd.jupyter.widget-view+json": {
       "version_major": 2,
       "version_minor": 0,
       "model_id": "98ed17a8c50245beadf580d54ddaa8e9"
      }
     },
     "metadata": {},
     "output_type": "display_data"
    },
    {
     "data": {
      "text/plain": "HBox(children=(HTML(value='Running Epoch 39 of 200'), FloatProgress(value=0.0, max=12.0), HTML(value='')))",
      "application/vnd.jupyter.widget-view+json": {
       "version_major": 2,
       "version_minor": 0,
       "model_id": "55fcad11ad584f2d9bee77fee12938b5"
      }
     },
     "metadata": {},
     "output_type": "display_data"
    },
    {
     "data": {
      "text/plain": "HBox(children=(HTML(value='Running Evaluation'), FloatProgress(value=0.0, max=15.0), HTML(value='')))",
      "application/vnd.jupyter.widget-view+json": {
       "version_major": 2,
       "version_minor": 0,
       "model_id": "8c222cac099b4f15baed2dfa5c3dd6e7"
      }
     },
     "metadata": {},
     "output_type": "display_data"
    },
    {
     "data": {
      "text/plain": "HBox(children=(HTML(value='Running Epoch 40 of 200'), FloatProgress(value=0.0, max=12.0), HTML(value='')))",
      "application/vnd.jupyter.widget-view+json": {
       "version_major": 2,
       "version_minor": 0,
       "model_id": "d799f10f17fa4b8bbc7672a7b150c770"
      }
     },
     "metadata": {},
     "output_type": "display_data"
    },
    {
     "data": {
      "text/plain": "HBox(children=(HTML(value='Running Evaluation'), FloatProgress(value=0.0, max=15.0), HTML(value='')))",
      "application/vnd.jupyter.widget-view+json": {
       "version_major": 2,
       "version_minor": 0,
       "model_id": "9892f22c8fe64ef3bb0c01b03e98ff88"
      }
     },
     "metadata": {},
     "output_type": "display_data"
    },
    {
     "data": {
      "text/plain": "HBox(children=(HTML(value='Running Epoch 41 of 200'), FloatProgress(value=0.0, max=12.0), HTML(value='')))",
      "application/vnd.jupyter.widget-view+json": {
       "version_major": 2,
       "version_minor": 0,
       "model_id": "06a82d2db6a44eb3bce30ce45476b450"
      }
     },
     "metadata": {},
     "output_type": "display_data"
    },
    {
     "data": {
      "text/plain": "HBox(children=(HTML(value='Running Evaluation'), FloatProgress(value=0.0, max=15.0), HTML(value='')))",
      "application/vnd.jupyter.widget-view+json": {
       "version_major": 2,
       "version_minor": 0,
       "model_id": "698907dbb9d64a469298351b8f43e1be"
      }
     },
     "metadata": {},
     "output_type": "display_data"
    }
   ],
   "source": [
    "# Create the QuestionAnsweringModel\n",
    "model = QuestionAnsweringModel('bert',\n",
    "                               '../resources/bert/checkpoint-316-epoch-158',\n",
    "                               args=args)\n",
    "model.lazy_loading = True\n",
    "\n",
    "model.train_model(train_data,eval_data=test_data)"
   ],
   "metadata": {
    "collapsed": false,
    "pycharm": {
     "name": "#%%\n"
    }
   }
  },
  {
   "cell_type": "code",
   "execution_count": 8,
   "outputs": [
    {
     "name": "stderr",
     "output_type": "stream",
     "text": [
      "INFO:simpletransformers.question_answering.question_answering_model: Converting to features started.\n",
      "convert squad examples to features:   0%|          | 0/1 [00:00<?, ?it/s]/home/giuseppe/PycharmProjects/ple_chat_bot/venv/lib/python3.6/site-packages/transformers/tokenization_utils_base.py:1324: FutureWarning: The `max_len` attribute has been deprecated and will be removed in a future version, use `model_max_length` instead.\n",
      "  FutureWarning,\n",
      "convert squad examples to features: 100%|██████████| 1/1 [00:00<00:00, 119.60it/s]\n",
      "add example index and unique id: 100%|██████████| 1/1 [00:00<00:00, 6204.59it/s]\n"
     ]
    },
    {
     "data": {
      "text/plain": "HBox(children=(HTML(value='Running Prediction'), FloatProgress(value=0.0, max=1.0), HTML(value='')))",
      "application/vnd.jupyter.widget-view+json": {
       "version_major": 2,
       "version_minor": 0,
       "model_id": "eaf2406e3eee4e988c2c37ae3552be6a"
      }
     },
     "metadata": {},
     "output_type": "display_data"
    },
    {
     "name": "stdout",
     "output_type": "stream",
     "text": [
      "\n"
     ]
    }
   ],
   "source": [
    "# Making predictions using the model.\n",
    "to_predict = np.asarray([dataset[0]])\n",
    "predict = model.predict(to_predict, n_best_size=1)"
   ],
   "metadata": {
    "collapsed": false,
    "pycharm": {
     "name": "#%%\n"
    }
   }
  }
 ],
 "metadata": {
  "kernelspec": {
   "display_name": "Python 3",
   "language": "python",
   "name": "python3"
  },
  "language_info": {
   "codemirror_mode": {
    "name": "ipython",
    "version": 2
   },
   "file_extension": ".py",
   "mimetype": "text/x-python",
   "name": "python",
   "nbconvert_exporter": "python",
   "pygments_lexer": "ipython2",
   "version": "2.7.6"
  }
 },
 "nbformat": 4,
 "nbformat_minor": 0
}