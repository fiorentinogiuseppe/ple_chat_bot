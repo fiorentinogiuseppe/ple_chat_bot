{
 "cells": [
  {
   "cell_type": "code",
   "execution_count": 1,
   "outputs": [],
   "source": [
    "import orjson\n",
    "import numpy as np\n",
    "import math"
   ],
   "metadata": {
    "collapsed": false,
    "pycharm": {
     "name": "#%%\n"
    }
   }
  },
  {
   "cell_type": "code",
   "execution_count": 21,
   "outputs": [],
   "source": [
    "with open(\"../resources/data_final.json\", \"rb\") as f:\n",
    "    dataset = orjson.loads(f.read())"
   ],
   "metadata": {
    "collapsed": false,
    "pycharm": {
     "name": "#%%\n"
    }
   }
  },
  {
   "cell_type": "code",
   "execution_count": 22,
   "outputs": [],
   "source": [
    "np.random.seed(0)\n",
    "id_train = np.random.choice(len(dataset), math.ceil(len(dataset)/2))"
   ],
   "metadata": {
    "collapsed": false,
    "pycharm": {
     "name": "#%%\n"
    }
   }
  },
  {
   "cell_type": "code",
   "execution_count": 23,
   "outputs": [
    {
     "data": {
      "text/plain": "(48,)"
     },
     "execution_count": 23,
     "metadata": {},
     "output_type": "execute_result"
    }
   ],
   "source": [
    "id_train.shape"
   ],
   "metadata": {
    "collapsed": false,
    "pycharm": {
     "name": "#%%\n"
    }
   }
  },
  {
   "cell_type": "code",
   "execution_count": 24,
   "outputs": [],
   "source": [
    "id_test = np.asarray(list(set(range(len(dataset))).difference(set(id_train))))"
   ],
   "metadata": {
    "collapsed": false,
    "pycharm": {
     "name": "#%%\n"
    }
   }
  },
  {
   "cell_type": "code",
   "execution_count": 25,
   "outputs": [
    {
     "data": {
      "text/plain": "(60,)"
     },
     "execution_count": 25,
     "metadata": {},
     "output_type": "execute_result"
    }
   ],
   "source": [
    "id_test.shape"
   ],
   "metadata": {
    "collapsed": false,
    "pycharm": {
     "name": "#%%\n"
    }
   }
  },
  {
   "cell_type": "code",
   "execution_count": 8,
   "outputs": [],
   "source": [
    "# https://github.com/ThilinaRajapakse/simpletransformers#question-answering"
   ],
   "metadata": {
    "collapsed": false,
    "pycharm": {
     "name": "#%%\n"
    }
   }
  },
  {
   "cell_type": "code",
   "execution_count": 41,
   "outputs": [
    {
     "name": "stderr",
     "output_type": "stream",
     "text": [
      "INFO:simpletransformers.question_answering.question_answering_model: Converting to features started.\n",
      "convert squad examples to features:   0%|          | 0/48 [00:00<?, ?it/s]/home/giuseppe/PycharmProjects/ple_chat_bot/venv/lib/python3.6/site-packages/transformers/tokenization_utils_base.py:1324: FutureWarning: The `max_len` attribute has been deprecated and will be removed in a future version, use `model_max_length` instead.\n",
      "  FutureWarning,\n",
      "convert squad examples to features: 100%|██████████| 48/48 [00:00<00:00, 96.55it/s]\n",
      "add example index and unique id: 100%|██████████| 48/48 [00:00<00:00, 90200.09it/s]\n",
      "/home/giuseppe/PycharmProjects/ple_chat_bot/venv/lib/python3.6/site-packages/torch/optim/lr_scheduler.py:123: UserWarning: Detected call of `lr_scheduler.step()` before `optimizer.step()`. In PyTorch 1.1.0 and later, you should call them in the opposite order: `optimizer.step()` before `lr_scheduler.step()`.  Failure to do this will result in PyTorch skipping the first value of the learning rate schedule. See more details at https://pytorch.org/docs/stable/optim.html#how-to-adjust-learning-rate\n",
      "  \"https://pytorch.org/docs/stable/optim.html#how-to-adjust-learning-rate\", UserWarning)\n"
     ]
    },
    {
     "data": {
      "text/plain": "HBox(children=(HTML(value='Epoch'), FloatProgress(value=0.0, max=1.0), HTML(value='')))",
      "application/vnd.jupyter.widget-view+json": {
       "version_major": 2,
       "version_minor": 0,
       "model_id": "45f1567d34e84f259fd2beefd9ba8ab3"
      }
     },
     "metadata": {},
     "output_type": "display_data"
    },
    {
     "data": {
      "text/plain": "HBox(children=(HTML(value='Running Epoch 0 of 1'), FloatProgress(value=0.0, max=9.0), HTML(value='')))",
      "application/vnd.jupyter.widget-view+json": {
       "version_major": 2,
       "version_minor": 0,
       "model_id": "8d4c283390ba4e0cbb465cb82ccf5149"
      }
     },
     "metadata": {},
     "output_type": "display_data"
    },
    {
     "name": "stdout",
     "output_type": "stream",
     "text": [
      "\n",
      "\n"
     ]
    },
    {
     "ename": "RuntimeError",
     "evalue": "CUDA out of memory. Tried to allocate 20.00 MiB (GPU 0; 3.95 GiB total capacity; 2.90 GiB already allocated; 27.38 MiB free; 3.08 GiB reserved in total by PyTorch)",
     "output_type": "error",
     "traceback": [
      "\u001B[0;31m---------------------------------------------------------------------------\u001B[0m",
      "\u001B[0;31mRuntimeError\u001B[0m                              Traceback (most recent call last)",
      "\u001B[0;32m<ipython-input-41-858dd887c8ae>\u001B[0m in \u001B[0;36m<module>\u001B[0;34m\u001B[0m\n\u001B[1;32m     15\u001B[0m \u001B[0;34m\u001B[0m\u001B[0m\n\u001B[1;32m     16\u001B[0m \u001B[0;31m# The list can also be used directly\u001B[0m\u001B[0;34m\u001B[0m\u001B[0;34m\u001B[0m\u001B[0;34m\u001B[0m\u001B[0m\n\u001B[0;32m---> 17\u001B[0;31m \u001B[0mmodel\u001B[0m\u001B[0;34m.\u001B[0m\u001B[0mtrain_model\u001B[0m\u001B[0;34m(\u001B[0m\u001B[0mtrain_data\u001B[0m\u001B[0;34m)\u001B[0m\u001B[0;34m\u001B[0m\u001B[0;34m\u001B[0m\u001B[0m\n\u001B[0m",
      "\u001B[0;32m~/PycharmProjects/ple_chat_bot/venv/lib/python3.6/site-packages/simpletransformers/question_answering/question_answering_model.py\u001B[0m in \u001B[0;36mtrain_model\u001B[0;34m(self, train_data, output_dir, show_running_loss, args, eval_data, verbose, **kwargs)\u001B[0m\n\u001B[1;32m    323\u001B[0m \u001B[0;34m\u001B[0m\u001B[0m\n\u001B[1;32m    324\u001B[0m         global_step, tr_loss = self.train(\n\u001B[0;32m--> 325\u001B[0;31m             \u001B[0mtrain_dataset\u001B[0m\u001B[0;34m,\u001B[0m \u001B[0moutput_dir\u001B[0m\u001B[0;34m,\u001B[0m \u001B[0mshow_running_loss\u001B[0m\u001B[0;34m=\u001B[0m\u001B[0mshow_running_loss\u001B[0m\u001B[0;34m,\u001B[0m \u001B[0meval_data\u001B[0m\u001B[0;34m=\u001B[0m\u001B[0meval_data\u001B[0m\u001B[0;34m,\u001B[0m \u001B[0;34m**\u001B[0m\u001B[0mkwargs\u001B[0m\u001B[0;34m\u001B[0m\u001B[0;34m\u001B[0m\u001B[0m\n\u001B[0m\u001B[1;32m    326\u001B[0m         )\n\u001B[1;32m    327\u001B[0m \u001B[0;34m\u001B[0m\u001B[0m\n",
      "\u001B[0;32m~/PycharmProjects/ple_chat_bot/venv/lib/python3.6/site-packages/simpletransformers/question_answering/question_answering_model.py\u001B[0m in \u001B[0;36mtrain\u001B[0;34m(self, train_dataset, output_dir, show_running_loss, eval_data, verbose, **kwargs)\u001B[0m\n\u001B[1;32m    514\u001B[0m \u001B[0;34m\u001B[0m\u001B[0m\n\u001B[1;32m    515\u001B[0m                     \u001B[0;32mif\u001B[0m \u001B[0margs\u001B[0m\u001B[0;34m.\u001B[0m\u001B[0mfp16\u001B[0m\u001B[0;34m:\u001B[0m\u001B[0;34m\u001B[0m\u001B[0;34m\u001B[0m\u001B[0m\n\u001B[0;32m--> 516\u001B[0;31m                         \u001B[0mscaler\u001B[0m\u001B[0;34m.\u001B[0m\u001B[0mstep\u001B[0m\u001B[0;34m(\u001B[0m\u001B[0moptimizer\u001B[0m\u001B[0;34m)\u001B[0m\u001B[0;34m\u001B[0m\u001B[0;34m\u001B[0m\u001B[0m\n\u001B[0m\u001B[1;32m    517\u001B[0m                         \u001B[0mscaler\u001B[0m\u001B[0;34m.\u001B[0m\u001B[0mupdate\u001B[0m\u001B[0;34m(\u001B[0m\u001B[0;34m)\u001B[0m\u001B[0;34m\u001B[0m\u001B[0;34m\u001B[0m\u001B[0m\n\u001B[1;32m    518\u001B[0m                     \u001B[0;32melse\u001B[0m\u001B[0;34m:\u001B[0m\u001B[0;34m\u001B[0m\u001B[0;34m\u001B[0m\u001B[0m\n",
      "\u001B[0;32m~/PycharmProjects/ple_chat_bot/venv/lib/python3.6/site-packages/torch/cuda/amp/grad_scaler.py\u001B[0m in \u001B[0;36mstep\u001B[0;34m(self, optimizer, *args, **kwargs)\u001B[0m\n\u001B[1;32m    292\u001B[0m \u001B[0;34m\u001B[0m\u001B[0m\n\u001B[1;32m    293\u001B[0m         \u001B[0;32mif\u001B[0m \u001B[0;32mnot\u001B[0m \u001B[0msum\u001B[0m\u001B[0;34m(\u001B[0m\u001B[0mv\u001B[0m\u001B[0;34m.\u001B[0m\u001B[0mitem\u001B[0m\u001B[0;34m(\u001B[0m\u001B[0;34m)\u001B[0m \u001B[0;32mfor\u001B[0m \u001B[0mv\u001B[0m \u001B[0;32min\u001B[0m \u001B[0moptimizer_state\u001B[0m\u001B[0;34m[\u001B[0m\u001B[0;34m\"found_inf_per_device\"\u001B[0m\u001B[0;34m]\u001B[0m\u001B[0;34m.\u001B[0m\u001B[0mvalues\u001B[0m\u001B[0;34m(\u001B[0m\u001B[0;34m)\u001B[0m\u001B[0;34m)\u001B[0m\u001B[0;34m:\u001B[0m\u001B[0;34m\u001B[0m\u001B[0;34m\u001B[0m\u001B[0m\n\u001B[0;32m--> 294\u001B[0;31m             \u001B[0mretval\u001B[0m \u001B[0;34m=\u001B[0m \u001B[0moptimizer\u001B[0m\u001B[0;34m.\u001B[0m\u001B[0mstep\u001B[0m\u001B[0;34m(\u001B[0m\u001B[0;34m*\u001B[0m\u001B[0margs\u001B[0m\u001B[0;34m,\u001B[0m \u001B[0;34m**\u001B[0m\u001B[0mkwargs\u001B[0m\u001B[0;34m)\u001B[0m\u001B[0;34m\u001B[0m\u001B[0;34m\u001B[0m\u001B[0m\n\u001B[0m\u001B[1;32m    295\u001B[0m \u001B[0;34m\u001B[0m\u001B[0m\n\u001B[1;32m    296\u001B[0m         \u001B[0moptimizer_state\u001B[0m\u001B[0;34m[\u001B[0m\u001B[0;34m\"stage\"\u001B[0m\u001B[0;34m]\u001B[0m \u001B[0;34m=\u001B[0m \u001B[0mOptState\u001B[0m\u001B[0;34m.\u001B[0m\u001B[0mSTEPPED\u001B[0m\u001B[0;34m\u001B[0m\u001B[0;34m\u001B[0m\u001B[0m\n",
      "\u001B[0;32m~/PycharmProjects/ple_chat_bot/venv/lib/python3.6/site-packages/torch/optim/lr_scheduler.py\u001B[0m in \u001B[0;36mwrapper\u001B[0;34m(*args, **kwargs)\u001B[0m\n\u001B[1;32m     65\u001B[0m                 \u001B[0minstance\u001B[0m\u001B[0;34m.\u001B[0m\u001B[0m_step_count\u001B[0m \u001B[0;34m+=\u001B[0m \u001B[0;36m1\u001B[0m\u001B[0;34m\u001B[0m\u001B[0;34m\u001B[0m\u001B[0m\n\u001B[1;32m     66\u001B[0m                 \u001B[0mwrapped\u001B[0m \u001B[0;34m=\u001B[0m \u001B[0mfunc\u001B[0m\u001B[0;34m.\u001B[0m\u001B[0m__get__\u001B[0m\u001B[0;34m(\u001B[0m\u001B[0minstance\u001B[0m\u001B[0;34m,\u001B[0m \u001B[0mcls\u001B[0m\u001B[0;34m)\u001B[0m\u001B[0;34m\u001B[0m\u001B[0;34m\u001B[0m\u001B[0m\n\u001B[0;32m---> 67\u001B[0;31m                 \u001B[0;32mreturn\u001B[0m \u001B[0mwrapped\u001B[0m\u001B[0;34m(\u001B[0m\u001B[0;34m*\u001B[0m\u001B[0margs\u001B[0m\u001B[0;34m,\u001B[0m \u001B[0;34m**\u001B[0m\u001B[0mkwargs\u001B[0m\u001B[0;34m)\u001B[0m\u001B[0;34m\u001B[0m\u001B[0;34m\u001B[0m\u001B[0m\n\u001B[0m\u001B[1;32m     68\u001B[0m \u001B[0;34m\u001B[0m\u001B[0m\n\u001B[1;32m     69\u001B[0m             \u001B[0;31m# Note that the returned function here is no longer a bound method,\u001B[0m\u001B[0;34m\u001B[0m\u001B[0;34m\u001B[0m\u001B[0;34m\u001B[0m\u001B[0m\n",
      "\u001B[0;32m~/PycharmProjects/ple_chat_bot/venv/lib/python3.6/site-packages/transformers/optimization.py\u001B[0m in \u001B[0;36mstep\u001B[0;34m(self, closure)\u001B[0m\n\u001B[1;32m    295\u001B[0m                 \u001B[0mexp_avg\u001B[0m\u001B[0;34m.\u001B[0m\u001B[0mmul_\u001B[0m\u001B[0;34m(\u001B[0m\u001B[0mbeta1\u001B[0m\u001B[0;34m)\u001B[0m\u001B[0;34m.\u001B[0m\u001B[0madd_\u001B[0m\u001B[0;34m(\u001B[0m\u001B[0mgrad\u001B[0m\u001B[0;34m,\u001B[0m \u001B[0malpha\u001B[0m\u001B[0;34m=\u001B[0m\u001B[0;36m1.0\u001B[0m \u001B[0;34m-\u001B[0m \u001B[0mbeta1\u001B[0m\u001B[0;34m)\u001B[0m\u001B[0;34m\u001B[0m\u001B[0;34m\u001B[0m\u001B[0m\n\u001B[1;32m    296\u001B[0m                 \u001B[0mexp_avg_sq\u001B[0m\u001B[0;34m.\u001B[0m\u001B[0mmul_\u001B[0m\u001B[0;34m(\u001B[0m\u001B[0mbeta2\u001B[0m\u001B[0;34m)\u001B[0m\u001B[0;34m.\u001B[0m\u001B[0maddcmul_\u001B[0m\u001B[0;34m(\u001B[0m\u001B[0mgrad\u001B[0m\u001B[0;34m,\u001B[0m \u001B[0mgrad\u001B[0m\u001B[0;34m,\u001B[0m \u001B[0mvalue\u001B[0m\u001B[0;34m=\u001B[0m\u001B[0;36m1.0\u001B[0m \u001B[0;34m-\u001B[0m \u001B[0mbeta2\u001B[0m\u001B[0;34m)\u001B[0m\u001B[0;34m\u001B[0m\u001B[0;34m\u001B[0m\u001B[0m\n\u001B[0;32m--> 297\u001B[0;31m                 \u001B[0mdenom\u001B[0m \u001B[0;34m=\u001B[0m \u001B[0mexp_avg_sq\u001B[0m\u001B[0;34m.\u001B[0m\u001B[0msqrt\u001B[0m\u001B[0;34m(\u001B[0m\u001B[0;34m)\u001B[0m\u001B[0;34m.\u001B[0m\u001B[0madd_\u001B[0m\u001B[0;34m(\u001B[0m\u001B[0mgroup\u001B[0m\u001B[0;34m[\u001B[0m\u001B[0;34m\"eps\"\u001B[0m\u001B[0;34m]\u001B[0m\u001B[0;34m)\u001B[0m\u001B[0;34m\u001B[0m\u001B[0;34m\u001B[0m\u001B[0m\n\u001B[0m\u001B[1;32m    298\u001B[0m \u001B[0;34m\u001B[0m\u001B[0m\n\u001B[1;32m    299\u001B[0m                 \u001B[0mstep_size\u001B[0m \u001B[0;34m=\u001B[0m \u001B[0mgroup\u001B[0m\u001B[0;34m[\u001B[0m\u001B[0;34m\"lr\"\u001B[0m\u001B[0;34m]\u001B[0m\u001B[0;34m\u001B[0m\u001B[0;34m\u001B[0m\u001B[0m\n",
      "\u001B[0;31mRuntimeError\u001B[0m: CUDA out of memory. Tried to allocate 20.00 MiB (GPU 0; 3.95 GiB total capacity; 2.90 GiB already allocated; 27.38 MiB free; 3.08 GiB reserved in total by PyTorch)"
     ]
    }
   ],
   "source": [
    "from simpletransformers.question_answering import QuestionAnsweringModel\n",
    "import logging\n",
    "\n",
    "\n",
    "logging.basicConfig(level=logging.INFO)\n",
    "transformers_logger = logging.getLogger(\"transformers\")\n",
    "transformers_logger.setLevel(logging.WARNING)\n",
    "\n",
    "# Create dummy data to use for training.\n",
    "train_data = [dataset[id] for id in id_train]\n",
    "\n",
    "# Create the QuestionAnsweringModel\n",
    "model = QuestionAnsweringModel('bert', 'mrm8488/bert-base-portuguese-cased-finetuned-squad-v1-pt', args={'reprocess_input_data': True, 'overwrite_output_dir': True})\n",
    "model.lazy_loading = True\n",
    "\n",
    "# The list can also be used directly\n",
    "model.train_model(train_data)"
   ],
   "metadata": {
    "collapsed": false,
    "pycharm": {
     "name": "#%%\n"
    }
   }
  },
  {
   "cell_type": "code",
   "execution_count": 27,
   "outputs": [
    {
     "name": "stderr",
     "output_type": "stream",
     "text": [
      "INFO:simpletransformers.question_answering.question_answering_model: Converting to features started.\n",
      "convert squad examples to features:   0%|          | 0/48 [00:00<?, ?it/s]/home/giuseppe/PycharmProjects/ple_chat_bot/venv/lib/python3.6/site-packages/transformers/tokenization_utils_base.py:1324: FutureWarning: The `max_len` attribute has been deprecated and will be removed in a future version, use `model_max_length` instead.\n",
      "  FutureWarning,\n",
      "convert squad examples to features: 100%|██████████| 48/48 [00:00<00:00, 92.09it/s]\n",
      "add example index and unique id: 100%|██████████| 48/48 [00:00<00:00, 189039.05it/s]\n"
     ]
    },
    {
     "data": {
      "text/plain": "HBox(children=(HTML(value='Running Evaluation'), FloatProgress(value=0.0, max=9.0), HTML(value='')))",
      "application/vnd.jupyter.widget-view+json": {
       "version_major": 2,
       "version_minor": 0,
       "model_id": "dfa3e4621dbd40d0ade2ec6133701e20"
      }
     },
     "metadata": {},
     "output_type": "display_data"
    },
    {
     "name": "stdout",
     "output_type": "stream",
     "text": [
      "\n",
      "{'correct': 0, 'similar': 35, 'incorrect': 0, 'eval_loss': -12.676215277777779}\n",
      "{'correct_text': {}, 'similar_text': {'1243188607': {'truth': 'A equiparação funcionará de acordo com as regras constantes no PPC de cada curso e em acordo com a resolução 425/2010\\xa0 CEPE/UFRPE. A equiparação de estágio pode ser feita, se prevista no PPC do curso. Caso não seja prevista, o CCD e NDE do curso podem de forma ágil possibilitar a equiparação, já para o PLE.', 'predicted': '', 'question': 'Como funciona a equiparação? Todos os cursos, incluindo licenciaturas, podem ter?'}, '1243188610': {'truth': 'A equiparação é um mecanismo legal. Porém, segundo a lei de estágio ela deve constar no PPC do curso. No PLE os cursos farão um projeto para anexar ao PPC. Procure sua coordenação e fale sobre seu caso específico. Se a atividade for compatível com o ESO, a coordenação poderá aceitar a equiparação.', 'predicted': '', 'question': 'Com relação à\\xa0equiparação do estágio obrigatório, é possível equiparar com programas de extensão realizados em outras instituições?'}, '1243188627': {'truth': 'Não. \\xa0A matrícula de 2020.1 está apenas suspensa, e quando retomarmos as atividades presenciais ela será reativada.', 'predicted': '', 'question': 'Quando as atividades presenciais de 2020.1 voltarem, a matrícula terá que ser refeita nas matérias em que já estou matriculado de 2020.1? Continuarei matriculado quando retornarem as atividades?'}, '1243188630': {'truth': 'Sim. Após início do semestre 2020.1, solicitará o cancelamento.', 'predicted': '', 'question': 'Posso me matricular em disciplinas nas quais\\xa0estava matriculado em 2020.1?'}, '1243188572': {'truth': 'Através de aulas remotas, que podem ser com atividades síncronas ou assíncronas. Serão utilizadas preferencialmente as plataformas virtuais oficiais da UFRPE (AVA, SIGAA), podendo ser utilizadas outras plataformas como google meet, zoom, entre outras.', 'predicted': '', 'question': 'Como vai funcionar o PLE?'}, '1243188646': {'truth': 'Sim. Considerando constarem como aprovados em curso superior, poderão optar por participar do PLE na forma de Aluno Especial, cursando no máximo duas unidades curriculares.', 'predicted': '', 'question': 'Os/as ingressantes 2020.2 poderão cursar disciplinas no PLE?'}, '1243188584': {'truth': 'As atividades síncronas ocorrerão de acordo com os turnos dos cursos, no horário em que a disciplina tenha sido registrada no SIGA/SIGAA.', 'predicted': '', 'question': 'Sobre as atividades/encontros online das disciplinas, como ficará a organização por turno?'}, '1243188599': {'truth': 'Sim. Pode participar de ACC durante todo os períodos do curso.', 'predicted': '', 'question': 'Sobre as atividades complementares (ACC), considerando poder ser da mesma natureza (ensino ou pesquisa ou extensão), podem ser realizadas antes do PLE?'}, '1243188650': {'truth': 'Ficará a cargo de cada professor/a. Serão realizados vários cursos para a capacitação de professores/as e entre eles contará um curso sobre formas de avaliações', 'predicted': '', 'question': 'Como será o formato das avaliações?'}, '1243188633': {'truth': 'Não. Os estudantes só poderão efetuar matrícula nas unidades curriculares ofertadas na Unidade Acadêmica em que estão matriculados.', 'predicted': '', 'question': 'Posso me matricular em disciplinas de outras unidades acadêmicas?'}, '1243188651': {'truth': 'Seguirá a legislação. Resolução de regime de aprovação.', 'predicted': '', 'question': 'Como ficará o regime de avaliações das disciplinas?'}, '1243188575': {'truth': 'Os ingressantes de 2020.1 poderão cursar unidades curriculares no PLE, como os demais discentes da UFRPE. A matrícula será executada pelos próprios discentes no período indicado no calendário acadêmico do PLE. Os ingressantes de 2020.2 poderão cursar até duas unidades curriculares no PLE como alunos especiais. A solicitação de matrícula nas unidades curriculares de interesse dos ingressantes 2020.2 deverá ser enviada ao DRCA através de formulário disponível na página do DRCA (', 'predicted': '', 'question': 'Como fica a situação dos estudantes de 2020.1 e 2020.2 com essas propostas?'}, '1243188621': {'truth': 'O PLE tem curta duração, 10 semanas. Assim, um limite mais alto que o definido não caberia neste período. Por outro lado, um limite inferior poderia prejudicar os estudantes, especialmente os concluintes.', 'predicted': '', 'question': 'Por que foi colocado um limite de disciplinas para a matrícula?'}, '1243188628': {'truth': 'Os estudantes acompanhados e desligáveis terão suas matrículas processadas pelos coordenadores, ou administrativa processadas pelo DRCA. Quanto ao apoio pedagógico, a COAA e a coordenação continuarão atuando durante o PLE. Caso o estudante sinta necessidade, pode solicitar um apoio extra à coordenação do curso.', 'predicted': '', 'question': 'Os estudantes acompanhados e desligáveis que reprovaram mais de uma vez em uma disciplina\\xa0poderão pagá-la no PLE? Haverá algum apoio pedagógico?'}, '1243188602': {'truth': 'Nesse caso, é necessário realizar a Equiparação.', 'predicted': '', 'question': 'As normas e leis vigentes não estão permitindo a realização de estágio em minha área de atuação. Tenho como fazer o ESO?'}, '1243188609': {'truth': 'Não. A atividade poderá ser utilizada uma única vez.', 'predicted': '', 'question': 'O mesmo Projeto de Iniciação Científica (PIC) que entrou na minha carga horária de ACC pode ser usado também para carga horária do ESO? '}, '1243188644': {'truth': 'Não. Na forma Aluno\\xa0Especial caracteriza outro vínculo, sem ligação com o vínculo no curso de ingresso.', 'predicted': '', 'question': 'As reprovações dos ingressantes 2020.2 serão registradas no seu histórico?'}, '1243188600': {'truth': 'Sim. Apesar de ser extraordinário todos os pré requisitos presentes no componente curricular estão valendo, como um semestre normal.', 'predicted': '', 'question': 'Os pré-requisitos do componente ESO continuam valendo no PLE?'}, '1243188588': {'truth': 'Isso dependerá da comissão que organiza o exame de proficiência.', 'predicted': '', 'question': 'Haverá dispensa de Inglês no PLE?'}, '1243188640': {'truth': 'Após a aprovação do PLE serão divulgadas amplamente as unidades curriculares ofertadas e o calendário acadêmico. A matrícula será on-line. A proposta está prevista para agosto de 2020.', 'predicted': '', 'question': 'Até quando\\xa0e como posso me matricular no período excepcional?'}, '1243188635': {'truth': 'Não. A oferta de disciplinas isoladas para o estudante externo, não está prevista em calendário.', 'predicted': '', 'question': 'Estudantes de outras instituições podem\\xa0se matricular em disciplinas no PLE?'}, '1243188583': {'truth': 'Outras atividades podem substituir, como a elaboração de relatórios ou projetos. Quanto à apresentação síncrona, esta pode ser substituída, por exemplo, por vídeo gravado pelo estudante. Já uma arguição oral, por exemplo, pode ser substituída pelo envio de áudio através de ferramentas de mensagem.', 'predicted': '', 'question': 'Como será a avaliação de forma assíncrona, substituindo uma apresentação de trabalho ou uma chamada oral, por exemplo?'}, '1243188643': {'truth': 'Sim. Na forma de Aluno Especial dependendo da existência de ofertas e vagas.', 'predicted': '', 'question': 'Ingressantes 2020.2 que cursaram o PLE poderão continuar pagando disciplinas após o retorno do período 2020.1?'}, '1243188632': {'truth': 'Poderá se matricular em unidades curriculares obrigatórias ou optativas do seu curso, que tenham sido ofertadas pelos professores no PLE. Contudo, componentes eletivas não serão oferecidos. Eletivas não contam carga horária para o currículo;\\xa0para que isso ocorra deve constar no PPC do curso.', 'predicted': '', 'question': 'Posso me matricular em disciplinas (obrigatórias, optativas e/ou eletivas) de outros cursos e contar a carga horária no meu curso?'}, '1243188642': {'truth': 'As Unidades Curriculares que resultem em rendimento poderão ser usadas com aproveitamento acadêmico para o curso no qual ingressará.Quando da análise para escolha do estudante laureado na colação de grau do curso, o aproveitamento das unidades curriculares não implicará no mérito acadêmico.', 'predicted': '', 'question': 'Como serão utilizadas as disciplinas cursadas no PLE\\xa0pelos estudantes ingressantes do Sisu 2020?'}, '1243188645': {'truth': 'A solicitação de matrícula em unidades curriculares ofertadas no PLE, para ingressantes 2020.2, será através\\xa0 de formulário on-line, por curso, publicado na página da UFRPE.', 'predicted': '', 'question': 'Como será realizada a matrícula dos ingressantes 2020.2 no PLE?'}, '1243188612': {'truth': 'Sim. O ESO remoto depende do PPC do curso e de suas possibilidades. Para mais informações procure a coordenação do seu curso e siga a orientação do seu professor orientador.', 'predicted': '', 'question': 'A Carga Horária do ESO e suas exigências legais devem ser cumpridas?'}, '1243188592': {'truth': 'Serão oferecidas unidades curriculares com aulas síncronas de forma semelhante ao horário presencial, com dias e horas marcadas.', 'predicted': '', 'question': 'Haverá algum tipo de planejamento do horário para não dar choque\\xa0entre as disciplinas?'}, '1243188582': {'truth': 'Haverá ampla divulgação pelas coordenações e pela PREG. Além disso, no próprio SIGA/SIGAA serão apresentadas as disciplinas ofertadas.', 'predicted': '', 'question': 'Como posso saber as disciplinas que serão ofertadas pelo meu curso?'}, '1243188577': {'truth': 'O/a estudante terá a possibilidade de cancelar a matrícula nas unidades curriculares conforme data limite para cancelamento sem ônus, prevista no Calendário Acadêmico.', 'predicted': '', 'question': 'O cancelamento de matrícula nas disciplinas será com ou sem ônus no PLE?'}, '1243188595': {'truth': 'Os materiais pedagógicos que necessitarem ser adaptados para os estudantes com deficiência visual (baixa visão ou cegueira) deverão ser encaminhados com antecedência pelos professores para o Laboratório de Acessibilidade da UFRPE.', 'predicted': '', 'question': 'Como será o acesso ao material didático dos estudantes com deficiência visual?'}, '1243188620': {'truth': 'Será aberto um novo processo de matrícula específico para o PLE, as matrículas serão processadas pelos estudantes, on-line pelo Sistema SIGA ou SIGAA, e com data definida no calendário.', 'predicted': '', 'question': 'Como vão funcionar as matrículas nas disciplinas ofertadas no PLE?'}, '1243188594': {'truth': 'Todas as disciplinas terão seu plano de ensino analisado pelo CCD do curso. Ela poderá ser ofertada caso este julgue não haverá prejuízo para o aprendizado dos alunos. Nos casos de disciplinas que não puderam ser adaptadas para o formato remoto, neste primeiro momento, serão estudadas alternativas para um possível oferta futura nesse formato.', 'predicted': '', 'question': 'Todas as disciplinas poderão ser disponibilizadas?'}, '1243188637': {'truth': 'Sim. Para alterações nas matrículas, essas serão solicitadas administrativamente, junto à Coordenação Geral dos Cursos.', 'predicted': '', 'question': 'Quando o semestre 2020.1 retornar, os Estudantes do REMT ainda estarão matriculados nessa modalidade?'}, '1243188586': {'truth': 'No plano de ensino que o professor enviou para a aprovação do CCD do curso. Caso a coordenação ainda não tenha disponibilizado, solicite esse plano, onde constarão informações como a forma de avaliação, plataformas adotadas, conteúdo e bibliografia .', 'predicted': '', 'question': 'Como faço para saber o conteúdo e métodos avaliativos das disciplinas, antes de me matricular?'}}, 'incorrect_text': {}}\n",
      "-------------------\n"
     ]
    }
   ],
   "source": [
    "# Evaluate the model. (Being lazy and evaluating on the train data itself)\n",
    "result, text = model.eval_model(train_data)\n",
    "\n",
    "print(result)\n",
    "print(text)"
   ],
   "metadata": {
    "collapsed": false,
    "pycharm": {
     "name": "#%%\n"
    }
   }
  },
  {
   "cell_type": "code",
   "execution_count": 39,
   "outputs": [
    {
     "name": "stderr",
     "output_type": "stream",
     "text": [
      "INFO:simpletransformers.question_answering.question_answering_model: Converting to features started.\n",
      "convert squad examples to features:   0%|          | 0/1 [00:00<?, ?it/s]/home/giuseppe/PycharmProjects/ple_chat_bot/venv/lib/python3.6/site-packages/transformers/tokenization_utils_base.py:1324: FutureWarning: The `max_len` attribute has been deprecated and will be removed in a future version, use `model_max_length` instead.\n",
      "  FutureWarning,\n",
      "convert squad examples to features: 100%|██████████| 1/1 [00:00<00:00, 78.44it/s]\n",
      "add example index and unique id: 100%|██████████| 1/1 [00:00<00:00, 856.33it/s]\n"
     ]
    },
    {
     "data": {
      "text/plain": "HBox(children=(HTML(value='Running Prediction'), FloatProgress(value=0.0, max=1.0), HTML(value='')))",
      "application/vnd.jupyter.widget-view+json": {
       "version_major": 2,
       "version_minor": 0,
       "model_id": "133558378d754f67a7713a42fc14f30d"
      }
     },
     "metadata": {},
     "output_type": "display_data"
    },
    {
     "name": "stdout",
     "output_type": "stream",
     "text": [
      "\n"
     ]
    }
   ],
   "source": [
    "# Making predictions using the model.\n",
    "to_predict = np.asarray([dataset[id_test[0]]])\n",
    "predict = model.predict(to_predict)"
   ],
   "metadata": {
    "collapsed": false,
    "pycharm": {
     "name": "#%%\n"
    }
   }
  },
  {
   "cell_type": "code",
   "execution_count": 40,
   "outputs": [
    {
     "name": "stdout",
     "output_type": "stream",
     "text": [
      "[{'id': '1243188563', 'answer': ['', 'estudantes novatos', 'matriculas discentes nauaeadtecsecao idos alunos ingressantesart unidade academica educacao distancia tecnologiauaeadtec matriculas estudantes novatos', 'estudantes novatos referentes editais', 'selecao', 'novatos', 'discentes nauaeadtecsecao idos alunos ingressantesart unidade academica educacao distancia tecnologiauaeadtec matriculas estudantes novatos', 'alunos ingressantesart unidade academica educacao distancia tecnologiauaeadtec matriculas estudantes novatos', 'matriculas discentes nauaeadtecsecao idos alunos ingressantesart unidade academica educacao distancia tecnologiauaeadtec matriculas estudantes novatos referentes editais', 'estudantes novatos referentes editais selecao', 'capitulo ii procedimentos matriculas discentes nauaeadtecsecao idos alunos ingressantesart unidade academica educacao distancia tecnologiauaeadtec matriculas estudantes novatos', 'novatos referentes editais', 'discentes nauaeadtecsecao idos alunos ingressantesart unidade academica educacao distancia tecnologiauaeadtec matriculas estudantes novatos referentes editais', 'alunos ingressantesart unidade academica educacao distancia tecnologiauaeadtec matriculas estudantes novatos referentes editais', 'matriculas discentes nauaeadtecsecao idos alunos ingressantesart unidade academica educacao distancia tecnologiauaeadtec matriculas estudantes novatos referentes editais selecao', 'educacao distancia tecnologiauaeadtec matriculas estudantes novatos', 'matriculas estudantes novatos', 'novatos referentes editais selecao', 'discentes nauaeadtecsecao idos alunos ingressantesart unidade academica educacao distancia tecnologiauaeadtec matriculas estudantes novatos referentes editais selecao']}]\n",
      "[{'id': '1243188563', 'probability': [1.0, 5.2649774358113946e-20, 4.793816507738358e-20, 4.538694246947918e-20, 4.4683283147771703e-20, 4.4683283147771703e-20, 4.399053305268505e-20, 4.364819600850426e-20, 4.1325281389820306e-20, 4.036798227749345e-20, 3.8821509162039824e-20, 3.851939778091031e-20, 3.7922209870900234e-20, 3.762709689237688e-20, 3.6755466131663376e-20, 3.6469432824953245e-20, 3.507231079363793e-20, 3.425986158915964e-20, 3.372871166682611e-20]}]\n"
     ]
    }
   ],
   "source": [
    "for pred in predict:\n",
    "    print(pred)"
   ],
   "metadata": {
    "collapsed": false,
    "pycharm": {
     "name": "#%%\n"
    }
   }
  }
 ],
 "metadata": {
  "kernelspec": {
   "display_name": "Python 3",
   "language": "python",
   "name": "python3"
  },
  "language_info": {
   "codemirror_mode": {
    "name": "ipython",
    "version": 2
   },
   "file_extension": ".py",
   "mimetype": "text/x-python",
   "name": "python",
   "nbconvert_exporter": "python",
   "pygments_lexer": "ipython2",
   "version": "2.7.6"
  }
 },
 "nbformat": 4,
 "nbformat_minor": 0
}