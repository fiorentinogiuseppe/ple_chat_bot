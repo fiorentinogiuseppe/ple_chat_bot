{
 "cells": [
  {
   "cell_type": "code",
   "execution_count": 1,
   "outputs": [
    {
     "name": "stderr",
     "output_type": "stream",
     "text": [
      "\u001B[34m\u001B[1mwandb\u001B[0m: \u001B[33mWARNING\u001B[0m W&B installed but not logged in.  Run `wandb login` or set the WANDB_API_KEY env variable.\n"
     ]
    }
   ],
   "source": [
    "from simpletransformers.question_answering import QuestionAnsweringModel\n",
    "import logging\n",
    "import orjson\n",
    "import numpy as np\n",
    "import math\n",
    "\n",
    "logging.basicConfig(level=logging.INFO)\n",
    "transformers_logger = logging.getLogger(\"transformers\")\n",
    "transformers_logger.setLevel(logging.WARNING)"
   ],
   "metadata": {
    "collapsed": false,
    "pycharm": {
     "name": "#%%\n"
    }
   }
  },
  {
   "cell_type": "code",
   "execution_count": 2,
   "outputs": [],
   "source": [
    "with open(\"../resources/data_final.json\", \"rb\") as f:\n",
    "    dataset = orjson.loads(f.read())"
   ],
   "metadata": {
    "collapsed": false,
    "pycharm": {
     "name": "#%%\n"
    }
   }
  },
  {
   "cell_type": "code",
   "execution_count": 3,
   "outputs": [],
   "source": [
    "np.random.seed(0)\n",
    "id_train = np.random.choice(len(dataset), math.ceil(len(dataset)/2))"
   ],
   "metadata": {
    "collapsed": false,
    "pycharm": {
     "name": "#%%\n"
    }
   }
  },
  {
   "cell_type": "code",
   "execution_count": 4,
   "outputs": [
    {
     "data": {
      "text/plain": "(48,)"
     },
     "execution_count": 4,
     "metadata": {},
     "output_type": "execute_result"
    }
   ],
   "source": [
    "id_train.shape"
   ],
   "metadata": {
    "collapsed": false,
    "pycharm": {
     "name": "#%%\n"
    }
   }
  },
  {
   "cell_type": "code",
   "execution_count": 5,
   "outputs": [],
   "source": [
    "id_test = np.asarray(list(set(range(len(dataset))).difference(set(id_train))))"
   ],
   "metadata": {
    "collapsed": false,
    "pycharm": {
     "name": "#%%\n"
    }
   }
  },
  {
   "cell_type": "code",
   "execution_count": 6,
   "outputs": [
    {
     "data": {
      "text/plain": "(60,)"
     },
     "execution_count": 6,
     "metadata": {},
     "output_type": "execute_result"
    }
   ],
   "source": [
    "id_test.shape"
   ],
   "metadata": {
    "collapsed": false,
    "pycharm": {
     "name": "#%%\n"
    }
   }
  },
  {
   "cell_type": "code",
   "execution_count": 7,
   "outputs": [],
   "source": [
    "# https://github.com/ThilinaRajapakse/simpletransformers#question-answering\n",
    "# https://simpletransformers.ai/docs/qa-data-formats/#train-data-format"
   ],
   "metadata": {
    "collapsed": false,
    "pycharm": {
     "name": "#%%\n"
    }
   }
  },
  {
   "cell_type": "code",
   "execution_count": 8,
   "outputs": [
    {
     "name": "stderr",
     "output_type": "stream",
     "text": [
      "INFO:simpletransformers.question_answering.question_answering_model: Converting to features started.\n",
      "convert squad examples to features:   0%|          | 0/95 [00:00<?, ?it/s]/home/giuseppe/PycharmProjects/ple_chat_bot/venv/lib/python3.6/site-packages/transformers/tokenization_utils_base.py:1324: FutureWarning: The `max_len` attribute has been deprecated and will be removed in a future version, use `model_max_length` instead.\n",
      "  FutureWarning,\n",
      "convert squad examples to features: 100%|██████████| 95/95 [00:01<00:00, 78.62it/s]\n",
      "add example index and unique id: 100%|██████████| 95/95 [00:00<00:00, 145210.96it/s]\n",
      "/home/giuseppe/PycharmProjects/ple_chat_bot/venv/lib/python3.6/site-packages/torch/optim/lr_scheduler.py:123: UserWarning: Detected call of `lr_scheduler.step()` before `optimizer.step()`. In PyTorch 1.1.0 and later, you should call them in the opposite order: `optimizer.step()` before `lr_scheduler.step()`.  Failure to do this will result in PyTorch skipping the first value of the learning rate schedule. See more details at https://pytorch.org/docs/stable/optim.html#how-to-adjust-learning-rate\n",
      "  \"https://pytorch.org/docs/stable/optim.html#how-to-adjust-learning-rate\", UserWarning)\n",
      "/home/giuseppe/PycharmProjects/ple_chat_bot/venv/lib/python3.6/site-packages/torch/optim/lr_scheduler.py:200: UserWarning: Please also save or load the state of the optimzer when saving or loading the scheduler.\n",
      "  warnings.warn(SAVE_STATE_WARNING, UserWarning)\n",
      "INFO:simpletransformers.question_answering.question_answering_model: Training of bert model complete. Saved to outputs/.\n"
     ]
    },
    {
     "data": {
      "text/plain": "HBox(children=(HTML(value='Epoch'), FloatProgress(value=0.0, max=1.0), HTML(value='')))",
      "application/vnd.jupyter.widget-view+json": {
       "version_major": 2,
       "version_minor": 0,
       "model_id": "beccb7d557144136903e095f936adffe"
      }
     },
     "metadata": {},
     "output_type": "display_data"
    },
    {
     "data": {
      "text/plain": "HBox(children=(HTML(value='Running Epoch 0 of 1'), FloatProgress(value=0.0, max=18.0), HTML(value='')))",
      "application/vnd.jupyter.widget-view+json": {
       "version_major": 2,
       "version_minor": 0,
       "model_id": "0c9228b110af429a9aff8dd202bcdb2b"
      }
     },
     "metadata": {},
     "output_type": "display_data"
    },
    {
     "name": "stdout",
     "output_type": "stream",
     "text": [
      "\n",
      "\n"
     ]
    }
   ],
   "source": [
    "# Create dummy data to use for training.\n",
    "train_data = dataset #[dataset[id] for id in id_train]\n",
    "\n",
    "# Create the QuestionAnsweringModel\n",
    "model = QuestionAnsweringModel('bert', 'mrm8488/bert-base-portuguese-cased-finetuned-squad-v1-pt', args={'reprocess_input_data': True, 'overwrite_output_dir': True})\n",
    "model.lazy_loading = True\n",
    "\n",
    "# The list can also be used directly\n",
    "model.train_model(dataset  ) #train_data)"
   ],
   "metadata": {
    "collapsed": false,
    "pycharm": {
     "name": "#%%\n"
    }
   }
  },
  {
   "cell_type": "code",
   "execution_count": 9,
   "outputs": [
    {
     "name": "stderr",
     "output_type": "stream",
     "text": [
      "INFO:simpletransformers.question_answering.question_answering_model: Converting to features started.\n",
      "convert squad examples to features:   0%|          | 0/95 [00:00<?, ?it/s]/home/giuseppe/PycharmProjects/ple_chat_bot/venv/lib/python3.6/site-packages/transformers/tokenization_utils_base.py:1324: FutureWarning: The `max_len` attribute has been deprecated and will be removed in a future version, use `model_max_length` instead.\n",
      "  FutureWarning,\n",
      "convert squad examples to features: 100%|██████████| 95/95 [00:01<00:00, 69.50it/s]\n",
      "add example index and unique id: 100%|██████████| 95/95 [00:00<00:00, 208399.00it/s]\n"
     ]
    },
    {
     "data": {
      "text/plain": "HBox(children=(HTML(value='Running Evaluation'), FloatProgress(value=0.0, max=18.0), HTML(value='')))",
      "application/vnd.jupyter.widget-view+json": {
       "version_major": 2,
       "version_minor": 0,
       "model_id": "32753e126b324607b2b82e07cce5c024"
      }
     },
     "metadata": {},
     "output_type": "display_data"
    },
    {
     "name": "stdout",
     "output_type": "stream",
     "text": [
      "\n",
      "{'correct': 0, 'similar': 95, 'incorrect': 0, 'eval_loss': -12.246527777777779}\n",
      "{'correct_text': {}, 'similar_text': {'1243188563': {'truth': 'O primeiro PLE (2020.3) iniciará no dia 17 de agosto. Confira o Calendário Acadêmico com todas as datas ', 'predicted': '', 'question': 'Quando começam as aulas do PLE?'}, '1243188564': {'truth': 'Os emails da UFRPE estão sendo migrados para o Google. Com isso, o professor poderá usar ferramentas como o Google Meet, Google Classroom e o Google Drive com sua conta institucional. Assim, os encontros síncronos realizados como o Google Meet podem ser gravados e armazenados no Google Drive, sendo disponibilizados posteriormente em canais como o YouTube ou no Google Classroom. Também temos a plataforma RNP.', 'predicted': '', 'question': 'Nem o SIGAA nem o AVA podem transmitir as aulas online. Temos na UFRPE uma plataforma para isso?'}, '1243188565': {'truth': 'Sim. Contudo, recomenda-se que se dê preferência para as atividades assíncronas. No caso da realização de atividades síncronas, deve-se disponibilizar uma atividade equivalente de forma assíncrona. Por exemplo, uma encontro síncrono pode ser gravado e o vídeo pode ser disponibilizado para os estudantes que não puderam comparecer ao encontro síncrono.', 'predicted': '', 'question': 'O/a docente\\xa0pode decidir se as atividades serão síncronas ou assíncronas?'}, '1243188566': {'truth': 'Recomenda-se o uso do AVA e do SIGAA, mas outras plataformas como o Google Classroom também podem ser usadas. Caso o professor tenha aulas gravadas, ele poderá disponibilizá-las nestas plataformas. Caso sejam realizados encontros síncronos, estes encontros poderão ser gravados pelo professor e disponibilizados posteriormente, na plataforma adotada.', 'predicted': '', 'question': 'As aulas serão disponibilizadas no AVA, SIGAA ou em alguma outra plataforma?'}, '1243188567': {'truth': 'Pode haver simulação de práticas, mas o professor responsável deve avaliar se essa adequação é possível, sem prejuízo na formação dos nossos estudantes. As aulas práticas dependem da possibilidade legal e técnica para serem realizadas. Por exemplo, muitas aulas práticas na área de computação podem continuar sendo realizadas normalmente.', 'predicted': '', 'question': 'Como funcionarão as aulas práticas?'}, '1243188568': {'truth': 'Não é recomendado. Deve-se observar as normas e leis vigentes durante o PLE.', 'predicted': '', 'question': 'O professor pode propor atividades em que os estudantes tenham que sair de casa (ex.: realização de filmagens ou fotografias em área externa)? '}, '1243188569': {'truth': 'Não. O encontro síncrono pode acontecer, mas a avaliação deve-se dar por outros meios.', 'predicted': '', 'question': 'O/a estudante pode levar falta ou ter a nota alterada por não comparecer a uma atividade síncrona, mesmo que seja uma arguição oral?'}, '1243188570': {'truth': 'Sugerimos que as atividades das unidades curriculares sejam assíncronas. Caso o professor realize alguma atividade síncrona, ele deverá disponibilizar uma atividade equivalente de forma assíncrona. No caso das atividades síncronas, estas deverão ser realizadas no horário em que a disciplina foi registrada no SIGA/SIGAA.', 'predicted': '', 'question': 'Qual é o horário em que ocorrerão as aulas remotas?'}, '1243188571': {'truth': 'Todos/as docentes\\xa0ativos/as da UFRPE.', 'predicted': '', 'question': 'Quem pode ofertar disciplinas no PLE?'}, '1243188572': {'truth': 'Através de aulas remotas, que podem ser com atividades síncronas ou assíncronas. Serão utilizadas preferencialmente as plataformas virtuais oficiais da UFRPE (AVA, SIGAA), podendo ser utilizadas outras plataformas como google meet, zoom, entre outras.', 'predicted': '', 'question': 'Como vai funcionar o PLE?'}, '1243188573': {'truth': 'Todos os estudantes com vínculo ativo (matriculado, matrícula vínculo ou trancado) da UFRPE.', 'predicted': '', 'question': 'Quem pode cursar disciplinas no PLE?'}, '1243188574': {'truth': 'Recomenda-se que seja realizado um processo de avaliação continuada nas disciplinas ofertadas durante o PLE, com atividades avaliativas sendo propostas ao longo das unidades curriculares e não apenas com a realização de uma única prova em uma semana específica. É necessário, ainda, uma flexibilização nos prazos de entrega das atividades propostas, levando sempre em consideração o tempo necessário para realização das mesmas como parte da carga horária (CH) das unidades curriculares. Dessa forma, entendemos que não seria indicado determinar uma semana específica para a realização das atividades avaliativas no calendário acadêmico.', 'predicted': '', 'question': 'Por que não há um período específico para a realização das atividades avaliativas no PLE?'}, '1243188575': {'truth': 'Os ingressantes de 2020.1 poderão cursar unidades curriculares no PLE, como os demais discentes da UFRPE. A matrícula será executada pelos próprios discentes no período indicado no calendário acadêmico do PLE. Os ingressantes de 2020.2 poderão cursar até duas unidades curriculares no PLE como alunos especiais. A solicitação de matrícula nas unidades curriculares de interesse dos ingressantes 2020.2 deverá ser enviada ao DRCA através de formulário disponível na página do DRCA (', 'predicted': '', 'question': 'Como fica a situação dos estudantes de 2020.1 e 2020.2 com essas propostas?'}, '1243188576': {'truth': 'O limite foi determinado com base no PPC do curso e na alta demanda dos alunos. Um limite maior que o do PPC poderia sobrecarregar os professores. Já um limite inferior poderia prejudicar os alunos deixando muitos sem vagas nas disciplinas.', 'predicted': '', 'question': 'Por que foi colocado um limite de vagas nas disciplinas?'}, '1243188577': {'truth': 'O/a estudante terá a possibilidade de cancelar a matrícula nas unidades curriculares conforme data limite para cancelamento sem ônus, prevista no Calendário Acadêmico.', 'predicted': '', 'question': 'O cancelamento de matrícula nas disciplinas será com ou sem ônus no PLE?'}, '1243188578': {'truth': 'Sim. As unidades curriculares cursadas no PLE serão aproveitadas automaticamente no retorno às aulas presenciais, referente ao semestre 2020.1', 'predicted': '', 'question': 'As disciplinas cursadas no PLE serão aproveitadas na volta do período presencial?'}, '1243188579': {'truth': 'Para estudantes em situação de acompanhamento ou desligamento, a reprovação em disciplinas cursadas no Período Letivo Excepcional (PLE) não será contabilizada.', 'predicted': '', 'question': 'As reprovações ocorridas durante o PLE serão registradas?'}, '1243188580': {'truth': 'Não.\\xa0', 'predicted': '', 'question': 'O PLE vai substituir o semestre 2020.1?'}, '1243188581': {'truth': 'Não. O semestre 2020.1 foi suspenso pela UFRPE devido à pandemia do novo coronavírus, a fim de contribuir com o isolamento social e as medidas de restrição ao controle da COVID-19. Seu retorno fica dependente das condições sanitárias informadas pelos órgãos competentes, bem como as normatizações no âmbito do Ministério da Educação e da UFRPE.', 'predicted': '', 'question': 'O semestre 2020.1 foi cancelado?'}, '1243188582': {'truth': 'Haverá ampla divulgação pelas coordenações e pela PREG. Além disso, no próprio SIGA/SIGAA serão apresentadas as disciplinas ofertadas.', 'predicted': '', 'question': 'Como posso saber as disciplinas que serão ofertadas pelo meu curso?'}, '1243188583': {'truth': 'Outras atividades podem substituir, como a elaboração de relatórios ou projetos. Quanto à apresentação síncrona, esta pode ser substituída, por exemplo, por vídeo gravado pelo estudante. Já uma arguição oral, por exemplo, pode ser substituída pelo envio de áudio através de ferramentas de mensagem.', 'predicted': '', 'question': 'Como será a avaliação de forma assíncrona, substituindo uma apresentação de trabalho ou uma chamada oral, por exemplo?'}, '1243188584': {'truth': 'As atividades síncronas ocorrerão de acordo com os turnos dos cursos, no horário em que a disciplina tenha sido registrada no SIGA/SIGAA.', 'predicted': '', 'question': 'Sobre as atividades/encontros online das disciplinas, como ficará a organização por turno?'}, '1243188585': {'truth': 'Na teoria, seriam 4,5 horas por semana, entretanto o professor é quem irá demandar a quantidade de horas para que o estudante compreenda e cumpra os conteúdos. Teremos aulas assíncronas e síncronas. Aulas disponibilizadas preparadas com uso de tecnologias, sendo contabilizadas de fato por horas usadas em tarefas disponibilizadas e cumpridas.', 'predicted': '', 'question': 'Como ficará a carga horária semanal de uma disciplina de 45h no PLE? Quantas horas por semana e quantos encontros por semana?'}, '1243188586': {'truth': 'No plano de ensino que o professor enviou para a aprovação do CCD do curso. Caso a coordenação ainda não tenha disponibilizado, solicite esse plano, onde constarão informações como a forma de avaliação, plataformas adotadas, conteúdo e bibliografia .', 'predicted': '', 'question': 'Como faço para saber o conteúdo e métodos avaliativos das disciplinas, antes de me matricular?'}, '1243188587': {'truth': 'A oferta de disciplinas é planejada pela departamentos/docentes/coordenação priorizando os períodos do(s) currículo(s) vigente(s) no objetivo de possibilitar a integralização curricular dos estudantes.', 'predicted': '', 'question': 'Como será a oferta de disciplinas após o término do PLE em cursos\\xa0como Administração, em que há uma alternância do horário?'}, '1243188588': {'truth': 'Isso dependerá da comissão que organiza o exame de proficiência.', 'predicted': '', 'question': 'Haverá dispensa de Inglês no PLE?'}, '1243188589': {'truth': 'Foi pedido aos D.A.s dos cursos que fizessem uma lista de unidades curriculares que os estudantes gostariam de serem ofertadas para que pudéssemos negociar e conciliar o máximo possível as unidades ofertadas pelos professores e a demanda dos estudantes..', 'predicted': '', 'question': 'Estudantes poderão solicitar\\xa0a abertura de uma disciplina caso ela não abra no período letivo excepcional?'}, '1243188590': {'truth': 'Os(as) docentes, para atender a esses(as) discentes, podem utilizar estratégias como: Adaptações de material em formato digital para formato digital acessível;Descrição de imagens estáticas;\\xa0\\xa0Orientação para docentes e discentes;·Colaboração com demais setores da Universidade; Vídeos legendados e descritos; Em caso de utilização de Ambiente Virtual de Aprendizagem (AVA), presença de vídeo introdutório em Libras;·Navegação através de animações/vídeos em Libras;·Utilização de textos curtos;·Uso de softwares com avatares para tradução, como o Rybená, Hand Talk; Inserção de legenda com fontes contrastantes em tamanho legível;·Investir no uso de imagens para facilitar a compreensão do(a) estudante surdo(a) na compreensão do que poderia ser falado (associação de fotos a\\xa0palavras).', 'predicted': '', 'question': 'Quais estratégias estão sendo desenhadas para garantir a acessibilidade?'}, '1243188591': {'truth': 'Devido à pandemia, os/as professores/as\\xa0 também podem estar enfrentando problemas que os/as impeçam de ofertar disciplinas no PLE. No caso de dificuldades para a oferta remota de disciplinas, a UFRPE está qualificando esses/essas docentes através de programas de formação.', 'predicted': '', 'question': 'Por que a oferta de disciplinas, por parte dos/as docentes, é opcional?'}, '1243188592': {'truth': 'Serão oferecidas unidades curriculares com aulas síncronas de forma semelhante ao horário presencial, com dias e horas marcadas.', 'predicted': '', 'question': 'Haverá algum tipo de planejamento do horário para não dar choque\\xa0entre as disciplinas?'}, '1243188593': {'truth': 'Será observada a utilização de legendas, aplicativos de transcrição instantânea, bem como a participação do(a) tradutor(a) intérprete da Libras.', 'predicted': '', 'question': 'Como será feito o atendimento para os estudantes com deficiência auditiva?'}, '1243188594': {'truth': 'Todas as disciplinas terão seu plano de ensino analisado pelo CCD do curso. Ela poderá ser ofertada caso este julgue não haverá prejuízo para o aprendizado dos alunos. Nos casos de disciplinas que não puderam ser adaptadas para o formato remoto, neste primeiro momento, serão estudadas alternativas para um possível oferta futura nesse formato.', 'predicted': '', 'question': 'Todas as disciplinas poderão ser disponibilizadas?'}, '1243188595': {'truth': 'Os materiais pedagógicos que necessitarem ser adaptados para os estudantes com deficiência visual (baixa visão ou cegueira) deverão ser encaminhados com antecedência pelos professores para o Laboratório de Acessibilidade da UFRPE.', 'predicted': '', 'question': 'Como será o acesso ao material didático dos estudantes com deficiência visual?'}, '1243188596': {'truth': 'Você pode entrar em contato por e-mail através dos endereços eletrônicos:', 'predicted': '', 'question': 'Como posso entrar em contato com os profissionais do Núcleo de Acessibilidade (NACES)?'}, '1243188597': {'truth': 'Os discentes terão acesso ao acompanhamento pedagógico por meio de reuniões virtuais com orientações de estudos e levantamento das necessidades específicas de cada discente, para construção de estratégias pedagógicas e encaminhamentos, para professores, de possíveis adaptações a serem realizadas para o atendimento', 'predicted': '', 'question': 'Como será o atendimento para os estudantes com necessidades especiais?'}, '1243188598': {'truth': 'Será analisada\\xa0a possibilidade da oferta do ESO pela coordenação, NDE e CCD do curso,\\xa0que vão avaliar caso a caso.', 'predicted': '', 'question': 'Como vão funcionar os estágios no período remoto?'}, '1243188599': {'truth': 'Sim. Pode participar de ACC durante todo os períodos do curso.', 'predicted': '', 'question': 'Sobre as atividades complementares (ACC), considerando poder ser da mesma natureza (ensino ou pesquisa ou extensão), podem ser realizadas antes do PLE?'}, '1243188600': {'truth': 'Sim. Apesar de ser extraordinário todos os pré requisitos presentes no componente curricular estão valendo, como um semestre normal.', 'predicted': '', 'question': 'Os pré-requisitos do componente ESO continuam valendo no PLE?'}, '1243188601': {'truth': 'A nota de aprovação não foi alterada.', 'predicted': '', 'question': 'Qual é a nota para ser aprovado no TCC ou monografia\\xa0durante o PLE?'}, '1243188602': {'truth': 'Nesse caso, é necessário realizar a Equiparação.', 'predicted': '', 'question': 'As normas e leis vigentes não estão permitindo a realização de estágio em minha área de atuação. Tenho como fazer o ESO?'}, '1243188603': {'truth': 'Sim, poderá a apresentação poderá ser síncrona ou assíncrona, a depender da banca avaliadora. Essa possibilidade está prevista no PLE. Entre em contato com sua coordenação para combinar a forma de sua defesa.', 'predicted': '', 'question': 'Poderei apresentar o TCC neste período para a obtenção do meu diploma?'}, '1243188604': {'truth': 'Sim, desde que as respectivas cargas horárias não tenham sido computadas no registro de Atividades Curriculares Complementares e que seja previsto no PPC do curso', 'predicted': '', 'question': 'Caso tenha mais de um componente de ESO, posso dispensar todas elas com a equiparação?'}, '1243188605': {'truth': 'Sim.\\xa0', 'predicted': '', 'question': 'Solicitei a componente de ESO no semestre 2020.1, mas ainda não foi realizado o registro, pois a documentação estava em análise. Posso solicitar esse componente no PLE?'}, '1243188606': {'truth': 'Sim, desde que atenda os pré-requisitos da equiparação.', 'predicted': '', 'question': 'Monitoria, ainda que voluntária, pode ser usada para equiparação? '}, '1243188607': {'truth': 'A equiparação funcionará de acordo com as regras constantes no PPC de cada curso e em acordo com a resolução 425/2010\\xa0 CEPE/UFRPE. A equiparação de estágio pode ser feita, se prevista no PPC do curso. Caso não seja prevista, o CCD e NDE do curso podem de forma ágil possibilitar a equiparação, já para o PLE.', 'predicted': '', 'question': 'Como funciona a equiparação? Todos os cursos, incluindo licenciaturas, podem ter?'}, '1243188608': {'truth': 'Qualquer estudante desde que o curso preveja a equiparação do ESO em seu PPC e o/a discente atenda os pré-requisitos do ESO.', 'predicted': '', 'question': 'Quem pode solicitar a equiparação do ESO?'}, '1243188609': {'truth': 'Não. A atividade poderá ser utilizada uma única vez.', 'predicted': '', 'question': 'O mesmo Projeto de Iniciação Científica (PIC) que entrou na minha carga horária de ACC pode ser usado também para carga horária do ESO? '}, '1243188610': {'truth': 'A equiparação é um mecanismo legal. Porém, segundo a lei de estágio ela deve constar no PPC do curso. No PLE os cursos farão um projeto para anexar ao PPC. Procure sua coordenação e fale sobre seu caso específico. Se a atividade for compatível com o ESO, a coordenação poderá aceitar a equiparação.', 'predicted': '', 'question': 'Com relação à\\xa0equiparação do estágio obrigatório, é possível equiparar com programas de extensão realizados em outras instituições?'}, '1243188611': {'truth': 'Apenas as atividades de estágio não obrigatório,\\xa0 extensão, e monitorias e iniciação científica na educação superior, desenvolvidas pelo estudante, poderão ser equiparadas ao estágio em caso de previsão no PPC- projeto pedagógico do curso.', 'predicted': '', 'question': 'Atividades como cursos, participação em eventos valem para a carga horária do ESO? Quais atividades podem ser equiparadas ao ESO?'}, '1243188612': {'truth': 'Sim. O ESO remoto depende do PPC do curso e de suas possibilidades. Para mais informações procure a coordenação do seu curso e siga a orientação do seu professor orientador.', 'predicted': '', 'question': 'A Carga Horária do ESO e suas exigências legais devem ser cumpridas?'}, '1243188613': {'truth': 'Os estudantes concluintes, cumprido 80% de integralização do curso, poderão solicitar a Equivalência Excepcional de atividades pedagógicas, vivências acadêmicas e vivências profissionais para unidades curriculares de um ou mais unidades curriculares, não ultrapassando 375 horas.', 'predicted': '', 'question': 'Como vai funcionar para os concluintes a Equivalência Excepcional de atividades pedagógicas, para unidades curriculares no curso?'}, '1243188614': {'truth': 'O estudante pode solicitar equivalência de 375 horas por meio de análise de atividades pedagógicas e avaliação por banca examinadora específica. Ele precisa de uma nota mínima de 5,0 para sua aprovação.', 'predicted': '', 'question': 'Como será realizada a avaliação para a solicitação de equivalência das Unidades Curriculares do curso? '}, '1243188615': {'truth': 'Sim.', 'predicted': '', 'question': 'Será possível fazer a Equivalência Excepcional e também ESO, Educação Física, TCC e/ou Monografia paralelamente?'}, '1243188616': {'truth': 'Não. Não entra no cômputo para solicitação permitida aos concluintes de Equivalência Excepcional de atividades pedagógicas, para unidades curriculares.', 'predicted': '', 'question': 'As disciplinas como Monografia, ESO, TCC e Educação Física A são contabilizadas para o limite de Carga horária em disciplinas para a solicitação de equivalência de Unidades Curriculares do curso? '}, '1243188617': {'truth': 'A solicitação da equivalência excepcional para o concluinte só pode ocorrer se o estudante tiver integralizado 80% da carga horária do curso e unidades curriculares pendentes em no máximo 375 horas em unidades curriculares. Além desta carga horária poderá se matricular paralelamente em Educação Física A, na monografia, ESO e/ou Trabalho de Conclusão de Curso e apresentar Atividades Curriculares Complementares.', 'predicted': '', 'question': 'A partir de que período é possível solicitar a Equivalência excepcional?'}, '1243188618': {'truth': 'Os ingressantes de 2020.1 terão reservas de vagas definidas pela coordenação de cada curso, considerando as solicitações de matrícula para as disciplinas do primeiro período.', 'predicted': '', 'question': 'Quem ingressou\\xa0em 2020.1 terá\\xa0prioridade na matrícula nas disciplinas do primeiro período?'}, '1243188619': {'truth': 'Para matrícula no PLE o limite máximo é 240 horas, quatro cadeiras de 60 horas ou em outros arranjos de carga horária de forma que o somatório resulte em 240 horas.', 'predicted': '', 'question': 'Existe um limite de disciplinas que o/a estudante poderá cursar no PLE?'}, '1243188620': {'truth': 'Será aberto um novo processo de matrícula específico para o PLE, as matrículas serão processadas pelos estudantes, on-line pelo Sistema SIGA ou SIGAA, e com data definida no calendário.', 'predicted': '', 'question': 'Como vão funcionar as matrículas nas disciplinas ofertadas no PLE?'}, '1243188621': {'truth': 'O PLE tem curta duração, 10 semanas. Assim, um limite mais alto que o definido não caberia neste período. Por outro lado, um limite inferior poderia prejudicar os estudantes, especialmente os concluintes.', 'predicted': '', 'question': 'Por que foi colocado um limite de disciplinas para a matrícula?'}, '1243188622': {'truth': 'A oferta de unidade curricular é opcional, assim dependerá dos professores. Teremos nova publicação indicando as unidades curriculares ofertadas para este período excepcional.', 'predicted': '', 'question': 'Todas as disciplinas do período letivo 2020.1 serão ofertadas no PLE, ou vai ocorrer nova atualização?'}, '1243188623': {'truth': 'Não. ESO, TCC e Monografia estão fora do cômputo.', 'predicted': '', 'question': 'A carga horária de disciplinas como ESO e TCC são contabilizadas para o limite matrícula em disciplinas?'}, '1243188624': {'truth': 'Sim. Será necessário ter cumprido os pré-requisitos exigidos.', 'predicted': '', 'question': 'Mesmo estando no primeiro período, posso me matricular em disciplinas de outros períodos?'}, '1243188625': {'truth': 'Disciplinas\\xa0 optativas terão limite mínimo de 5 (cinco) estudantes por turma.', 'predicted': '', 'question': 'As disciplinas (obrigatórias e optativas) irão ocorrer independente do número de estudantes matriculados?'}, '1243188626': {'truth': 'Sim. Após início do semestre 2020.1 solicitará modificação junto à coordenação, tendo em vista o período excepcional.', 'predicted': '', 'question': 'Caso tenha sido aprovado em disciplinas do PLE nas quais estava matriculado no período 2020.1, quando esse período retornar estarei aprovado nessas disciplinas? Poderei incluir outras?'}, '1243188627': {'truth': 'Não. \\xa0A matrícula de 2020.1 está apenas suspensa, e quando retomarmos as atividades presenciais ela será reativada.', 'predicted': '', 'question': 'Quando as atividades presenciais de 2020.1 voltarem, a matrícula terá que ser refeita nas matérias em que já estou matriculado de 2020.1? Continuarei matriculado quando retornarem as atividades?'}, '1243188628': {'truth': 'Os estudantes acompanhados e desligáveis terão suas matrículas processadas pelos coordenadores, ou administrativa processadas pelo DRCA. Quanto ao apoio pedagógico, a COAA e a coordenação continuarão atuando durante o PLE. Caso o estudante sinta necessidade, pode solicitar um apoio extra à coordenação do curso.', 'predicted': '', 'question': 'Os estudantes acompanhados e desligáveis que reprovaram mais de uma vez em uma disciplina\\xa0poderão pagá-la no PLE? Haverá algum apoio pedagógico?'}, '1243188629': {'truth': 'Sim. Mas alertamos para o fato de que os critérios de confirmação de matrícula serão os mesmos aplicados nos semestres 1 e 2.', 'predicted': '', 'question': 'Numa disciplina em que não consegui me matricular na turma em 2020.1, se for disponibilizada no PLE 2020.3, vou poder me matricular?'}, '1243188630': {'truth': 'Sim. Após início do semestre 2020.1, solicitará o cancelamento.', 'predicted': '', 'question': 'Posso me matricular em disciplinas nas quais\\xa0estava matriculado em 2020.1?'}, '1243188631': {'truth': 'Não. Terá acesso sendo unidade optativa para seu curso. A coordenação definirá o número de vagas para o curso. A preferência é para os estudantes que no currículo do seu curso conste a unidade curricular como obrigatória.', 'predicted': '', 'question': 'Posso me matricular em disciplinas ofertadas para outros cursos?'}, '1243188632': {'truth': 'Poderá se matricular em unidades curriculares obrigatórias ou optativas do seu curso, que tenham sido ofertadas pelos professores no PLE. Contudo, componentes eletivas não serão oferecidos. Eletivas não contam carga horária para o currículo;\\xa0para que isso ocorra deve constar no PPC do curso.', 'predicted': '', 'question': 'Posso me matricular em disciplinas (obrigatórias, optativas e/ou eletivas) de outros cursos e contar a carga horária no meu curso?'}, '1243188633': {'truth': 'Não. Os estudantes só poderão efetuar matrícula nas unidades curriculares ofertadas na Unidade Acadêmica em que estão matriculados.', 'predicted': '', 'question': 'Posso me matricular em disciplinas de outras unidades acadêmicas?'}, '1243188634': {'truth': 'Para preservar os estudantes. Diante da pandemia, eles podem estar sem condições de assumir compromissos acadêmicos.', 'predicted': '', 'question': 'Por que é opcional a matrícula em disciplinas por parte dos/as estudantes?'}, '1243188635': {'truth': 'Não. A oferta de disciplinas isoladas para o estudante externo, não está prevista em calendário.', 'predicted': '', 'question': 'Estudantes de outras instituições podem\\xa0se matricular em disciplinas no PLE?'}, '1243188636': {'truth': 'Os estudantes deverão realizar a sua matrícula normalmente no semestre 2020.3, utilizando o SIGA/SIGAA.', 'predicted': '', 'question': 'Como faço a minha matrícula?'}, '1243188637': {'truth': 'Sim. Para alterações nas matrículas, essas serão solicitadas administrativamente, junto à Coordenação Geral dos Cursos.', 'predicted': '', 'question': 'Quando o semestre 2020.1 retornar, os Estudantes do REMT ainda estarão matriculados nessa modalidade?'}, '1243188638': {'truth': 'Sim. Estudantes com situação trancado, matriculado ou matrícula vínculo poderão efetivar matrícula no PLE.', 'predicted': '', 'question': 'Estou em situação de trancamento no meu curso em 2020.1. Posso me matricular normalmente em 2020.3?'}, '1243188639': {'truth': 'Sim. Os/as estudantes em Regime Especial de Movimentação Temporária-REMT poderão se matricular, contudo, esta matrícula será realizada administrativamente, solicitada à Coordenação Geral dos Cursos.', 'predicted': '', 'question': 'Estudantes do REMT poderão se matricular em disciplinas no PLE?'}, '1243188640': {'truth': 'Após a aprovação do PLE serão divulgadas amplamente as unidades curriculares ofertadas e o calendário acadêmico. A matrícula será on-line. A proposta está prevista para agosto de 2020.', 'predicted': '', 'question': 'Até quando\\xa0e como posso me matricular no período excepcional?'}, '1243188641': {'truth': 'Sim. Os/as estudantes já podem acessar o sistema e fazer o primeiro acesso, inclusive participar do PLE.', 'predicted': '', 'question': 'Os/as estudantes da UABJ ingressantes 2020.1 já têm vínculo com a UFRPE?'}, '1243188642': {'truth': 'As Unidades Curriculares que resultem em rendimento poderão ser usadas com aproveitamento acadêmico para o curso no qual ingressará.Quando da análise para escolha do estudante laureado na colação de grau do curso, o aproveitamento das unidades curriculares não implicará no mérito acadêmico.', 'predicted': '', 'question': 'Como serão utilizadas as disciplinas cursadas no PLE\\xa0pelos estudantes ingressantes do Sisu 2020?'}, '1243188643': {'truth': 'Sim. Na forma de Aluno Especial dependendo da existência de ofertas e vagas.', 'predicted': '', 'question': 'Ingressantes 2020.2 que cursaram o PLE poderão continuar pagando disciplinas após o retorno do período 2020.1?'}, '1243188644': {'truth': 'Não. Na forma Aluno\\xa0Especial caracteriza outro vínculo, sem ligação com o vínculo no curso de ingresso.', 'predicted': '', 'question': 'As reprovações dos ingressantes 2020.2 serão registradas no seu histórico?'}, '1243188645': {'truth': 'A solicitação de matrícula em unidades curriculares ofertadas no PLE, para ingressantes 2020.2, será através\\xa0 de formulário on-line, por curso, publicado na página da UFRPE.', 'predicted': '', 'question': 'Como será realizada a matrícula dos ingressantes 2020.2 no PLE?'}, '1243188646': {'truth': 'Sim. Considerando constarem como aprovados em curso superior, poderão optar por participar do PLE na forma de Aluno Especial, cursando no máximo duas unidades curriculares.', 'predicted': '', 'question': 'Os/as ingressantes 2020.2 poderão cursar disciplinas no PLE?'}, '1243188647': {'truth': 'A confirmação de vínculo para os ingressantes 2020.2 dependerá de novo cronograma de ações, que irá alterar o Edital 05/2020.', 'predicted': '', 'question': 'Sou ingressante 2020.2. Como e quando devo realizar a confirmação de vínculo?'}, '1243188648': {'truth': 'Os/as professores/as têm autonomia nas VAs, mas todas as Verificações de Aprendizagem estão sugeridas que no PLE sejam aplicadas remotamente, assíncrona ou síncrona.', 'predicted': '', 'question': 'A verificação\\xa0de aprendizagem (VA)\\xa0será aplicada presencialmente somente ao final?'}, '1243188649': {'truth': 'Para todos os/as estudantes aprovados para o semestre 2020.2, as aulas iniciarão após o término de 2020.1. Porém é possível cursar duas unidades curriculares no PLE na forma de Aluno Especial', 'predicted': '', 'question': 'Como fica a turma de 2020.2?'}, '1243188650': {'truth': 'Ficará a cargo de cada professor/a. Serão realizados vários cursos para a capacitação de professores/as e entre eles contará um curso sobre formas de avaliações', 'predicted': '', 'question': 'Como será o formato das avaliações?'}, '1243188651': {'truth': 'Seguirá a legislação. Resolução de regime de aprovação.', 'predicted': '', 'question': 'Como ficará o regime de avaliações das disciplinas?'}, '1243188652': {'truth': 'Não. A disciplina pode ser montada a partir de material que passou pela curadoria do professor com o conteúdo da disciplina. Esse material pode incluir vídeos, apresentações, textos etc. Contudo, todo o material deve estar disponível gratuitamente para os estudantes.', 'predicted': '', 'question': 'O conteúdo da disciplina precisa ser autoral?'}, '1243188653': {'truth': 'Teremos a monitoria remota. Também contamos com orientação pedagógica.', 'predicted': '', 'question': 'Haverá a seleção de monitores?'}, '1243188654': {'truth': 'As 6 horas de trabalho semanal não serão exclusivas para videoaulas e representam o total de atividades de diversas naturezas que o professor irá propor semanalmente, visando ao cumprimento de seu Plano de Ensino. Haverá uma adaptação da forma como o conteúdo será proposto e avaliado, sem haver, contudo, alteração na carga horária da unidade curricular.', 'predicted': '', 'question': 'Como o PLE\\xa0 tem 10 semanas, uma disciplina de 60h tem que ter 6h semanais. Não será muito trabalhoso para o professor ter que gravar 6h de vídeo por semana?'}, '1243188655': {'truth': 'Sim.', 'predicted': '', 'question': 'A carga horária e o conteúdo das disciplinas do PLE serão os mesmos das disciplinas ofertadas presencialmente?'}, '1243188656': {'truth': 'A carga horária das unidades curriculares será contabilizada a partir das atividades semanais passadas pelo professor. Assim, uma unidade curricular de 60h deverá ter 6h semanais em atividades, incluindo as atividades síncronas e assíncronas. Deve-se contabilizar nesta carga horária tanto o tempo em que o professor está atuando com os estudantes, quanto o tempo que os estudantes levarão para finalizar as atividades.', 'predicted': '', 'question': 'Como será contabilizada a carga horária das disciplinas no PLE?'}, '1243188657': {'truth': 'A substituição é possível através de outras atividades, tais como a elaboração de relatórios ou projetos. Quanto à apresentação síncrona, esta pode ser substituída, por exemplo, por vídeo gravado pelo estudante. Já uma arguição oral, por exemplo, pode ser substituída pelo envio de áudio através de ferramentas de mensagem.', 'predicted': '', 'question': 'Como posso ser avaliado de forma assíncrona? É possível para o/a professor/a substituir uma apresentação de trabalho ou uma chamada oral, por exemplo? '}}, 'incorrect_text': {}}\n"
     ]
    }
   ],
   "source": [
    "# Evaluate the model. (Being lazy and evaluating on the train data itself)\n",
    "#result, text = model.eval_model(train_data, output_dir=\"../resources/bert/\")\n",
    "result, text = model.eval_model(dataset, output_dir=\"../resources/bert/\")\n",
    "\n",
    "print(result)\n",
    "print(text)"
   ],
   "metadata": {
    "collapsed": false,
    "pycharm": {
     "name": "#%%\n"
    }
   }
  },
  {
   "cell_type": "code",
   "execution_count": 36,
   "outputs": [
    {
     "name": "stderr",
     "output_type": "stream",
     "text": [
      "INFO:simpletransformers.question_answering.question_answering_model: Converting to features started.\n",
      "convert squad examples to features:   0%|          | 0/1 [00:00<?, ?it/s]/home/giuseppe/PycharmProjects/ple_chat_bot/venv/lib/python3.6/site-packages/transformers/tokenization_utils_base.py:1324: FutureWarning: The `max_len` attribute has been deprecated and will be removed in a future version, use `model_max_length` instead.\n",
      "  FutureWarning,\n",
      "convert squad examples to features: 100%|██████████| 1/1 [00:00<00:00, 45.00it/s]\n",
      "add example index and unique id: 100%|██████████| 1/1 [00:00<00:00, 4568.96it/s]\n"
     ]
    },
    {
     "data": {
      "text/plain": "HBox(children=(HTML(value='Running Prediction'), FloatProgress(value=0.0, max=1.0), HTML(value='')))",
      "application/vnd.jupyter.widget-view+json": {
       "version_major": 2,
       "version_minor": 0,
       "model_id": "8bd0cd5c745a48fe97198f89558b49b4"
      }
     },
     "metadata": {},
     "output_type": "display_data"
    },
    {
     "name": "stdout",
     "output_type": "stream",
     "text": [
      "\n"
     ]
    }
   ],
   "source": [
    "# Making predictions using the model.\n",
    "to_predict = np.asarray([dataset[2]])\n",
    "predict = model.predict(to_predict, n_best_size=1)"
   ],
   "metadata": {
    "collapsed": false,
    "pycharm": {
     "name": "#%%\n"
    }
   }
  },
  {
   "cell_type": "code",
   "execution_count": 40,
   "outputs": [
    {
     "data": {
      "text/plain": "'regulamento'"
     },
     "execution_count": 40,
     "metadata": {},
     "output_type": "execute_result"
    }
   ],
   "source": [
    "predict[0][0]['answer'][1]"
   ],
   "metadata": {
    "collapsed": false,
    "pycharm": {
     "name": "#%%\n"
    }
   }
  }
 ],
 "metadata": {
  "kernelspec": {
   "display_name": "Python 3",
   "language": "python",
   "name": "python3"
  },
  "language_info": {
   "codemirror_mode": {
    "name": "ipython",
    "version": 2
   },
   "file_extension": ".py",
   "mimetype": "text/x-python",
   "name": "python",
   "nbconvert_exporter": "python",
   "pygments_lexer": "ipython2",
   "version": "2.7.6"
  }
 },
 "nbformat": 4,
 "nbformat_minor": 0
}