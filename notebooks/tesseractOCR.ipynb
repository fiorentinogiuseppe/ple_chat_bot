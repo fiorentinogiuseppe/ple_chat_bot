{
 "nbformat": 4,
 "nbformat_minor": 0,
 "metadata": {
  "colab": {
   "name": "Cópia de Example-TesseractOCR.ipynb",
   "provenance": []
  },
  "kernelspec": {
   "name": "python3",
   "language": "python",
   "display_name": "Python 3"
  }
 },
 "cells": [
  {
   "cell_type": "markdown",
   "metadata": {
    "id": "edzhZXHq4L4s"
   },
   "source": [
    "# Install dependencies"
   ]
  },
  {
   "cell_type": "markdown",
   "metadata": {
    "id": "1KyzRWkj4Sft"
   },
   "source": [
    "# Upload PDF"
   ]
  },
  {
   "cell_type": "code",
   "metadata": {
    "id": "pd-49CB_1jXX",
    "outputId": "d7b88a9e-5885-4b4c-9407-8fc5af22b445",
    "colab": {
     "resources": {
      "http://localhost:8080/nbextensions/google.colab/files.js": {
       "data": "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",
       "ok": true,
       "headers": [
        [
         "content-type",
         "application/javascript"
        ]
       ],
       "status": 200,
       "status_text": ""
      }
     },
     "base_uri": "https://localhost:8080/",
     "height": 70
    }
   },
   "source": [
    "# Extract Text "
   ],
   "execution_count": null,
   "outputs": [
    {
     "output_type": "display_data",
     "data": {
      "text/html": [
       "\n",
       "     <input type=\"file\" id=\"files-30a36bc4-35c2-4b73-862f-7df8d57f9900\" name=\"files[]\" multiple disabled\n",
       "        style=\"border:none\" />\n",
       "     <output id=\"result-30a36bc4-35c2-4b73-862f-7df8d57f9900\">\n",
       "      Upload widget is only available when the cell has been executed in the\n",
       "      current browser session. Please rerun this cell to enable.\n",
       "      </output>\n",
       "      <script src=\"/nbextensions/google.colab/files.js\"></script> "
      ],
      "text/plain": [
       "<IPython.core.display.HTML object>"
      ]
     },
     "metadata": {
      "tags": []
     }
    },
    {
     "output_type": "stream",
     "text": [
      "Saving Histขrico Folha 1.pdf to Histขrico Folha 1.pdf\n"
     ],
     "name": "stdout"
    }
   ]
  },
  {
   "cell_type": "code",
   "metadata": {
    "id": "jC8xd5iX1dkJ"
   },
   "source": [
    "from pdf2image import convert_from_bytes, convert_from_path\n",
    "import pytesseract\n",
    "import numpy as np\n",
    "import cv2\n",
    "from PIL import Image"
   ],
   "execution_count": 3,
   "outputs": []
  },
  {
   "cell_type": "code",
   "metadata": {
    "id": "90c6diKB10FT"
   },
   "source": [
    "def binarization(image):\n",
    "    image = image.convert('RGB')\n",
    "    npimage = np.asarray(image).astype(np.uint8)\n",
    "    npimage[:, :, 0] = 0\n",
    "    npimage[:, :, 2] = 0\n",
    "    im = cv2.cvtColor(npimage, cv2.COLOR_RGB2GRAY)\n",
    "    ret, thresh = cv2.threshold(im, 80, 255, cv2.THRESH_BINARY | cv2.THRESH_OTSU)\n",
    "    binimage = Image.fromarray(thresh)\n",
    "    return binimage\n",
    "\n",
    "def get_pages_as_images(path):\n",
    "    images = convert_from_path(path)\n",
    "    for image in images:\n",
    "        left = image.size[0]*0.05\n",
    "        right = image.size[0]*0.95\n",
    "        top = image.size[1]*0.05\n",
    "        bottom = image.size[1]*0.95\n",
    "        image = image.crop((left, top, right,bottom))\n",
    "        image = binarization(image)\n",
    "    return images\n",
    "\n",
    "def get_ocr_documents(images):\n",
    "    pages_text = []\n",
    "    for image in images:\n",
    "        pages_text.append(pytesseract.image_to_string(image, lang='por'))\n",
    "    return ''.join(pages_text)"
   ],
   "execution_count": 25,
   "outputs": []
  },
  {
   "cell_type": "code",
   "metadata": {
    "id": "qZlni67W10UB"
   },
   "source": [
    "from pdf2image import convert_from_path, convert_from_bytes\n",
    "images_path = \"/home/giuseppe/PycharmProjects/ple_chat_bot/resources/REGULAMENTO PLE_GERAL - FINAL CEPE_0.pdf\""
   ],
   "execution_count": 17,
   "outputs": []
  },
  {
   "cell_type": "code",
   "execution_count": 26,
   "outputs": [],
   "source": [
    "images = get_pages_as_images(images_path)"
   ],
   "metadata": {
    "collapsed": false,
    "pycharm": {
     "name": "#%%\n"
    }
   }
  },
  {
   "cell_type": "code",
   "metadata": {
    "id": "wpNhTnzJ3JCx",
    "pycharm": {
     "is_executing": true
    }
   },
   "source": [
    "pages_text = get_ocr_documents(images)"
   ],
   "execution_count": null,
   "outputs": []
  },
  {
   "cell_type": "markdown",
   "metadata": {
    "id": "gYowlRN94pZJ"
   },
   "source": [
    "# Print Text"
   ]
  },
  {
   "cell_type": "code",
   "metadata": {
    "id": "3XtJxetn3rY-",
    "outputId": "21038d82-235f-4cbf-9e44-a74e87beb3e6",
    "colab": {
     "base_uri": "https://localhost:8080/",
     "height": 1000
    },
    "pycharm": {
     "name": "#%%\n"
    }
   },
   "source": [
    "print(pages_text)"
   ],
   "execution_count": null,
   "outputs": [
    {
     "output_type": "stream",
     "text": [
      "Portaria de Credenciamento Nº 701, de 28 maio de 2012, DOU Nº\n",
      "de 29/5/2012\n",
      "\n",
      "UNINASSAU RECIFE - GRAÇAS\n",
      "Rua Fernando Lopes 146\n",
      "Graças Recife PE S2011220\n",
      "\n",
      "103, seção 1, pág 49,\n",
      "\n",
      " \n",
      "\n",
      "-\n",
      "\n",
      "UNINASSAU\n",
      "\n",
      "AURÍCIO DE MASSAU\n",
      "\n",
      " \n",
      "\n",
      "    \n",
      "          \n",
      "    \n",
      " \n",
      " \n",
      "   \n",
      " \n",
      " \n",
      "\n",
      "1 UIMIVERSITARIO MA\n",
      "\n",
      " \n",
      "\n",
      "      \n",
      "\n",
      " \n",
      "\n",
      "ORGÃO SDS PE CPr. 0978222464 DATA NASCIMENTO 1270/1992\n",
      "\n",
      "NATURALIDADE\n",
      "\n",
      " \n",
      " \n",
      "\n",
      "PORTARIA\n",
      "RENOVADO O RECONHECIMENTO: PORTARIA Nº 915, DE 27/12/2018, DOU Nº 249, SEÇÃO 1, PÁGs.156/163, DE 28/12/2018 Rio de Janeiro\n",
      "\n",
      " \n",
      "\n",
      "CURSO / HABILITAÇÃO\n",
      "SISTEMAS DE INFORMAÇÃO BACHARELADO EM SISTEMAS DE INFORMAÇÃO\n",
      "\n",
      "  \n",
      "    \n",
      "\n",
      "           \n",
      "\n",
      "    \n",
      "\n",
      "    \n",
      "\n",
      "   \n",
      "\n",
      "  \n",
      "\n",
      "PERÍODOS UTILIZADOS\n",
      "3\n",
      "\n",
      "DURAÇÃO DO CURSO\n",
      "3\n",
      "\n",
      "DATA DE CONCLUSÃO DATA EXP. DIPLOMA\n",
      "\n",
      "29/12/2018\n",
      "\n",
      "DATA DE COLAÇÃO\n",
      "23/01/2019\n",
      "\n",
      "MÉDIA GLOBAL\n",
      "\n",
      "     \n",
      "\n",
      "      \n",
      "  \n",
      "   \n",
      "   \n",
      "\n",
      "      \n",
      "\n",
      "         \n",
      "\n",
      "ENADE\n",
      "“Estudante dispensado de realização do ENADE, em razão do calendário trienal ”\n",
      "\n",
      "  \n",
      "\n",
      "ANO E ESTABELECIMENTO DE CONCLI O DO 2º GRAL\n",
      "\n",
      " \n",
      "\n",
      "Processo Seletivo\n",
      "\n",
      "FORMA DE ADMISSÃO À FACULDADE / CURSO\n",
      "PROCESSO SELETIVO TRADICIONAL Total de Pontos 580,0000 Média 4! Mês / Ano: 02/2015\n",
      "\n",
      " \n",
      "\n",
      "Elteiplinas Cursadas / Dispensadas\n",
      "\n",
      "Teia Componente Curi eee =\n",
      "\n",
      "    \n",
      "   \n",
      "   \n",
      "   \n",
      "   \n",
      "   \n",
      "   \n",
      "      \n",
      "   \n",
      "    \n",
      "  \n",
      "  \n",
      "  \n",
      "  \n",
      "  \n",
      "  \n",
      "  \n",
      "  \n",
      "   \n",
      "   \n",
      "   \n",
      "   \n",
      "   \n",
      "   \n",
      "   \n",
      "   \n",
      "    \n",
      "   \n",
      "   \n",
      "   \n",
      "   \n",
      "  \n",
      "  \n",
      "   \n",
      "\n",
      " \n",
      "\n",
      " \n",
      "\n",
      "20151 028500 MATEMÁTICA APLICADA 850 APROVADO POR MÉDIA\n",
      "20151 748600 INFORMATICA 8,50 49 [APROVADO POR MÉDIA\n",
      "20151 750700 COMUNICAÇÃO E EXPRESSÃO 932 40 [APROVADO POR MÉDIA\n",
      "20151 993800 LOGICA DE PROGRAMAÇÃO ALGORÍTMICA 6,25 50 [APROVADO NA FINAL\n",
      "20151 994400 PROGRAMAÇÃO [ 925 89 [APROVADO POR MEDIA\n",
      "20151 993700 LÓGICA MATEMÁTICA. 825 60 [APROVADO POR MÉDIA\n",
      "20152 9961400 |FUNDAMENTOS DE ADMINISTRAÇÃO sos 60 [APROVADO POR MÉDIA\n",
      "20152 9944300 ORGANIZAÇÃO E ARQUITETURA DE COMPUTADORES 8,00 20 [APROVADO POR MÉDIA\n",
      "20152 9914300 BANCO DE DADOS | 700 60 | APROVADO POR MÉDIA\n",
      "20152 1382000 METODOLOGIA DA PESQUISA 9,00 40 [APROVADO POR MÉDIA\n",
      "146600 PROGRAMAÇÃO IL 7,88 60 [APROVADO NA FINAL\n",
      "500700 PROBABILIDADE E ESTATÍSTICA 82s 60 [APROVADO POR MÉDIA\n",
      "721200 ESTRUTURA DE DADOS 325 60 [APROVADO POR MÉDIA\n",
      "096501 TÓPICOS INTEGRADORES 1 40 [APROVADO POR MÉDIA\n",
      "063501 SISTEMAS OPERACIONAIS sas 60 [APROVADO NA FINAL\n",
      "9915300 PROGRAMAÇÃO III 7,50 80 [APROVADO POR MÉDIA\n",
      "723700 FILOSOFIA, ÉTICA E CIDADANIA 8,50 40 [APROVADO POR MÉDIA\n",
      "9961500 BANCO DE DADOS Il 8,50 60 | APROVADO POR MÉDIA\n",
      "20102 9961600 ENGENHARIA DE SOFTWARE z8s 60 [APROVADO POR MEDIA\n",
      "20162 9961700 PESQUISA E ORDENAÇÃO 7,50 40 [APROVADO POR MÉDIA\n",
      "20162 9935700 FUNDAMENTOS DE SISTEMAS DE INFORMAÇÃO 9,00 60 [APROVADO POR MEDIA\n",
      "20162 145602 PESQUISA OPERACIONAL 740 40 [APROVADO POR MÉDIA\n",
      "20162 721800 REDES DE COMPUTADORES 1 sós 60 [APROVADO NA FINAL\n",
      "20162 426900 EMPREENDEDORISMO 688 40 [APROVADO NA FINAL\n",
      "20162 146801 PROGRAMAÇÃO IV 6,50 so [APROVADO NA FINAL\n",
      "20171 096701 TÓPICOS INTEGRADORES II 7,00 40 [APROVADO POR MÉDIA\n",
      "20171 088900 LINGUAGENS FORMAIS E AUTÔMATOS 7,90 60 |APROVADO POR MÉDIA\n",
      "20171 osggao METODOLOGIA DE DESENVOLVIMENTO DE SISTEMAS 725 60 [APROVADO POR MÉDIA\n",
      "20171 9936201 ENGENHARIA DE REQUISITOS 583 40 [APROVADO NA FINAL\n",
      "20171 9936300 [USABILIDADE E INTERFACE HOMEM-MÁQUINA. 7,90 60 [APROVADO POR MÉDIA\n",
      "20171 722600 REDES DE COMPUTADORES II 5,00 60 [APROVADO NA FINAL\n",
      "9915700 DESENVOLVIMENTO DE APLICAÇÕES PARA INTERNET 7,50 89 [APROVADO POR MÉDIA\n",
      "0995800 INTELIGÊNCIA ARTIFICIAL 8,00 60 JAPROVADO POR MÉDIA\n",
      "— s25801 ARQUITETURA DE SOFTWARE 6,20 40 [APROVADO NA FINAL\n",
      "SEGURANÇA DA INFORMAÇÃO 10,00 60 [APROVADO POR MÉDIA\n",
      "ANÁLISE E PROJETO DE SISTEMAS ORIENTADOS A OBJETOS 8.50 60 [APROVADO POR MÉDIA\n",
      "\n",
      "Digitalizado com CamScanner\n"
     ],
     "name": "stdout"
    }
   ]
  }
 ]
}